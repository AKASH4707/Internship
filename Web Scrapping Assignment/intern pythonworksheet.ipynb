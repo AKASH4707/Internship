{
 "cells": [
  {
   "cell_type": "markdown",
   "id": "e285d2b3",
   "metadata": {},
   "source": [
    "# PYTHON WORKSHEET"
   ]
  },
  {
   "cell_type": "raw",
   "id": "2d7eef4a",
   "metadata": {},
   "source": [
    "ANS1- c-%\n",
    "ANS2- b-0\n",
    "ANS3- c-24\n",
    "ANS4- a-2\n",
    "ANS5- d-6\n",
    "ANS6- c-the finally block will be executed no matter if the try block raises an error or not\n",
    "ANS7- a-It is used to raise an exception\n",
    "ANS8- c-In defining a generator\n",
    "ANS9- b-1abc\n",
    "ANS10- d-all of the above"
   ]
  },
  {
   "cell_type": "code",
   "execution_count": 1,
   "id": "3f904498",
   "metadata": {},
   "outputs": [
    {
     "name": "stdout",
     "output_type": "stream",
     "text": [
      "any number to find the factorial4\n",
      "the factorial of 4=24\n"
     ]
    }
   ],
   "source": [
    "#ANS 11- to find the factorial of a number\n",
    "import math\n",
    "number= int(input(\"any number to find the factorial\"))\n",
    "fact= math.factorial(number)\n",
    "print(\"the factorial of %d=%d\" % (number,fact))"
   ]
  },
  {
   "cell_type": "code",
   "execution_count": 2,
   "id": "ad37aa5c",
   "metadata": {},
   "outputs": [
    {
     "name": "stdout",
     "output_type": "stream",
     "text": [
      "14 is not a prime number\n"
     ]
    }
   ],
   "source": [
    "# ANS 12- Python program to check if given number is prime or not\n",
    " \n",
    "num = 14\n",
    " \n",
    "# If given number is greater than 1\n",
    "if num > 1:\n",
    " \n",
    "    # Iterate from 2 to n / 2\n",
    "    for i in range(2, int(num/2)+1):\n",
    " \n",
    "        # If num is divisible by any number between\n",
    "        # 2 and n / 2, it is not prime\n",
    "        if (num % i) == 0:\n",
    "            print(num, \"is not a prime number\")\n",
    "            break\n",
    "    else:\n",
    "        print(num, \"is a prime number\")\n",
    " \n",
    "else:\n",
    "    print(num, \"is not a prime number\")"
   ]
  },
  {
   "cell_type": "code",
   "execution_count": 3,
   "id": "8b40190a",
   "metadata": {},
   "outputs": [
    {
     "name": "stdout",
     "output_type": "stream",
     "text": [
      "Please enter your own String : aabbaa\n",
      "String in reverse Order :   aabbaa\n",
      "This is a Palindrome String\n"
     ]
    }
   ],
   "source": [
    "#ANS 13- Python Program to Check a Given String is Palindrome or Not\n",
    "\n",
    "string = input(\"Please enter your own String : \")\n",
    "str1 = \"\"\n",
    "\n",
    "for i in string:\n",
    "    str1 = i + str1  \n",
    "print(\"String in reverse Order :  \", str1)\n",
    "\n",
    "if(string == str1):\n",
    "   print(\"This is a Palindrome String\")\n",
    "else:\n",
    "   print(\"This is Not a Palindrome String\")"
   ]
  },
  {
   "cell_type": "code",
   "execution_count": 4,
   "id": "150a1b90",
   "metadata": {},
   "outputs": [
    {
     "name": "stdout",
     "output_type": "stream",
     "text": [
      "Input lengths of shorter triangle sides:\n",
      "a: 3\n",
      "b: 4\n",
      "The length of the hypotenuse is: 5.0\n"
     ]
    }
   ],
   "source": [
    "#ANS 14- python program to find the third side of a right angled triange\n",
    "from math import sqrt\n",
    "print(\"Input lengths of shorter triangle sides:\")\n",
    "a = float(input(\"a: \"))\n",
    "b = float(input(\"b: \"))\n",
    "c = sqrt(a**2 + b**2)\n",
    "print(\"The length of the hypotenuse is:\", c )"
   ]
  },
  {
   "cell_type": "code",
   "execution_count": 5,
   "id": "7aed5c29",
   "metadata": {},
   "outputs": [
    {
     "name": "stdout",
     "output_type": "stream",
     "text": [
      "Per char frequency in 'Data Science' is :\n",
      " Counter({'a': 2, 'c': 2, 'e': 2, 'D': 1, 't': 1, ' ': 1, 'S': 1, 'i': 1, 'n': 1})\n",
      "Type of frequency_per_char is:  <class 'collections.Counter'>\n"
     ]
    }
   ],
   "source": [
    "#ANS-15-To print the frequency of characters in a string\n",
    "from collections import Counter\n",
    "\n",
    "input_string = \"Data Science\"\n",
    "\n",
    "frequency_per_char = Counter(input_string)\n",
    "\n",
    "# Show Output\n",
    "print (\"Per char frequency in '{}' is :\\n {}\".format(input_string, str(frequency_per_char)))\n",
    "print (\"Type of frequency_per_char is: \", type(frequency_per_char))"
   ]
  },
  {
   "cell_type": "code",
   "execution_count": null,
   "id": "2e596c2a",
   "metadata": {},
   "outputs": [],
   "source": []
  }
 ],
 "metadata": {
  "kernelspec": {
   "display_name": "Python 3",
   "language": "python",
   "name": "python3"
  },
  "language_info": {
   "codemirror_mode": {
    "name": "ipython",
    "version": 3
   },
   "file_extension": ".py",
   "mimetype": "text/x-python",
   "name": "python",
   "nbconvert_exporter": "python",
   "pygments_lexer": "ipython3",
   "version": "3.8.8"
  }
 },
 "nbformat": 4,
 "nbformat_minor": 5
}
