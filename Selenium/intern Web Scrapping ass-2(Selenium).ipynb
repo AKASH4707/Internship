{
 "cells": [
  {
   "cell_type": "markdown",
   "id": "4e898031",
   "metadata": {},
   "source": [
    "# Ans-1: Write a python program to scrape data for “Data Analyst” Job position in “Bangalore” location. \n",
    "you have to scrape the job-title, job-location, company_name, experience_required. You have to scrape first 10 \n",
    "jobs data"
   ]
  },
  {
   "cell_type": "code",
   "execution_count": 20,
   "id": "ca5b8af0",
   "metadata": {},
   "outputs": [
    {
     "name": "stdout",
     "output_type": "stream",
     "text": [
      "Requirement already satisfied: selenium in c:\\users\\akash manral\\anaconda3\\lib\\site-packages (4.0.0)\n",
      "Requirement already satisfied: urllib3[secure]~=1.26 in c:\\users\\akash manral\\anaconda3\\lib\\site-packages (from selenium) (1.26.4)\n",
      "Requirement already satisfied: trio~=0.17 in c:\\users\\akash manral\\anaconda3\\lib\\site-packages (from selenium) (0.19.0)\n",
      "Requirement already satisfied: trio-websocket~=0.9 in c:\\users\\akash manral\\anaconda3\\lib\\site-packages (from selenium) (0.9.2)\n",
      "Requirement already satisfied: outcome in c:\\users\\akash manral\\anaconda3\\lib\\site-packages (from trio~=0.17->selenium) (1.1.0)\n",
      "Requirement already satisfied: cffi>=1.14 in c:\\users\\akash manral\\anaconda3\\lib\\site-packages (from trio~=0.17->selenium) (1.14.5)\n",
      "Requirement already satisfied: idna in c:\\users\\akash manral\\anaconda3\\lib\\site-packages (from trio~=0.17->selenium) (2.10)\n",
      "Requirement already satisfied: async-generator>=1.9 in c:\\users\\akash manral\\anaconda3\\lib\\site-packages (from trio~=0.17->selenium) (1.10)\n",
      "Requirement already satisfied: sniffio in c:\\users\\akash manral\\anaconda3\\lib\\site-packages (from trio~=0.17->selenium) (1.2.0)\n",
      "Requirement already satisfied: attrs>=19.2.0 in c:\\users\\akash manral\\anaconda3\\lib\\site-packages (from trio~=0.17->selenium) (20.3.0)\n",
      "Requirement already satisfied: sortedcontainers in c:\\users\\akash manral\\anaconda3\\lib\\site-packages (from trio~=0.17->selenium) (2.3.0)\n",
      "Requirement already satisfied: pycparser in c:\\users\\akash manral\\anaconda3\\lib\\site-packages (from cffi>=1.14->trio~=0.17->selenium) (2.20)\n",
      "Requirement already satisfied: wsproto>=0.14 in c:\\users\\akash manral\\anaconda3\\lib\\site-packages (from trio-websocket~=0.9->selenium) (1.0.0)\n",
      "Requirement already satisfied: pyOpenSSL>=0.14 in c:\\users\\akash manral\\anaconda3\\lib\\site-packages (from urllib3[secure]~=1.26->selenium) (20.0.1)\n",
      "Requirement already satisfied: certifi in c:\\users\\akash manral\\anaconda3\\lib\\site-packages (from urllib3[secure]~=1.26->selenium) (2020.12.5)\n",
      "Requirement already satisfied: cryptography>=1.3.4 in c:\\users\\akash manral\\anaconda3\\lib\\site-packages (from urllib3[secure]~=1.26->selenium) (3.4.7)\n",
      "Requirement already satisfied: six>=1.5.2 in c:\\users\\akash manral\\anaconda3\\lib\\site-packages (from pyOpenSSL>=0.14->urllib3[secure]~=1.26->selenium) (1.15.0)\n",
      "Requirement already satisfied: h11<1,>=0.9.0 in c:\\users\\akash manral\\anaconda3\\lib\\site-packages (from wsproto>=0.14->trio-websocket~=0.9->selenium) (0.12.0)\n",
      "Requirement already satisfied: webdriver_manager in c:\\users\\akash manral\\anaconda3\\lib\\site-packages (3.5.2)\n",
      "Requirement already satisfied: crayons in c:\\users\\akash manral\\anaconda3\\lib\\site-packages (from webdriver_manager) (0.4.0)\n",
      "Requirement already satisfied: requests in c:\\users\\akash manral\\anaconda3\\lib\\site-packages (from webdriver_manager) (2.25.1)\n",
      "Requirement already satisfied: configparser in c:\\users\\akash manral\\anaconda3\\lib\\site-packages (from webdriver_manager) (5.1.0)\n",
      "Requirement already satisfied: colorama in c:\\users\\akash manral\\anaconda3\\lib\\site-packages (from crayons->webdriver_manager) (0.4.4)\n",
      "Requirement already satisfied: idna<3,>=2.5 in c:\\users\\akash manral\\anaconda3\\lib\\site-packages (from requests->webdriver_manager) (2.10)\n",
      "Requirement already satisfied: chardet<5,>=3.0.2 in c:\\users\\akash manral\\anaconda3\\lib\\site-packages (from requests->webdriver_manager) (4.0.0)\n",
      "Requirement already satisfied: urllib3<1.27,>=1.21.1 in c:\\users\\akash manral\\anaconda3\\lib\\site-packages (from requests->webdriver_manager) (1.26.4)\n",
      "Requirement already satisfied: certifi>=2017.4.17 in c:\\users\\akash manral\\anaconda3\\lib\\site-packages (from requests->webdriver_manager) (2020.12.5)\n"
     ]
    }
   ],
   "source": [
    "!pip install selenium\n",
    "!pip install webdriver_manager"
   ]
  },
  {
   "cell_type": "code",
   "execution_count": 21,
   "id": "20efe1ce",
   "metadata": {},
   "outputs": [],
   "source": [
    "from selenium import webdriver\n",
    "from webdriver_manager.chrome import ChromeDriverManager\n",
    "import pandas as pd\n",
    "import warnings\n",
    "warnings.filterwarnings('ignore')"
   ]
  },
  {
   "cell_type": "code",
   "execution_count": 22,
   "id": "faf8ae7c",
   "metadata": {},
   "outputs": [],
   "source": [
    "path= \"C:\\Program Files (x86)\\Google\\Chrome\\Application\\chrome.exe\""
   ]
  },
  {
   "cell_type": "code",
   "execution_count": 23,
   "id": "57fd3ba7",
   "metadata": {},
   "outputs": [],
   "source": [
    "from selenium.webdriver.chrome.service import Service\n",
    "s=Service(\"C:\\Program Files (x86)\\Google\\Chrome\\Application\\chrome.exe\")"
   ]
  },
  {
   "cell_type": "code",
   "execution_count": 24,
   "id": "0882f01f",
   "metadata": {},
   "outputs": [
    {
     "name": "stderr",
     "output_type": "stream",
     "text": [
      "\n",
      "\n",
      "====== WebDriver manager ======\n",
      "Current google-chrome version is 95.0.4638\n",
      "Get LATEST chromedriver version for 95.0.4638 google-chrome\n",
      "Driver [C:\\Users\\Akash Manral\\.wdm\\drivers\\chromedriver\\win32\\95.0.4638.69\\chromedriver.exe] found in cache\n"
     ]
    }
   ],
   "source": [
    "driver  = webdriver.Chrome(ChromeDriverManager().install())"
   ]
  },
  {
   "cell_type": "code",
   "execution_count": 45,
   "id": "3bf8b30a",
   "metadata": {},
   "outputs": [],
   "source": [
    "driver.get(\"https://www.naukri.com/ \")"
   ]
  },
  {
   "cell_type": "code",
   "execution_count": 46,
   "id": "188c5399",
   "metadata": {},
   "outputs": [],
   "source": [
    "driver.find_element_by_name('keyword').send_keys('Data Analyst')\n",
    "driver.find_element_by_name(\"location\").send_keys('Bangalore')"
   ]
  },
  {
   "cell_type": "code",
   "execution_count": 47,
   "id": "832fa81e",
   "metadata": {},
   "outputs": [],
   "source": [
    "driver.find_element_by_xpath(\"//div[@class='search-btn']/button\").click()"
   ]
  },
  {
   "cell_type": "code",
   "execution_count": 48,
   "id": "cadbac53",
   "metadata": {},
   "outputs": [],
   "source": [
    "name=driver.find_elements_by_xpath(\"//a[@class='title fw500 ellipsis']\")"
   ]
  },
  {
   "cell_type": "code",
   "execution_count": 50,
   "id": "080c916f",
   "metadata": {},
   "outputs": [
    {
     "data": {
      "text/plain": [
       "['Data Analyst',\n",
       " 'Data Analyst - Flipkart Analytics',\n",
       " 'Senior Data Analyst',\n",
       " 'Business Data Analyst - Database Design/Mining',\n",
       " 'Urgent Openings For Data Analyst / Business Analyst',\n",
       " 'Professional 1 Data Analyst',\n",
       " 'Business Data Analyst(BigId) - Capco - Bangalore',\n",
       " 'Senior Data Analyst',\n",
       " 'Data Analyst',\n",
       " 'IT Risk Data Analyst-1',\n",
       " 'Global Data Analyst / Data Steward',\n",
       " 'Senior Data Analyst',\n",
       " 'Sr Data Analyst',\n",
       " 'DATA ANALYST',\n",
       " 'Opportunity For Business Data Analyst',\n",
       " 'Data Engineer & Data Analyst',\n",
       " 'Data Engineer & Data Analyst',\n",
       " 'Data Analyst',\n",
       " 'Hiring For Data Analyst // Bangalore Location // Sal up-to 10LPA',\n",
       " 'Looking For Data Analyst']"
      ]
     },
     "execution_count": 50,
     "metadata": {},
     "output_type": "execute_result"
    }
   ],
   "source": [
    "title = []\n",
    "for i in range(len(name)):\n",
    "     title.append(name[i].text)\n",
    "\n",
    "title"
   ]
  },
  {
   "cell_type": "code",
   "execution_count": 51,
   "id": "039a0081",
   "metadata": {},
   "outputs": [],
   "source": [
    "location=driver.find_elements_by_xpath(\"//li[@class='fleft grey-text br2 placeHolderLi location']\")"
   ]
  },
  {
   "cell_type": "code",
   "execution_count": 52,
   "id": "0f88be43",
   "metadata": {},
   "outputs": [
    {
     "data": {
      "text/plain": [
       "['Bangalore/Bengaluru',\n",
       " 'Bangalore/Bengaluru(Bellandur)',\n",
       " 'Bangalore/Bengaluru',\n",
       " 'Bangalore/Bengaluru',\n",
       " 'Bangalore/Bengaluru\\n(WFH during Covid)',\n",
       " 'Bangalore/Bengaluru',\n",
       " 'Bangalore/Bengaluru',\n",
       " 'Bangalore/Bengaluru',\n",
       " 'Bangalore/Bengaluru',\n",
       " 'Bangalore/Bengaluru',\n",
       " 'Bangalore/Bengaluru',\n",
       " 'Bangalore/Bengaluru',\n",
       " 'Bangalore/Bengaluru',\n",
       " 'Bangalore/Bengaluru',\n",
       " 'Bangalore/Bengaluru, Mumbai (All Areas)',\n",
       " 'Hyderabad/Secunderabad, Chennai, Bangalore/Bengaluru',\n",
       " 'Hyderabad/Secunderabad, Chennai, Bangalore/Bengaluru',\n",
       " 'Bangalore/Bengaluru',\n",
       " 'Bangalore/Bengaluru',\n",
       " 'Bangalore/Bengaluru']"
      ]
     },
     "execution_count": 52,
     "metadata": {},
     "output_type": "execute_result"
    }
   ],
   "source": [
    "locations=[]\n",
    "for i in range(len(location)):\n",
    "    locations.append(location[i].text)\n",
    "locations    "
   ]
  },
  {
   "cell_type": "code",
   "execution_count": 59,
   "id": "29d1da31",
   "metadata": {},
   "outputs": [],
   "source": [
    "company=driver.find_elements_by_xpath(\"//a[@class='subTitle ellipsis fleft']\")"
   ]
  },
  {
   "cell_type": "code",
   "execution_count": 62,
   "id": "8b3d1126",
   "metadata": {},
   "outputs": [
    {
     "data": {
      "text/plain": [
       "['Rupeek Fintech Pvt Ltd',\n",
       " 'Flipkart',\n",
       " 'Advanced Computer Software',\n",
       " 'AugmatrixGo',\n",
       " 'Flipkart',\n",
       " 'DXC Technology',\n",
       " 'Capco Technologies Pvt Ltd',\n",
       " 'Red Hat',\n",
       " 'IDC CENTRE FOR CONSULTANCY AND RESEARCH PRIVATE L IMITED',\n",
       " 'Epsilon',\n",
       " 'QlikTech International',\n",
       " 'Pioneer Business Solutions',\n",
       " 'Pioneer Business Solutions',\n",
       " 'Collins Aerospace',\n",
       " 'Botree Software International Private Limited',\n",
       " 'IDC TECHNOLOGIES SOLUTIONS INDIA PVT LIMITED',\n",
       " 'IDC TECHNOLOGIES SOLUTIONS INDIA PVT LIMITED',\n",
       " 'Applied Materials',\n",
       " 'Zetwerk Manufacturing Businesses Private Limited',\n",
       " 'CUREFIT HEALTHCARE PRIVATE LIMITED.']"
      ]
     },
     "execution_count": 62,
     "metadata": {},
     "output_type": "execute_result"
    }
   ],
   "source": [
    "companies=[]\n",
    "for i in range(len(company)):\n",
    "    companies.append(company[i].text)\n",
    "companies    "
   ]
  },
  {
   "cell_type": "code",
   "execution_count": 65,
   "id": "22f8c2c1",
   "metadata": {},
   "outputs": [],
   "source": [
    "exp=driver.find_elements_by_xpath(\"//li[@class='fleft grey-text br2 placeHolderLi experience']\")"
   ]
  },
  {
   "cell_type": "code",
   "execution_count": 66,
   "id": "189d560c",
   "metadata": {},
   "outputs": [
    {
     "data": {
      "text/plain": [
       "['0-2 Yrs',\n",
       " '0-3 Yrs',\n",
       " '3-5 Yrs',\n",
       " '2-5 Yrs',\n",
       " '1-6 Yrs',\n",
       " '3-8 Yrs',\n",
       " '3-8 Yrs',\n",
       " '2-5 Yrs',\n",
       " '3-7 Yrs',\n",
       " '5-8 Yrs',\n",
       " '1-4 Yrs',\n",
       " '6-11 Yrs',\n",
       " '3-8 Yrs',\n",
       " '2-5 Yrs',\n",
       " '3-6 Yrs',\n",
       " '3-8 Yrs',\n",
       " '3-8 Yrs',\n",
       " '0-3 Yrs',\n",
       " '2-5 Yrs',\n",
       " '1-3 Yrs']"
      ]
     },
     "execution_count": 66,
     "metadata": {},
     "output_type": "execute_result"
    }
   ],
   "source": [
    "exps=[]\n",
    "for i in range(len(exp)):\n",
    "    exps.append(exp[i].text)\n",
    "exps    "
   ]
  },
  {
   "cell_type": "code",
   "execution_count": 68,
   "id": "d21cad9b",
   "metadata": {},
   "outputs": [
    {
     "data": {
      "text/html": [
       "<div>\n",
       "<style scoped>\n",
       "    .dataframe tbody tr th:only-of-type {\n",
       "        vertical-align: middle;\n",
       "    }\n",
       "\n",
       "    .dataframe tbody tr th {\n",
       "        vertical-align: top;\n",
       "    }\n",
       "\n",
       "    .dataframe thead th {\n",
       "        text-align: right;\n",
       "    }\n",
       "</style>\n",
       "<table border=\"1\" class=\"dataframe\">\n",
       "  <thead>\n",
       "    <tr style=\"text-align: right;\">\n",
       "      <th></th>\n",
       "      <th>Job Title</th>\n",
       "      <th>Job Location</th>\n",
       "      <th>Company Name</th>\n",
       "      <th>Experience Required</th>\n",
       "    </tr>\n",
       "  </thead>\n",
       "  <tbody>\n",
       "    <tr>\n",
       "      <th>0</th>\n",
       "      <td>Data Analyst</td>\n",
       "      <td>Bangalore/Bengaluru</td>\n",
       "      <td>Rupeek Fintech Pvt Ltd</td>\n",
       "      <td>0-2 Yrs</td>\n",
       "    </tr>\n",
       "    <tr>\n",
       "      <th>1</th>\n",
       "      <td>Data Analyst - Flipkart Analytics</td>\n",
       "      <td>Bangalore/Bengaluru(Bellandur)</td>\n",
       "      <td>Flipkart</td>\n",
       "      <td>0-3 Yrs</td>\n",
       "    </tr>\n",
       "    <tr>\n",
       "      <th>2</th>\n",
       "      <td>Senior Data Analyst</td>\n",
       "      <td>Bangalore/Bengaluru</td>\n",
       "      <td>Advanced Computer Software</td>\n",
       "      <td>3-5 Yrs</td>\n",
       "    </tr>\n",
       "    <tr>\n",
       "      <th>3</th>\n",
       "      <td>Business Data Analyst - Database Design/Mining</td>\n",
       "      <td>Bangalore/Bengaluru</td>\n",
       "      <td>AugmatrixGo</td>\n",
       "      <td>2-5 Yrs</td>\n",
       "    </tr>\n",
       "    <tr>\n",
       "      <th>4</th>\n",
       "      <td>Urgent Openings For Data Analyst / Business An...</td>\n",
       "      <td>Bangalore/Bengaluru\\n(WFH during Covid)</td>\n",
       "      <td>Flipkart</td>\n",
       "      <td>1-6 Yrs</td>\n",
       "    </tr>\n",
       "    <tr>\n",
       "      <th>5</th>\n",
       "      <td>Professional 1 Data Analyst</td>\n",
       "      <td>Bangalore/Bengaluru</td>\n",
       "      <td>DXC Technology</td>\n",
       "      <td>3-8 Yrs</td>\n",
       "    </tr>\n",
       "    <tr>\n",
       "      <th>6</th>\n",
       "      <td>Business Data Analyst(BigId) - Capco - Bangalore</td>\n",
       "      <td>Bangalore/Bengaluru</td>\n",
       "      <td>Capco Technologies Pvt Ltd</td>\n",
       "      <td>3-8 Yrs</td>\n",
       "    </tr>\n",
       "    <tr>\n",
       "      <th>7</th>\n",
       "      <td>Senior Data Analyst</td>\n",
       "      <td>Bangalore/Bengaluru</td>\n",
       "      <td>Red Hat</td>\n",
       "      <td>2-5 Yrs</td>\n",
       "    </tr>\n",
       "    <tr>\n",
       "      <th>8</th>\n",
       "      <td>Data Analyst</td>\n",
       "      <td>Bangalore/Bengaluru</td>\n",
       "      <td>IDC CENTRE FOR CONSULTANCY AND RESEARCH PRIVAT...</td>\n",
       "      <td>3-7 Yrs</td>\n",
       "    </tr>\n",
       "    <tr>\n",
       "      <th>9</th>\n",
       "      <td>IT Risk Data Analyst-1</td>\n",
       "      <td>Bangalore/Bengaluru</td>\n",
       "      <td>Epsilon</td>\n",
       "      <td>5-8 Yrs</td>\n",
       "    </tr>\n",
       "  </tbody>\n",
       "</table>\n",
       "</div>"
      ],
      "text/plain": [
       "                                           Job Title  \\\n",
       "0                                       Data Analyst   \n",
       "1                  Data Analyst - Flipkart Analytics   \n",
       "2                                Senior Data Analyst   \n",
       "3     Business Data Analyst - Database Design/Mining   \n",
       "4  Urgent Openings For Data Analyst / Business An...   \n",
       "5                        Professional 1 Data Analyst   \n",
       "6   Business Data Analyst(BigId) - Capco - Bangalore   \n",
       "7                                Senior Data Analyst   \n",
       "8                                       Data Analyst   \n",
       "9                             IT Risk Data Analyst-1   \n",
       "\n",
       "                              Job Location  \\\n",
       "0                      Bangalore/Bengaluru   \n",
       "1           Bangalore/Bengaluru(Bellandur)   \n",
       "2                      Bangalore/Bengaluru   \n",
       "3                      Bangalore/Bengaluru   \n",
       "4  Bangalore/Bengaluru\\n(WFH during Covid)   \n",
       "5                      Bangalore/Bengaluru   \n",
       "6                      Bangalore/Bengaluru   \n",
       "7                      Bangalore/Bengaluru   \n",
       "8                      Bangalore/Bengaluru   \n",
       "9                      Bangalore/Bengaluru   \n",
       "\n",
       "                                        Company Name Experience Required  \n",
       "0                             Rupeek Fintech Pvt Ltd             0-2 Yrs  \n",
       "1                                           Flipkart             0-3 Yrs  \n",
       "2                         Advanced Computer Software             3-5 Yrs  \n",
       "3                                        AugmatrixGo             2-5 Yrs  \n",
       "4                                           Flipkart             1-6 Yrs  \n",
       "5                                     DXC Technology             3-8 Yrs  \n",
       "6                         Capco Technologies Pvt Ltd             3-8 Yrs  \n",
       "7                                            Red Hat             2-5 Yrs  \n",
       "8  IDC CENTRE FOR CONSULTANCY AND RESEARCH PRIVAT...             3-7 Yrs  \n",
       "9                                            Epsilon             5-8 Yrs  "
      ]
     },
     "execution_count": 68,
     "metadata": {},
     "output_type": "execute_result"
    }
   ],
   "source": [
    "data=pd.DataFrame({'Job Title':title,\"Job Location\":locations,\"Company Name\":companies,\"Experience Required\":exps})\n",
    "data[0:10]"
   ]
  },
  {
   "cell_type": "markdown",
   "id": "12182faf",
   "metadata": {},
   "source": [
    "# Ans-2-: Write a python program to scrape data for “Data Scientist” Job position in “Bangalore” location.\n",
    "you have to scrape the job-title, job-location, company_name. You have to scrape first 10 jobs data. "
   ]
  },
  {
   "cell_type": "code",
   "execution_count": 69,
   "id": "e8f21e7d",
   "metadata": {},
   "outputs": [],
   "source": [
    "from selenium import webdriver\n",
    "from webdriver_manager.chrome import ChromeDriverManager\n",
    "import pandas as pd\n",
    "import warnings\n",
    "warnings.filterwarnings('ignore')"
   ]
  },
  {
   "cell_type": "code",
   "execution_count": 70,
   "id": "21c4ac43",
   "metadata": {},
   "outputs": [],
   "source": [
    "path= \"C:\\Program Files (x86)\\Google\\Chrome\\Application\\chrome.exe\""
   ]
  },
  {
   "cell_type": "code",
   "execution_count": 71,
   "id": "2aee6296",
   "metadata": {},
   "outputs": [
    {
     "name": "stderr",
     "output_type": "stream",
     "text": [
      "\n",
      "\n",
      "====== WebDriver manager ======\n",
      "Current google-chrome version is 95.0.4638\n",
      "Get LATEST chromedriver version for 95.0.4638 google-chrome\n",
      "Driver [C:\\Users\\Akash Manral\\.wdm\\drivers\\chromedriver\\win32\\95.0.4638.69\\chromedriver.exe] found in cache\n"
     ]
    }
   ],
   "source": [
    "driver  = webdriver.Chrome(ChromeDriverManager().install())"
   ]
  },
  {
   "cell_type": "code",
   "execution_count": 72,
   "id": "795816ac",
   "metadata": {},
   "outputs": [],
   "source": [
    "driver.get(\"https://www.naukri.com/ \")"
   ]
  },
  {
   "cell_type": "code",
   "execution_count": 73,
   "id": "0afb98b9",
   "metadata": {},
   "outputs": [],
   "source": [
    "driver.find_element_by_name('keyword').send_keys('Data Scientist')\n",
    "driver.find_element_by_name(\"location\").send_keys('Bangalore')"
   ]
  },
  {
   "cell_type": "code",
   "execution_count": 74,
   "id": "1ed81dbc",
   "metadata": {},
   "outputs": [],
   "source": [
    "driver.find_element_by_xpath(\"//div[@class='search-btn']/button\").click()"
   ]
  },
  {
   "cell_type": "code",
   "execution_count": 75,
   "id": "b28329b7",
   "metadata": {},
   "outputs": [
    {
     "data": {
      "text/plain": [
       "['Process Innovation Analyst - APAC/Data Scientist - Third Party Role',\n",
       " 'Data Scientist: Advanced Analytics',\n",
       " 'Data Scientist: Artificial Intelligence',\n",
       " 'Senior Data Scientist - Insights',\n",
       " 'Senior Data Scientist - Computer Vision',\n",
       " 'Senior Data Scientist | Fortune 500 Supermarket Chain',\n",
       " 'Data Scientist /Senior Data Scientist',\n",
       " 'Sr Data Scientist / Data Scientist',\n",
       " 'Senior Data Scientist',\n",
       " 'Forecasting Analyst/ Data Scientist (US Client)',\n",
       " 'Data Scientist',\n",
       " 'Applied Data Scientist',\n",
       " 'Data Scientist | Fortune 500 Supermarket Chain',\n",
       " 'Requirement of Data Scientist - Project Management',\n",
       " 'Data Scientist',\n",
       " 'Data Scientist',\n",
       " 'Senior Data Scientist',\n",
       " 'Senior Data Scientist',\n",
       " 'Data Scientist: Advanced Analytics',\n",
       " 'Data Scientist: Artificial Intelligence']"
      ]
     },
     "execution_count": 75,
     "metadata": {},
     "output_type": "execute_result"
    }
   ],
   "source": [
    "title=driver.find_elements_by_xpath(\"//a[@class='title fw500 ellipsis']\")\n",
    "\n",
    "\n",
    "titles=[]\n",
    "for i in range(len(title)):\n",
    "    titles.append(title[i].text)\n",
    "titles    "
   ]
  },
  {
   "cell_type": "code",
   "execution_count": 76,
   "id": "70f1b74c",
   "metadata": {},
   "outputs": [
    {
     "data": {
      "text/plain": [
       "['Bangalore/Bengaluru, Hyderabad',\n",
       " 'Bangalore/Bengaluru',\n",
       " 'Bangalore/Bengaluru',\n",
       " 'Bangalore/Bengaluru',\n",
       " 'Bangalore/Bengaluru',\n",
       " 'Bangalore/Bengaluru',\n",
       " 'Chennai, Bangalore/Bengaluru\\n(WFH during Covid)',\n",
       " 'Bangalore/Bengaluru, Mumbai (All Areas)\\n(WFH during Covid)',\n",
       " 'Bangalore/Bengaluru',\n",
       " 'Gurgaon/Gurugram, Bangalore/Bengaluru\\n(WFH during Covid)',\n",
       " 'Mumbai, Bangalore/Bengaluru',\n",
       " 'Bangalore/Bengaluru',\n",
       " 'Bangalore/Bengaluru',\n",
       " 'Bangalore/Bengaluru, Mumbai (All Areas)',\n",
       " 'Bangalore/Bengaluru',\n",
       " 'Bangalore/Bengaluru',\n",
       " 'Bangalore/Bengaluru',\n",
       " 'Bangalore/Bengaluru',\n",
       " 'Bangalore/Bengaluru',\n",
       " 'Bangalore/Bengaluru']"
      ]
     },
     "execution_count": 76,
     "metadata": {},
     "output_type": "execute_result"
    }
   ],
   "source": [
    "location=driver.find_elements_by_xpath(\"//li[@class='fleft grey-text br2 placeHolderLi location']\")\n",
    "\n",
    "\n",
    "locations=[]\n",
    "for i in range(len(location)):\n",
    "    locations.append(location[i].text)\n",
    "locations    "
   ]
  },
  {
   "cell_type": "code",
   "execution_count": 77,
   "id": "8cb6d5f8",
   "metadata": {},
   "outputs": [
    {
     "data": {
      "text/plain": [
       "['Bayer',\n",
       " 'IBM India Pvt. Limited',\n",
       " 'IBM India Pvt. Limited',\n",
       " 'Autodesk India Pvt Ltd',\n",
       " 'GE Transportation',\n",
       " 'TALENT500 TECH (INDIA) PRIVATE LIMITED',\n",
       " 'Dun & Bradstreet',\n",
       " 'intelligent industrial internet systems pvt ltd.',\n",
       " 'Siemens Limited',\n",
       " 'Concentrix Daksh Services',\n",
       " 'RKSV',\n",
       " 'Tookitaki Holding PTE LTD',\n",
       " 'TALENT500 TECH (INDIA) PRIVATE LIMITED',\n",
       " 'Firstsource Solutions Limited',\n",
       " 'Gojek Tech',\n",
       " 'GO-JEK India',\n",
       " 'Search Advisers Services ( GUJ ) Pvt. Ltd.',\n",
       " 'Search Advisers Services ( GUJ ) Pvt. Ltd.',\n",
       " 'IBM India Pvt. Limited',\n",
       " 'IBM India Pvt. Limited']"
      ]
     },
     "execution_count": 77,
     "metadata": {},
     "output_type": "execute_result"
    }
   ],
   "source": [
    "company=driver.find_elements_by_xpath(\"//a[@class='subTitle ellipsis fleft']\")\n",
    "\n",
    "\n",
    "companies=[]\n",
    "for i in range(len(company)):\n",
    "    companies.append(company[i].text)\n",
    "companies"
   ]
  },
  {
   "cell_type": "code",
   "execution_count": 78,
   "id": "164b6b35",
   "metadata": {},
   "outputs": [
    {
     "data": {
      "text/html": [
       "<div>\n",
       "<style scoped>\n",
       "    .dataframe tbody tr th:only-of-type {\n",
       "        vertical-align: middle;\n",
       "    }\n",
       "\n",
       "    .dataframe tbody tr th {\n",
       "        vertical-align: top;\n",
       "    }\n",
       "\n",
       "    .dataframe thead th {\n",
       "        text-align: right;\n",
       "    }\n",
       "</style>\n",
       "<table border=\"1\" class=\"dataframe\">\n",
       "  <thead>\n",
       "    <tr style=\"text-align: right;\">\n",
       "      <th></th>\n",
       "      <th>Job Name</th>\n",
       "      <th>Location</th>\n",
       "      <th>Company Name</th>\n",
       "    </tr>\n",
       "  </thead>\n",
       "  <tbody>\n",
       "    <tr>\n",
       "      <th>0</th>\n",
       "      <td>Process Innovation Analyst - APAC/Data Scienti...</td>\n",
       "      <td>Bangalore/Bengaluru, Hyderabad</td>\n",
       "      <td>Bayer</td>\n",
       "    </tr>\n",
       "    <tr>\n",
       "      <th>1</th>\n",
       "      <td>Data Scientist: Advanced Analytics</td>\n",
       "      <td>Bangalore/Bengaluru</td>\n",
       "      <td>IBM India Pvt. Limited</td>\n",
       "    </tr>\n",
       "    <tr>\n",
       "      <th>2</th>\n",
       "      <td>Data Scientist: Artificial Intelligence</td>\n",
       "      <td>Bangalore/Bengaluru</td>\n",
       "      <td>IBM India Pvt. Limited</td>\n",
       "    </tr>\n",
       "    <tr>\n",
       "      <th>3</th>\n",
       "      <td>Senior Data Scientist - Insights</td>\n",
       "      <td>Bangalore/Bengaluru</td>\n",
       "      <td>Autodesk India Pvt Ltd</td>\n",
       "    </tr>\n",
       "    <tr>\n",
       "      <th>4</th>\n",
       "      <td>Senior Data Scientist - Computer Vision</td>\n",
       "      <td>Bangalore/Bengaluru</td>\n",
       "      <td>GE Transportation</td>\n",
       "    </tr>\n",
       "    <tr>\n",
       "      <th>5</th>\n",
       "      <td>Senior Data Scientist | Fortune 500 Supermarke...</td>\n",
       "      <td>Bangalore/Bengaluru</td>\n",
       "      <td>TALENT500 TECH (INDIA) PRIVATE LIMITED</td>\n",
       "    </tr>\n",
       "    <tr>\n",
       "      <th>6</th>\n",
       "      <td>Data Scientist /Senior Data Scientist</td>\n",
       "      <td>Chennai, Bangalore/Bengaluru\\n(WFH during Covid)</td>\n",
       "      <td>Dun &amp; Bradstreet</td>\n",
       "    </tr>\n",
       "    <tr>\n",
       "      <th>7</th>\n",
       "      <td>Sr Data Scientist / Data Scientist</td>\n",
       "      <td>Bangalore/Bengaluru, Mumbai (All Areas)\\n(WFH ...</td>\n",
       "      <td>intelligent industrial internet systems pvt ltd.</td>\n",
       "    </tr>\n",
       "    <tr>\n",
       "      <th>8</th>\n",
       "      <td>Senior Data Scientist</td>\n",
       "      <td>Bangalore/Bengaluru</td>\n",
       "      <td>Siemens Limited</td>\n",
       "    </tr>\n",
       "    <tr>\n",
       "      <th>9</th>\n",
       "      <td>Forecasting Analyst/ Data Scientist (US Client)</td>\n",
       "      <td>Gurgaon/Gurugram, Bangalore/Bengaluru\\n(WFH du...</td>\n",
       "      <td>Concentrix Daksh Services</td>\n",
       "    </tr>\n",
       "  </tbody>\n",
       "</table>\n",
       "</div>"
      ],
      "text/plain": [
       "                                            Job Name  \\\n",
       "0  Process Innovation Analyst - APAC/Data Scienti...   \n",
       "1                 Data Scientist: Advanced Analytics   \n",
       "2            Data Scientist: Artificial Intelligence   \n",
       "3                   Senior Data Scientist - Insights   \n",
       "4            Senior Data Scientist - Computer Vision   \n",
       "5  Senior Data Scientist | Fortune 500 Supermarke...   \n",
       "6              Data Scientist /Senior Data Scientist   \n",
       "7                 Sr Data Scientist / Data Scientist   \n",
       "8                              Senior Data Scientist   \n",
       "9    Forecasting Analyst/ Data Scientist (US Client)   \n",
       "\n",
       "                                            Location  \\\n",
       "0                     Bangalore/Bengaluru, Hyderabad   \n",
       "1                                Bangalore/Bengaluru   \n",
       "2                                Bangalore/Bengaluru   \n",
       "3                                Bangalore/Bengaluru   \n",
       "4                                Bangalore/Bengaluru   \n",
       "5                                Bangalore/Bengaluru   \n",
       "6   Chennai, Bangalore/Bengaluru\\n(WFH during Covid)   \n",
       "7  Bangalore/Bengaluru, Mumbai (All Areas)\\n(WFH ...   \n",
       "8                                Bangalore/Bengaluru   \n",
       "9  Gurgaon/Gurugram, Bangalore/Bengaluru\\n(WFH du...   \n",
       "\n",
       "                                       Company Name  \n",
       "0                                             Bayer  \n",
       "1                            IBM India Pvt. Limited  \n",
       "2                            IBM India Pvt. Limited  \n",
       "3                            Autodesk India Pvt Ltd  \n",
       "4                                 GE Transportation  \n",
       "5            TALENT500 TECH (INDIA) PRIVATE LIMITED  \n",
       "6                                  Dun & Bradstreet  \n",
       "7  intelligent industrial internet systems pvt ltd.  \n",
       "8                                   Siemens Limited  \n",
       "9                         Concentrix Daksh Services  "
      ]
     },
     "execution_count": 78,
     "metadata": {},
     "output_type": "execute_result"
    }
   ],
   "source": [
    "data=pd.DataFrame({'Job Name':titles,\"Location\":locations,\"Company Name\":companies})\n",
    "data[0:10]"
   ]
  },
  {
   "cell_type": "markdown",
   "id": "84e24e46",
   "metadata": {},
   "source": [
    "# Ans-3"
   ]
  },
  {
   "cell_type": "code",
   "execution_count": 50,
   "id": "89f84254",
   "metadata": {},
   "outputs": [],
   "source": [
    "from selenium import webdriver\n",
    "from webdriver_manager.chrome import ChromeDriverManager\n",
    "import pandas as pd\n",
    "import warnings\n",
    "warnings.filterwarnings(\"ignore\")"
   ]
  },
  {
   "cell_type": "code",
   "execution_count": 57,
   "id": "b02c5aa5",
   "metadata": {},
   "outputs": [],
   "source": [
    "path=\"C:\\Program Files (x86)\\Google\\Chrome\\Application\\chrome.exe\""
   ]
  },
  {
   "cell_type": "code",
   "execution_count": 58,
   "id": "019c8bff",
   "metadata": {},
   "outputs": [
    {
     "name": "stderr",
     "output_type": "stream",
     "text": [
      "\n",
      "\n",
      "====== WebDriver manager ======\n",
      "Current google-chrome version is 95.0.4638\n",
      "Get LATEST chromedriver version for 95.0.4638 google-chrome\n",
      "Driver [C:\\Users\\Akash Manral\\.wdm\\drivers\\chromedriver\\win32\\95.0.4638.69\\chromedriver.exe] found in cache\n"
     ]
    }
   ],
   "source": [
    "driver= webdriver.Chrome(ChromeDriverManager().install())"
   ]
  },
  {
   "cell_type": "code",
   "execution_count": 59,
   "id": "264bdeb1",
   "metadata": {},
   "outputs": [],
   "source": [
    "driver.get(\"https://www.naukri.com/ \")"
   ]
  },
  {
   "cell_type": "code",
   "execution_count": 60,
   "id": "2155ad37",
   "metadata": {},
   "outputs": [],
   "source": [
    "driver.find_element_by_xpath(\"//input[@class='sugInp']\").send_keys(\"Data Scientist\")\n",
    "driver.find_element_by_xpath(\"//button[@class='btn']\").click()"
   ]
  },
  {
   "cell_type": "code",
   "execution_count": 68,
   "id": "152e1b25",
   "metadata": {},
   "outputs": [],
   "source": [
    "driver.find_element_by_xpath(\"/html/body/div[1]/div[3]/div[2]/section[1]/div[2]/div[1]/div[2]/div[3]\").click()\n"
   ]
  },
  {
   "cell_type": "code",
   "execution_count": 69,
   "id": "2ad1e1a1",
   "metadata": {},
   "outputs": [],
   "source": [
    "driver.find_element_by_xpath(\"/html/body/div[1]/div[3]/div[2]/section[1]/div[2]/div[4]/div[2]/div[2]\").click()"
   ]
  },
  {
   "cell_type": "code",
   "execution_count": 76,
   "id": "cf7d6a3e",
   "metadata": {},
   "outputs": [
    {
     "data": {
      "text/plain": [
       "['Job Opportunity || Data Scientist || HCL Technologies',\n",
       " 'Data Scientist',\n",
       " 'Data Scientist III-2',\n",
       " 'Data Scientist',\n",
       " 'Data Scientist',\n",
       " 'Urgent Hiring || Data Scientist || Delhi',\n",
       " 'Data Scientist',\n",
       " 'Data Scientist Internship',\n",
       " 'Data Scientist',\n",
       " 'Data Scientist',\n",
       " 'Project Manager | Team Leader | Senior Data Scientist',\n",
       " 'Senior Data Scientist',\n",
       " 'Academic Counsellor - Data Scientist',\n",
       " 'Data Scientist',\n",
       " 'Data Scientist',\n",
       " 'Data Scientist',\n",
       " 'Data Scientist',\n",
       " 'Data Scientist',\n",
       " 'Immediate requirement For Data Scientist',\n",
       " 'Data Scientist']"
      ]
     },
     "execution_count": 76,
     "metadata": {},
     "output_type": "execute_result"
    }
   ],
   "source": [
    "job=driver.find_elements_by_xpath(\"//a[@class='title fw500 ellipsis']\")\n",
    "\n",
    "jobs=[]\n",
    "for i in range(len(job)):\n",
    "    jobs.append (job[i].text)\n",
    "jobs    "
   ]
  },
  {
   "cell_type": "code",
   "execution_count": 75,
   "id": "e6d82ace",
   "metadata": {},
   "outputs": [
    {
     "data": {
      "text/plain": [
       "['HCL Technologies',\n",
       " 'ThinkBumblebee Analytics Pvt. Ltd.',\n",
       " 'Concentrix Daksh Services',\n",
       " 'MoMagic Technologies Pvt. Ltd.',\n",
       " 'MoMagic Technologies Pvt. Ltd.',\n",
       " 'Shriram Automall India Limited',\n",
       " 'Think i',\n",
       " 'iHackers Inc',\n",
       " 'Optum Global Solutions (India) Private Limited',\n",
       " 'Fractal Analytics',\n",
       " 'Tidyquant (OPC) Private Limited',\n",
       " 'iNICU',\n",
       " 'GreatLearning',\n",
       " 'Sentieo',\n",
       " 'BlackBuck',\n",
       " 'Country Veggie',\n",
       " 'Mahajan Imaging',\n",
       " 'Mahajan Imaging',\n",
       " 'CALIBEHR BUSINESS SUPPORT SERVICES PRIVATE LIMITED',\n",
       " 'EXL Service']"
      ]
     },
     "execution_count": 75,
     "metadata": {},
     "output_type": "execute_result"
    }
   ],
   "source": [
    "company=driver.find_elements_by_xpath(\"//a[@class='subTitle ellipsis fleft']\")\n",
    "\n",
    "companies=[]\n",
    "for i in range(len(company)):\n",
    "    companies.append (company[i].text)\n",
    "companies"
   ]
  },
  {
   "cell_type": "code",
   "execution_count": 77,
   "id": "7678fa75",
   "metadata": {},
   "outputs": [
    {
     "data": {
      "text/plain": [
       "['4-7 Yrs',\n",
       " '2-6 Yrs',\n",
       " '3-8 Yrs',\n",
       " '4-6 Yrs',\n",
       " '4-6 Yrs',\n",
       " '2-7 Yrs',\n",
       " '0-2 Yrs',\n",
       " '0-1 Yrs',\n",
       " '2-6 Yrs',\n",
       " '3-7 Yrs',\n",
       " '2-7 Yrs',\n",
       " '1-5 Yrs',\n",
       " '1-4 Yrs',\n",
       " '2-7 Yrs',\n",
       " '3-7 Yrs',\n",
       " '1-3 Yrs',\n",
       " '2-6 Yrs',\n",
       " '2-6 Yrs',\n",
       " '2-7 Yrs',\n",
       " '3-5 Yrs']"
      ]
     },
     "execution_count": 77,
     "metadata": {},
     "output_type": "execute_result"
    }
   ],
   "source": [
    "exp=driver.find_elements_by_xpath(\"//li[@class='fleft grey-text br2 placeHolderLi experience']\")\n",
    "\n",
    "exps=[]\n",
    "for i in range(len(exp)):\n",
    "    exps.append (exp[i].text)\n",
    "exps"
   ]
  },
  {
   "cell_type": "code",
   "execution_count": 78,
   "id": "b633fb2b",
   "metadata": {},
   "outputs": [
    {
     "data": {
      "text/html": [
       "<div>\n",
       "<style scoped>\n",
       "    .dataframe tbody tr th:only-of-type {\n",
       "        vertical-align: middle;\n",
       "    }\n",
       "\n",
       "    .dataframe tbody tr th {\n",
       "        vertical-align: top;\n",
       "    }\n",
       "\n",
       "    .dataframe thead th {\n",
       "        text-align: right;\n",
       "    }\n",
       "</style>\n",
       "<table border=\"1\" class=\"dataframe\">\n",
       "  <thead>\n",
       "    <tr style=\"text-align: right;\">\n",
       "      <th></th>\n",
       "      <th>Job</th>\n",
       "      <th>Company</th>\n",
       "      <th>Experience</th>\n",
       "    </tr>\n",
       "  </thead>\n",
       "  <tbody>\n",
       "    <tr>\n",
       "      <th>0</th>\n",
       "      <td>Job Opportunity || Data Scientist || HCL Techn...</td>\n",
       "      <td>HCL Technologies</td>\n",
       "      <td>4-7 Yrs</td>\n",
       "    </tr>\n",
       "    <tr>\n",
       "      <th>1</th>\n",
       "      <td>Data Scientist</td>\n",
       "      <td>ThinkBumblebee Analytics Pvt. Ltd.</td>\n",
       "      <td>2-6 Yrs</td>\n",
       "    </tr>\n",
       "    <tr>\n",
       "      <th>2</th>\n",
       "      <td>Data Scientist III-2</td>\n",
       "      <td>Concentrix Daksh Services</td>\n",
       "      <td>3-8 Yrs</td>\n",
       "    </tr>\n",
       "    <tr>\n",
       "      <th>3</th>\n",
       "      <td>Data Scientist</td>\n",
       "      <td>MoMagic Technologies Pvt. Ltd.</td>\n",
       "      <td>4-6 Yrs</td>\n",
       "    </tr>\n",
       "    <tr>\n",
       "      <th>4</th>\n",
       "      <td>Data Scientist</td>\n",
       "      <td>MoMagic Technologies Pvt. Ltd.</td>\n",
       "      <td>4-6 Yrs</td>\n",
       "    </tr>\n",
       "    <tr>\n",
       "      <th>5</th>\n",
       "      <td>Urgent Hiring || Data Scientist || Delhi</td>\n",
       "      <td>Shriram Automall India Limited</td>\n",
       "      <td>2-7 Yrs</td>\n",
       "    </tr>\n",
       "    <tr>\n",
       "      <th>6</th>\n",
       "      <td>Data Scientist</td>\n",
       "      <td>Think i</td>\n",
       "      <td>0-2 Yrs</td>\n",
       "    </tr>\n",
       "    <tr>\n",
       "      <th>7</th>\n",
       "      <td>Data Scientist Internship</td>\n",
       "      <td>iHackers Inc</td>\n",
       "      <td>0-1 Yrs</td>\n",
       "    </tr>\n",
       "    <tr>\n",
       "      <th>8</th>\n",
       "      <td>Data Scientist</td>\n",
       "      <td>Optum Global Solutions (India) Private Limited</td>\n",
       "      <td>2-6 Yrs</td>\n",
       "    </tr>\n",
       "    <tr>\n",
       "      <th>9</th>\n",
       "      <td>Data Scientist</td>\n",
       "      <td>Fractal Analytics</td>\n",
       "      <td>3-7 Yrs</td>\n",
       "    </tr>\n",
       "  </tbody>\n",
       "</table>\n",
       "</div>"
      ],
      "text/plain": [
       "                                                 Job  \\\n",
       "0  Job Opportunity || Data Scientist || HCL Techn...   \n",
       "1                                     Data Scientist   \n",
       "2                               Data Scientist III-2   \n",
       "3                                     Data Scientist   \n",
       "4                                     Data Scientist   \n",
       "5           Urgent Hiring || Data Scientist || Delhi   \n",
       "6                                     Data Scientist   \n",
       "7                          Data Scientist Internship   \n",
       "8                                     Data Scientist   \n",
       "9                                     Data Scientist   \n",
       "\n",
       "                                          Company Experience  \n",
       "0                                HCL Technologies    4-7 Yrs  \n",
       "1              ThinkBumblebee Analytics Pvt. Ltd.    2-6 Yrs  \n",
       "2                       Concentrix Daksh Services    3-8 Yrs  \n",
       "3                  MoMagic Technologies Pvt. Ltd.    4-6 Yrs  \n",
       "4                  MoMagic Technologies Pvt. Ltd.    4-6 Yrs  \n",
       "5                  Shriram Automall India Limited    2-7 Yrs  \n",
       "6                                         Think i    0-2 Yrs  \n",
       "7                                    iHackers Inc    0-1 Yrs  \n",
       "8  Optum Global Solutions (India) Private Limited    2-6 Yrs  \n",
       "9                               Fractal Analytics    3-7 Yrs  "
      ]
     },
     "execution_count": 78,
     "metadata": {},
     "output_type": "execute_result"
    }
   ],
   "source": [
    "data=pd.DataFrame({\"Job\":jobs,\"Company\":companies,\"Experience\":exps})\n",
    "data[0:10]"
   ]
  },
  {
   "cell_type": "code",
   "execution_count": null,
   "id": "69b9cc0e",
   "metadata": {},
   "outputs": [],
   "source": []
  },
  {
   "cell_type": "code",
   "execution_count": null,
   "id": "fafba6b4",
   "metadata": {},
   "outputs": [],
   "source": []
  },
  {
   "cell_type": "markdown",
   "id": "f8437aaf",
   "metadata": {},
   "source": [
    "# Ans-4 : Scrape data of first 100 sunglasses listings on flipkart.com. You have to scrape four attributes: \n",
    "1. Brand \n",
    "2. Product Description \n",
    "3. Price"
   ]
  },
  {
   "cell_type": "code",
   "execution_count": 80,
   "id": "4a82561b",
   "metadata": {},
   "outputs": [],
   "source": [
    "from selenium import webdriver\n",
    "from webdriver_manager.chrome import ChromeDriverManager\n",
    "import pandas as pd\n",
    "import warnings\n",
    "warnings.filterwarnings(\"ignore\")"
   ]
  },
  {
   "cell_type": "code",
   "execution_count": 81,
   "id": "a1a7cbe0",
   "metadata": {},
   "outputs": [],
   "source": [
    "path=\"C:\\Program Files (x86)\\Google\\Chrome\\Application\\chrome.exe\""
   ]
  },
  {
   "cell_type": "code",
   "execution_count": 82,
   "id": "be04dad8",
   "metadata": {},
   "outputs": [
    {
     "name": "stderr",
     "output_type": "stream",
     "text": [
      "\n",
      "\n",
      "====== WebDriver manager ======\n",
      "Current google-chrome version is 95.0.4638\n",
      "Get LATEST chromedriver version for 95.0.4638 google-chrome\n",
      "Driver [C:\\Users\\Akash Manral\\.wdm\\drivers\\chromedriver\\win32\\95.0.4638.69\\chromedriver.exe] found in cache\n"
     ]
    }
   ],
   "source": [
    "driver=webdriver.Chrome(ChromeDriverManager().install())"
   ]
  },
  {
   "cell_type": "code",
   "execution_count": 83,
   "id": "8bd5a95f",
   "metadata": {},
   "outputs": [],
   "source": [
    "driver.get(\"https://www.flipkart.com/\")"
   ]
  },
  {
   "cell_type": "code",
   "execution_count": 92,
   "id": "3dabf977",
   "metadata": {},
   "outputs": [],
   "source": [
    "driver.find_element_by_xpath(\"//input[@class='_3704LK']\").send_keys('Sunglasses')\n"
   ]
  },
  {
   "cell_type": "code",
   "execution_count": 93,
   "id": "2bd8b54f",
   "metadata": {},
   "outputs": [],
   "source": [
    "driver.find_element_by_xpath(\"/html/body/div[1]/div/div[1]/div[1]/div[2]/div[2]/form/div/button\").click()"
   ]
  },
  {
   "cell_type": "code",
   "execution_count": 94,
   "id": "723d236a",
   "metadata": {},
   "outputs": [
    {
     "data": {
      "text/plain": [
       "['Fastrack',\n",
       " 'Fastrack',\n",
       " 'SRPM',\n",
       " 'Fastrack',\n",
       " 'SUNBEE',\n",
       " 'Elligator',\n",
       " 'SHAAH COLLECTIONS',\n",
       " 'Fastrack',\n",
       " 'SHAAH COLLECTIONS',\n",
       " 'PIRASO',\n",
       " 'PIRASO',\n",
       " 'Fastrack',\n",
       " 'PHENOMENAL',\n",
       " 'kingsunglasses',\n",
       " 'GANSTA',\n",
       " 'Fastrack',\n",
       " 'hipe',\n",
       " 'ROZZETTA CRAFT',\n",
       " 'NuVew',\n",
       " 'Fastrack',\n",
       " 'PIRASO',\n",
       " 'Rich Club',\n",
       " 'kingsunglasses',\n",
       " 'Fastrack',\n",
       " 'Fastrack',\n",
       " 'SUNBEE',\n",
       " 'GANSTA',\n",
       " 'Fastrack',\n",
       " 'hipe',\n",
       " 'kingsunglasses',\n",
       " 'Elligator',\n",
       " 'Fastrack',\n",
       " 'PHENOMENAL',\n",
       " 'Elligator',\n",
       " 'ROZZETTA CRAFT',\n",
       " 'ROZZETTA CRAFT',\n",
       " 'Lee Topper',\n",
       " 'PHENOMENAL',\n",
       " 'ROYAL SON',\n",
       " 'Fastrack']"
      ]
     },
     "execution_count": 94,
     "metadata": {},
     "output_type": "execute_result"
    }
   ],
   "source": [
    "brand=driver.find_elements_by_xpath(\"//div[@class='_2WkVRV']\")\n",
    "\n",
    "\n",
    "brands=[]\n",
    "for i in range(len(brand)):\n",
    "    brands.append(brand[i].text)\n",
    "brands    "
   ]
  },
  {
   "cell_type": "code",
   "execution_count": 95,
   "id": "098cf9fc",
   "metadata": {},
   "outputs": [
    {
     "data": {
      "text/plain": [
       "['UV Protection Aviator Sunglasses (58)',\n",
       " 'UV Protection Wayfarer Sunglasses (Free Size)',\n",
       " 'UV Protection Wayfarer Sunglasses (56)',\n",
       " 'UV Protection Rectangular Sunglasses (Free Size)',\n",
       " 'UV Protection, Polarized, Mirrored Round Sunglasses (Fr...',\n",
       " 'UV Protection Round Sunglasses (54)',\n",
       " 'UV Protection, Polarized, Mirrored Rectangular Sunglass...',\n",
       " 'UV Protection Wayfarer Sunglasses (Free Size)',\n",
       " 'UV Protection, Polarized, Mirrored Rectangular Sunglass...',\n",
       " 'UV Protection Aviator Sunglasses (54)',\n",
       " 'UV Protection Aviator Sunglasses (54)',\n",
       " 'UV Protection Wayfarer Sunglasses (Free Size)',\n",
       " 'UV Protection Retro Square Sunglasses (Free Size)',\n",
       " 'Mirrored, UV Protection Wayfarer Sunglasses (Free Size)',\n",
       " 'UV Protection Aviator Sunglasses (57)',\n",
       " 'UV Protection Wayfarer Sunglasses (57)',\n",
       " 'Mirrored, UV Protection, Gradient Round Sunglasses (55)',\n",
       " 'UV Protection Retro Square Sunglasses (Free Size)',\n",
       " 'UV Protection, Night Vision, Riding Glasses Sports Sung...',\n",
       " 'Mirrored, UV Protection Wayfarer Sunglasses (Free Size)',\n",
       " 'UV Protection Aviator Sunglasses (54)',\n",
       " 'Polarized Round Sunglasses (48)',\n",
       " 'UV Protection Round Sunglasses (54)',\n",
       " 'UV Protection Wayfarer Sunglasses (Free Size)',\n",
       " 'Gradient, UV Protection Wayfarer Sunglasses (Free Size)',\n",
       " 'UV Protection, Polarized, Mirrored Wayfarer Sunglasses ...',\n",
       " 'UV Protection, Riding Glasses Wayfarer Sunglasses (53)',\n",
       " 'UV Protection Wrap-around Sunglasses (Free Size)',\n",
       " 'UV Protection, Gradient, Mirrored, Riding Glasses Aviat...',\n",
       " 'UV Protection, Mirrored Round Sunglasses (Free Size)',\n",
       " 'UV Protection Aviator Sunglasses (55)',\n",
       " 'UV Protection Aviator Sunglasses (Free Size)',\n",
       " 'UV Protection, Mirrored Retro Square Sunglasses (53)',\n",
       " 'UV Protection Round Sunglasses (55)',\n",
       " 'UV Protection, Gradient Rectangular Sunglasses (Free Si...',\n",
       " 'UV Protection, Gradient Retro Square Sunglasses (Free S...',\n",
       " 'Riding Glasses, Night Vision Wrap-around Sunglasses (Fr...',\n",
       " 'UV Protection, Mirrored Retro Square Sunglasses (Free S...',\n",
       " 'Mirrored Aviator Sunglasses (55)',\n",
       " 'Gradient, UV Protection Wayfarer Sunglasses (Free Size)']"
      ]
     },
     "execution_count": 95,
     "metadata": {},
     "output_type": "execute_result"
    }
   ],
   "source": [
    "desc=driver.find_elements_by_xpath(\"//a[@class='IRpwTa']\")\n",
    "\n",
    "descs=[]\n",
    "for i in range(len(desc)):\n",
    "    descs.append(desc[i].text)\n",
    "descs    "
   ]
  },
  {
   "cell_type": "code",
   "execution_count": 96,
   "id": "3cf96932",
   "metadata": {},
   "outputs": [
    {
     "data": {
      "text/plain": [
       "['₹1,059',\n",
       " '₹758',\n",
       " '₹188',\n",
       " '₹513',\n",
       " '₹276',\n",
       " '₹248',\n",
       " '₹177',\n",
       " '₹689',\n",
       " '₹189',\n",
       " '₹200',\n",
       " '₹187',\n",
       " '₹733',\n",
       " '₹329',\n",
       " '₹259',\n",
       " '₹269',\n",
       " '₹503',\n",
       " '₹189',\n",
       " '₹499',\n",
       " '₹270',\n",
       " '₹738',\n",
       " '₹187',\n",
       " '₹189',\n",
       " '₹189',\n",
       " '₹817',\n",
       " '₹509',\n",
       " '₹215',\n",
       " '₹198',\n",
       " '₹689',\n",
       " '₹209',\n",
       " '₹249',\n",
       " '₹294',\n",
       " '₹689',\n",
       " '₹311',\n",
       " '₹239',\n",
       " '₹383',\n",
       " '₹349',\n",
       " '₹276',\n",
       " '₹329',\n",
       " '₹359',\n",
       " '₹658']"
      ]
     },
     "execution_count": 96,
     "metadata": {},
     "output_type": "execute_result"
    }
   ],
   "source": [
    "price=driver.find_elements_by_xpath(\"//div[@class='_30jeq3']\")\n",
    " \n",
    "prices=[]\n",
    "for i in range(len(price)):\n",
    "    prices.append(price[i].text)\n",
    "prices    "
   ]
  },
  {
   "cell_type": "code",
   "execution_count": 97,
   "id": "a399b498",
   "metadata": {},
   "outputs": [],
   "source": [
    "driver.find_element_by_xpath(\"//a[@class='_1LKTO3']\").click()"
   ]
  },
  {
   "cell_type": "code",
   "execution_count": 98,
   "id": "80394666",
   "metadata": {},
   "outputs": [
    {
     "data": {
      "text/plain": [
       "['Fastrack',\n",
       " 'SHAAH COLLECTIONS',\n",
       " 'New Specs',\n",
       " 'VINCENT CHASE',\n",
       " 'kingsunglasses',\n",
       " 'Elligator',\n",
       " 'povty',\n",
       " 'ROZZETTA CRAFT',\n",
       " 'kingsunglasses',\n",
       " 'hipe',\n",
       " 'hipe',\n",
       " 'ROYAL SON',\n",
       " 'elegante',\n",
       " 'Elligator',\n",
       " 'HIPPON',\n",
       " 'ROYAL SON',\n",
       " 'PIRASO',\n",
       " 'Elligator',\n",
       " 'Silver Kartz',\n",
       " 'ROZZETTA CRAFT',\n",
       " 'PIRASO',\n",
       " 'New Specs',\n",
       " 'Fastrack',\n",
       " 'Fastrack',\n",
       " 'ROYAL SON',\n",
       " 'PIRASO',\n",
       " 'kingsunglasses',\n",
       " 'ROZZETTA CRAFT',\n",
       " 'ROYAL SON',\n",
       " 'DEIXELS',\n",
       " 'SRPM',\n",
       " 'ROZZETTA CRAFT',\n",
       " 'ROYAL SON',\n",
       " 'PHENOMENAL',\n",
       " 'PIRASO',\n",
       " 'VILLAIN',\n",
       " 'PHENOMENAL',\n",
       " 'GANSTA',\n",
       " 'agera',\n",
       " 'ROYAL SON']"
      ]
     },
     "execution_count": 98,
     "metadata": {},
     "output_type": "execute_result"
    }
   ],
   "source": [
    "brand1=driver.find_elements_by_xpath(\"//div[@class='_2WkVRV']\")\n",
    "\n",
    "\n",
    "brands1=[]\n",
    "for i in range(len(brand1)):\n",
    "    brands1.append(brand1[i].text)\n",
    "brands1   "
   ]
  },
  {
   "cell_type": "code",
   "execution_count": 99,
   "id": "479b7461",
   "metadata": {},
   "outputs": [
    {
     "data": {
      "text/plain": [
       "['UV Protection Wayfarer Sunglasses (Free Size)',\n",
       " 'UV Protection Round Sunglasses (Free Size)',\n",
       " 'UV Protection Rectangular Sunglasses (Free Size)',\n",
       " 'UV Protection, Polarized Round Sunglasses (Free Size)',\n",
       " 'Mirrored, UV Protection Wayfarer Sunglasses (Free Size)',\n",
       " 'UV Protection, Riding Glasses Rectangular, Retro Square...',\n",
       " 'UV Protection Retro Square Sunglasses (Free Size)',\n",
       " 'UV Protection, Riding Glasses Rectangular Sunglasses (F...',\n",
       " 'UV Protection Rectangular Sunglasses (55)',\n",
       " 'UV Protection, Night Vision, Riding Glasses, Gradient, ...',\n",
       " 'UV Protection, Night Vision, Gradient, Mirrored Round, ...',\n",
       " 'UV Protection, Gradient Over-sized Sunglasses (56)',\n",
       " 'Mirrored Round Sunglasses (Free Size)',\n",
       " 'UV Protection, Riding Glasses Rectangular, Retro Square...',\n",
       " 'UV Protection Wayfarer Sunglasses (55)',\n",
       " 'Polarized, UV Protection Round Sunglasses (49)',\n",
       " 'UV Protection Aviator Sunglasses (58)',\n",
       " 'UV Protection Round Sunglasses (54)',\n",
       " 'UV Protection Wayfarer Sunglasses (Free Size)',\n",
       " 'UV Protection, Gradient Retro Square Sunglasses (Free S...',\n",
       " 'UV Protection, Polarized Aviator Sunglasses (32)',\n",
       " 'Mirrored, UV Protection, Riding Glasses, Others Round S...',\n",
       " 'UV Protection Wayfarer Sunglasses (57)',\n",
       " 'Gradient, UV Protection Wayfarer Sunglasses (Free Size)',\n",
       " 'UV Protection Round Sunglasses (50)',\n",
       " 'UV Protection Butterfly Sunglasses (65)',\n",
       " 'UV Protection Round Sunglasses (Free Size)',\n",
       " 'UV Protection, Gradient Retro Square Sunglasses (46)',\n",
       " 'UV Protection, Gradient Butterfly Sunglasses (57)',\n",
       " 'Polarized, UV Protection, Riding Glasses Wayfarer Sungl...',\n",
       " 'UV Protection Wayfarer Sunglasses (53)',\n",
       " 'UV Protection, Gradient Rectangular Sunglasses (Free Si...',\n",
       " 'UV Protection Rectangular Sunglasses (58)',\n",
       " 'UV Protection, Mirrored Retro Square Sunglasses (53)',\n",
       " 'UV Protection Aviator Sunglasses (54)',\n",
       " 'Others Retro Square Sunglasses (Free Size)',\n",
       " 'UV Protection Round Sunglasses (53)',\n",
       " 'UV Protection Aviator Sunglasses (57)',\n",
       " 'Gradient Aviator Sunglasses (55)',\n",
       " 'UV Protection, Gradient Over-sized Sunglasses (56)']"
      ]
     },
     "execution_count": 99,
     "metadata": {},
     "output_type": "execute_result"
    }
   ],
   "source": [
    "desc1=driver.find_elements_by_xpath(\"//a[@class='IRpwTa']\")\n",
    "\n",
    "descs1=[]\n",
    "for i in range(len(desc1)):\n",
    "    descs1.append(desc1[i].text)\n",
    "descs1  "
   ]
  },
  {
   "cell_type": "code",
   "execution_count": 100,
   "id": "2047b1ae",
   "metadata": {},
   "outputs": [
    {
     "data": {
      "text/plain": [
       "['₹758',\n",
       " '₹296',\n",
       " '₹259',\n",
       " '₹1,415',\n",
       " '₹259',\n",
       " '₹318',\n",
       " '₹319',\n",
       " '₹426',\n",
       " '₹259',\n",
       " '₹189',\n",
       " '₹189',\n",
       " '₹664',\n",
       " '₹340',\n",
       " '₹276',\n",
       " '₹231',\n",
       " '₹664',\n",
       " '₹299',\n",
       " '₹275',\n",
       " '₹246',\n",
       " '₹349',\n",
       " '₹164',\n",
       " '₹269',\n",
       " '₹503',\n",
       " '₹619',\n",
       " '₹359',\n",
       " '₹336',\n",
       " '₹299',\n",
       " '₹349',\n",
       " '₹664',\n",
       " '₹249',\n",
       " '₹220',\n",
       " '₹383',\n",
       " '₹449',\n",
       " '₹311',\n",
       " '₹187',\n",
       " '₹549',\n",
       " '₹249',\n",
       " '₹204',\n",
       " '₹196',\n",
       " '₹664']"
      ]
     },
     "execution_count": 100,
     "metadata": {},
     "output_type": "execute_result"
    }
   ],
   "source": [
    "price1=driver.find_elements_by_xpath(\"//div[@class='_30jeq3']\")\n",
    " \n",
    "prices1=[]\n",
    "for i in range(len(price1)):\n",
    "    prices1.append(price1[i].text)\n",
    "prices1    "
   ]
  },
  {
   "cell_type": "code",
   "execution_count": 104,
   "id": "ea09e659",
   "metadata": {},
   "outputs": [],
   "source": [
    "driver.find_element_by_xpath(\"/html/body/div[1]/div/div[3]/div[1]/div[2]/div[12]/div/div/nav/a[12]\").click()"
   ]
  },
  {
   "cell_type": "code",
   "execution_count": 105,
   "id": "77d82eed",
   "metadata": {},
   "outputs": [
    {
     "data": {
      "text/plain": [
       "['GANSTA',\n",
       " 'kingsunglasses',\n",
       " 'Elligator',\n",
       " 'ROZZETTA CRAFT',\n",
       " 'hipe',\n",
       " 'DEIXELS',\n",
       " 'PIRASO',\n",
       " 'VILLAIN',\n",
       " 'GANSTA',\n",
       " 'GANSTA',\n",
       " 'PHENOMENAL',\n",
       " 'elegante',\n",
       " 'Singco',\n",
       " 'kingsunglasses',\n",
       " 'kingsunglasses',\n",
       " 'Fravy',\n",
       " 'Silver Kartz',\n",
       " 'ROYAL SON',\n",
       " 'GANSTA',\n",
       " 'ROYAL SON',\n",
       " 'PIRASO',\n",
       " 'kingsunglasses',\n",
       " 'PIRASO',\n",
       " 'Fravy',\n",
       " 'Fastrack',\n",
       " 'Rich Club',\n",
       " 'Elligator',\n",
       " 'ROYAL SON',\n",
       " 'ROYAL SON',\n",
       " 'ROZZETTA CRAFT',\n",
       " 'Rich Club',\n",
       " 'ROYAL SON',\n",
       " 'Fastrack',\n",
       " 'PHENOMENAL',\n",
       " 'kingsunglasses',\n",
       " 'Singco India',\n",
       " 'Singco India',\n",
       " 'SHAAH COLLECTIONS',\n",
       " 'PIRASO',\n",
       " 'ROYAL SON']"
      ]
     },
     "execution_count": 105,
     "metadata": {},
     "output_type": "execute_result"
    }
   ],
   "source": [
    "brand2=driver.find_elements_by_xpath(\"//div[@class='_2WkVRV']\")\n",
    "\n",
    "\n",
    "brands2=[]\n",
    "for i in range(len(brand2)):\n",
    "    brands2.append(brand2[i].text)\n",
    "brands2"
   ]
  },
  {
   "cell_type": "code",
   "execution_count": 106,
   "id": "f2351f30",
   "metadata": {},
   "outputs": [
    {
     "data": {
      "text/plain": [
       "['UV Protection, Riding Glasses Aviator Sunglasses (57)',\n",
       " 'Mirrored, UV Protection Wayfarer Sunglasses (53)',\n",
       " 'Mirrored Round Sunglasses (53)',\n",
       " 'UV Protection, Gradient Retro Square Sunglasses (Free S...',\n",
       " 'UV Protection Sports Sunglasses (Free Size)',\n",
       " 'UV Protection Aviator, Wayfarer Sunglasses (Free Size)',\n",
       " 'UV Protection Wayfarer Sunglasses (32)',\n",
       " 'Others Wayfarer Sunglasses (Free Size)',\n",
       " 'UV Protection Rectangular Sunglasses (60)',\n",
       " 'UV Protection, Mirrored Wayfarer Sunglasses (53)',\n",
       " 'UV Protection, Mirrored Round Sunglasses (Free Size)',\n",
       " 'UV Protection Oval Sunglasses (Free Size)',\n",
       " 'UV Protection Aviator Sunglasses (Free Size)',\n",
       " 'UV Protection Rectangular Sunglasses (55)',\n",
       " 'UV Protection, Others Round, Aviator Sunglasses (54)',\n",
       " 'UV Protection, Gradient, Night Vision Retro Square Sung...',\n",
       " 'UV Protection Aviator Sunglasses (88)',\n",
       " 'UV Protection Retro Square Sunglasses (88)',\n",
       " 'UV Protection, Night Vision, Riding Glasses Aviator Sun...',\n",
       " 'Polarized, UV Protection, Gradient Over-sized, Butterfl...',\n",
       " 'UV Protection Aviator Sunglasses (54)',\n",
       " 'UV Protection, Mirrored Round Sunglasses (54)',\n",
       " 'UV Protection Butterfly Sunglasses (60)',\n",
       " 'UV Protection, Others Retro Square Sunglasses (Free Siz...',\n",
       " 'Gradient, UV Protection Wayfarer Sunglasses (Free Size)',\n",
       " 'UV Protection, Others Round Sunglasses (48)',\n",
       " 'UV Protection, Riding Glasses Rectangular, Retro Square...',\n",
       " 'UV Protection, Gradient Butterfly Sunglasses (52)',\n",
       " 'Mirrored Aviator Sunglasses (55)',\n",
       " 'UV Protection, Gradient Retro Square Sunglasses (Free S...',\n",
       " 'Polarized Round Sunglasses (48)',\n",
       " 'Polarized, UV Protection Aviator Sunglasses (52)',\n",
       " 'Gradient, UV Protection Wayfarer Sunglasses (Free Size)',\n",
       " 'UV Protection, Mirrored, Gradient Retro Square Sunglass...',\n",
       " 'UV Protection, Mirrored Aviator Sunglasses (Free Size)',\n",
       " 'UV Protection, Riding Glasses, Others Aviator, Wayfarer...',\n",
       " 'Riding Glasses, UV Protection, Others Aviator Sunglasse...',\n",
       " 'UV Protection Round Sunglasses (Free Size)',\n",
       " 'UV Protection Aviator Sunglasses (55)',\n",
       " 'UV Protection, Gradient Over-sized Sunglasses (59)']"
      ]
     },
     "execution_count": 106,
     "metadata": {},
     "output_type": "execute_result"
    }
   ],
   "source": [
    "desc2=driver.find_elements_by_xpath(\"//a[@class='IRpwTa']\")\n",
    "\n",
    "descs2=[]\n",
    "for i in range(len(desc2)):\n",
    "    descs2.append(desc2[i].text)\n",
    "descs2 "
   ]
  },
  {
   "cell_type": "code",
   "execution_count": 107,
   "id": "ad03256c",
   "metadata": {},
   "outputs": [
    {
     "data": {
      "text/plain": [
       "['₹296',\n",
       " '₹299',\n",
       " '₹263',\n",
       " '₹349',\n",
       " '₹287',\n",
       " '₹229',\n",
       " '₹187',\n",
       " '₹549',\n",
       " '₹211',\n",
       " '₹196',\n",
       " '₹205',\n",
       " '₹359',\n",
       " '₹526',\n",
       " '₹169',\n",
       " '₹189',\n",
       " '₹305',\n",
       " '₹255',\n",
       " '₹569',\n",
       " '₹295',\n",
       " '₹1,234',\n",
       " '₹189',\n",
       " '₹219',\n",
       " '₹305',\n",
       " '₹260',\n",
       " '₹658',\n",
       " '₹260',\n",
       " '₹332',\n",
       " '₹664',\n",
       " '₹359',\n",
       " '₹349',\n",
       " '₹179',\n",
       " '₹759',\n",
       " '₹717',\n",
       " '₹233',\n",
       " '₹249',\n",
       " '₹229',\n",
       " '₹226',\n",
       " '₹299',\n",
       " '₹189',\n",
       " '₹664']"
      ]
     },
     "execution_count": 107,
     "metadata": {},
     "output_type": "execute_result"
    }
   ],
   "source": [
    "price2=driver.find_elements_by_xpath(\"//div[@class='_30jeq3']\")\n",
    " \n",
    "prices2=[]\n",
    "for i in range(len(price2)):\n",
    "    prices2.append(price2[i].text)\n",
    "prices2   "
   ]
  },
  {
   "cell_type": "code",
   "execution_count": 109,
   "id": "1bf6416e",
   "metadata": {},
   "outputs": [
    {
     "data": {
      "text/plain": [
       "['Fastrack',\n",
       " 'Fastrack',\n",
       " 'SRPM',\n",
       " 'Fastrack',\n",
       " 'SUNBEE',\n",
       " 'Elligator',\n",
       " 'SHAAH COLLECTIONS',\n",
       " 'Fastrack',\n",
       " 'SHAAH COLLECTIONS',\n",
       " 'PIRASO',\n",
       " 'PIRASO',\n",
       " 'Fastrack',\n",
       " 'PHENOMENAL',\n",
       " 'kingsunglasses',\n",
       " 'GANSTA',\n",
       " 'Fastrack',\n",
       " 'hipe',\n",
       " 'ROZZETTA CRAFT',\n",
       " 'NuVew',\n",
       " 'Fastrack',\n",
       " 'PIRASO',\n",
       " 'Rich Club',\n",
       " 'kingsunglasses',\n",
       " 'Fastrack',\n",
       " 'Fastrack',\n",
       " 'SUNBEE',\n",
       " 'GANSTA',\n",
       " 'Fastrack',\n",
       " 'hipe',\n",
       " 'kingsunglasses',\n",
       " 'Elligator',\n",
       " 'Fastrack',\n",
       " 'PHENOMENAL',\n",
       " 'Elligator',\n",
       " 'ROZZETTA CRAFT',\n",
       " 'ROZZETTA CRAFT',\n",
       " 'Lee Topper',\n",
       " 'PHENOMENAL',\n",
       " 'ROYAL SON',\n",
       " 'Fastrack',\n",
       " 'Fastrack',\n",
       " 'SHAAH COLLECTIONS',\n",
       " 'New Specs',\n",
       " 'VINCENT CHASE',\n",
       " 'kingsunglasses',\n",
       " 'Elligator',\n",
       " 'povty',\n",
       " 'ROZZETTA CRAFT',\n",
       " 'kingsunglasses',\n",
       " 'hipe',\n",
       " 'hipe',\n",
       " 'ROYAL SON',\n",
       " 'elegante',\n",
       " 'Elligator',\n",
       " 'HIPPON',\n",
       " 'ROYAL SON',\n",
       " 'PIRASO',\n",
       " 'Elligator',\n",
       " 'Silver Kartz',\n",
       " 'ROZZETTA CRAFT',\n",
       " 'PIRASO',\n",
       " 'New Specs',\n",
       " 'Fastrack',\n",
       " 'Fastrack',\n",
       " 'ROYAL SON',\n",
       " 'PIRASO',\n",
       " 'kingsunglasses',\n",
       " 'ROZZETTA CRAFT',\n",
       " 'ROYAL SON',\n",
       " 'DEIXELS',\n",
       " 'SRPM',\n",
       " 'ROZZETTA CRAFT',\n",
       " 'ROYAL SON',\n",
       " 'PHENOMENAL',\n",
       " 'PIRASO',\n",
       " 'VILLAIN',\n",
       " 'PHENOMENAL',\n",
       " 'GANSTA',\n",
       " 'agera',\n",
       " 'ROYAL SON',\n",
       " 'GANSTA',\n",
       " 'kingsunglasses',\n",
       " 'Elligator',\n",
       " 'ROZZETTA CRAFT',\n",
       " 'hipe',\n",
       " 'DEIXELS',\n",
       " 'PIRASO',\n",
       " 'VILLAIN',\n",
       " 'GANSTA',\n",
       " 'GANSTA',\n",
       " 'PHENOMENAL',\n",
       " 'elegante',\n",
       " 'Singco',\n",
       " 'kingsunglasses',\n",
       " 'kingsunglasses',\n",
       " 'Fravy',\n",
       " 'Silver Kartz',\n",
       " 'ROYAL SON',\n",
       " 'GANSTA',\n",
       " 'ROYAL SON',\n",
       " 'PIRASO',\n",
       " 'kingsunglasses',\n",
       " 'PIRASO',\n",
       " 'Fravy',\n",
       " 'Fastrack',\n",
       " 'Rich Club',\n",
       " 'Elligator',\n",
       " 'ROYAL SON',\n",
       " 'ROYAL SON',\n",
       " 'ROZZETTA CRAFT',\n",
       " 'Rich Club',\n",
       " 'ROYAL SON',\n",
       " 'Fastrack',\n",
       " 'PHENOMENAL',\n",
       " 'kingsunglasses',\n",
       " 'Singco India',\n",
       " 'Singco India',\n",
       " 'SHAAH COLLECTIONS',\n",
       " 'PIRASO',\n",
       " 'ROYAL SON']"
      ]
     },
     "execution_count": 109,
     "metadata": {},
     "output_type": "execute_result"
    }
   ],
   "source": [
    "finalbrand=brands+brands1+brands2\n",
    "finalbrand"
   ]
  },
  {
   "cell_type": "code",
   "execution_count": 112,
   "id": "0bb779e2",
   "metadata": {},
   "outputs": [
    {
     "data": {
      "text/plain": [
       "['UV Protection Aviator Sunglasses (58)',\n",
       " 'UV Protection Wayfarer Sunglasses (Free Size)',\n",
       " 'UV Protection Wayfarer Sunglasses (56)',\n",
       " 'UV Protection Rectangular Sunglasses (Free Size)',\n",
       " 'UV Protection, Polarized, Mirrored Round Sunglasses (Fr...',\n",
       " 'UV Protection Round Sunglasses (54)',\n",
       " 'UV Protection, Polarized, Mirrored Rectangular Sunglass...',\n",
       " 'UV Protection Wayfarer Sunglasses (Free Size)',\n",
       " 'UV Protection, Polarized, Mirrored Rectangular Sunglass...',\n",
       " 'UV Protection Aviator Sunglasses (54)',\n",
       " 'UV Protection Aviator Sunglasses (54)',\n",
       " 'UV Protection Wayfarer Sunglasses (Free Size)',\n",
       " 'UV Protection Retro Square Sunglasses (Free Size)',\n",
       " 'Mirrored, UV Protection Wayfarer Sunglasses (Free Size)',\n",
       " 'UV Protection Aviator Sunglasses (57)',\n",
       " 'UV Protection Wayfarer Sunglasses (57)',\n",
       " 'Mirrored, UV Protection, Gradient Round Sunglasses (55)',\n",
       " 'UV Protection Retro Square Sunglasses (Free Size)',\n",
       " 'UV Protection, Night Vision, Riding Glasses Sports Sung...',\n",
       " 'Mirrored, UV Protection Wayfarer Sunglasses (Free Size)',\n",
       " 'UV Protection Aviator Sunglasses (54)',\n",
       " 'Polarized Round Sunglasses (48)',\n",
       " 'UV Protection Round Sunglasses (54)',\n",
       " 'UV Protection Wayfarer Sunglasses (Free Size)',\n",
       " 'Gradient, UV Protection Wayfarer Sunglasses (Free Size)',\n",
       " 'UV Protection, Polarized, Mirrored Wayfarer Sunglasses ...',\n",
       " 'UV Protection, Riding Glasses Wayfarer Sunglasses (53)',\n",
       " 'UV Protection Wrap-around Sunglasses (Free Size)',\n",
       " 'UV Protection, Gradient, Mirrored, Riding Glasses Aviat...',\n",
       " 'UV Protection, Mirrored Round Sunglasses (Free Size)',\n",
       " 'UV Protection Aviator Sunglasses (55)',\n",
       " 'UV Protection Aviator Sunglasses (Free Size)',\n",
       " 'UV Protection, Mirrored Retro Square Sunglasses (53)',\n",
       " 'UV Protection Round Sunglasses (55)',\n",
       " 'UV Protection, Gradient Rectangular Sunglasses (Free Si...',\n",
       " 'UV Protection, Gradient Retro Square Sunglasses (Free S...',\n",
       " 'Riding Glasses, Night Vision Wrap-around Sunglasses (Fr...',\n",
       " 'UV Protection, Mirrored Retro Square Sunglasses (Free S...',\n",
       " 'Mirrored Aviator Sunglasses (55)',\n",
       " 'Gradient, UV Protection Wayfarer Sunglasses (Free Size)',\n",
       " 'UV Protection Wayfarer Sunglasses (Free Size)',\n",
       " 'UV Protection Round Sunglasses (Free Size)',\n",
       " 'UV Protection Rectangular Sunglasses (Free Size)',\n",
       " 'UV Protection, Polarized Round Sunglasses (Free Size)',\n",
       " 'Mirrored, UV Protection Wayfarer Sunglasses (Free Size)',\n",
       " 'UV Protection, Riding Glasses Rectangular, Retro Square...',\n",
       " 'UV Protection Retro Square Sunglasses (Free Size)',\n",
       " 'UV Protection, Riding Glasses Rectangular Sunglasses (F...',\n",
       " 'UV Protection Rectangular Sunglasses (55)',\n",
       " 'UV Protection, Night Vision, Riding Glasses, Gradient, ...',\n",
       " 'UV Protection, Night Vision, Gradient, Mirrored Round, ...',\n",
       " 'UV Protection, Gradient Over-sized Sunglasses (56)',\n",
       " 'Mirrored Round Sunglasses (Free Size)',\n",
       " 'UV Protection, Riding Glasses Rectangular, Retro Square...',\n",
       " 'UV Protection Wayfarer Sunglasses (55)',\n",
       " 'Polarized, UV Protection Round Sunglasses (49)',\n",
       " 'UV Protection Aviator Sunglasses (58)',\n",
       " 'UV Protection Round Sunglasses (54)',\n",
       " 'UV Protection Wayfarer Sunglasses (Free Size)',\n",
       " 'UV Protection, Gradient Retro Square Sunglasses (Free S...',\n",
       " 'UV Protection, Polarized Aviator Sunglasses (32)',\n",
       " 'Mirrored, UV Protection, Riding Glasses, Others Round S...',\n",
       " 'UV Protection Wayfarer Sunglasses (57)',\n",
       " 'Gradient, UV Protection Wayfarer Sunglasses (Free Size)',\n",
       " 'UV Protection Round Sunglasses (50)',\n",
       " 'UV Protection Butterfly Sunglasses (65)',\n",
       " 'UV Protection Round Sunglasses (Free Size)',\n",
       " 'UV Protection, Gradient Retro Square Sunglasses (46)',\n",
       " 'UV Protection, Gradient Butterfly Sunglasses (57)',\n",
       " 'Polarized, UV Protection, Riding Glasses Wayfarer Sungl...',\n",
       " 'UV Protection Wayfarer Sunglasses (53)',\n",
       " 'UV Protection, Gradient Rectangular Sunglasses (Free Si...',\n",
       " 'UV Protection Rectangular Sunglasses (58)',\n",
       " 'UV Protection, Mirrored Retro Square Sunglasses (53)',\n",
       " 'UV Protection Aviator Sunglasses (54)',\n",
       " 'Others Retro Square Sunglasses (Free Size)',\n",
       " 'UV Protection Round Sunglasses (53)',\n",
       " 'UV Protection Aviator Sunglasses (57)',\n",
       " 'Gradient Aviator Sunglasses (55)',\n",
       " 'UV Protection, Gradient Over-sized Sunglasses (56)',\n",
       " 'UV Protection, Riding Glasses Aviator Sunglasses (57)',\n",
       " 'Mirrored, UV Protection Wayfarer Sunglasses (53)',\n",
       " 'Mirrored Round Sunglasses (53)',\n",
       " 'UV Protection, Gradient Retro Square Sunglasses (Free S...',\n",
       " 'UV Protection Sports Sunglasses (Free Size)',\n",
       " 'UV Protection Aviator, Wayfarer Sunglasses (Free Size)',\n",
       " 'UV Protection Wayfarer Sunglasses (32)',\n",
       " 'Others Wayfarer Sunglasses (Free Size)',\n",
       " 'UV Protection Rectangular Sunglasses (60)',\n",
       " 'UV Protection, Mirrored Wayfarer Sunglasses (53)',\n",
       " 'UV Protection, Mirrored Round Sunglasses (Free Size)',\n",
       " 'UV Protection Oval Sunglasses (Free Size)',\n",
       " 'UV Protection Aviator Sunglasses (Free Size)',\n",
       " 'UV Protection Rectangular Sunglasses (55)',\n",
       " 'UV Protection, Others Round, Aviator Sunglasses (54)',\n",
       " 'UV Protection, Gradient, Night Vision Retro Square Sung...',\n",
       " 'UV Protection Aviator Sunglasses (88)',\n",
       " 'UV Protection Retro Square Sunglasses (88)',\n",
       " 'UV Protection, Night Vision, Riding Glasses Aviator Sun...',\n",
       " 'Polarized, UV Protection, Gradient Over-sized, Butterfl...',\n",
       " 'UV Protection Aviator Sunglasses (54)',\n",
       " 'UV Protection, Mirrored Round Sunglasses (54)',\n",
       " 'UV Protection Butterfly Sunglasses (60)',\n",
       " 'UV Protection, Others Retro Square Sunglasses (Free Siz...',\n",
       " 'Gradient, UV Protection Wayfarer Sunglasses (Free Size)',\n",
       " 'UV Protection, Others Round Sunglasses (48)',\n",
       " 'UV Protection, Riding Glasses Rectangular, Retro Square...',\n",
       " 'UV Protection, Gradient Butterfly Sunglasses (52)',\n",
       " 'Mirrored Aviator Sunglasses (55)',\n",
       " 'UV Protection, Gradient Retro Square Sunglasses (Free S...',\n",
       " 'Polarized Round Sunglasses (48)',\n",
       " 'Polarized, UV Protection Aviator Sunglasses (52)',\n",
       " 'Gradient, UV Protection Wayfarer Sunglasses (Free Size)',\n",
       " 'UV Protection, Mirrored, Gradient Retro Square Sunglass...',\n",
       " 'UV Protection, Mirrored Aviator Sunglasses (Free Size)',\n",
       " 'UV Protection, Riding Glasses, Others Aviator, Wayfarer...',\n",
       " 'Riding Glasses, UV Protection, Others Aviator Sunglasse...',\n",
       " 'UV Protection Round Sunglasses (Free Size)',\n",
       " 'UV Protection Aviator Sunglasses (55)',\n",
       " 'UV Protection, Gradient Over-sized Sunglasses (59)']"
      ]
     },
     "execution_count": 112,
     "metadata": {},
     "output_type": "execute_result"
    }
   ],
   "source": [
    "finaldesc=descs+descs1+descs2\n",
    "finaldesc"
   ]
  },
  {
   "cell_type": "code",
   "execution_count": 113,
   "id": "d9604118",
   "metadata": {},
   "outputs": [
    {
     "data": {
      "text/plain": [
       "['₹1,059',\n",
       " '₹758',\n",
       " '₹188',\n",
       " '₹513',\n",
       " '₹276',\n",
       " '₹248',\n",
       " '₹177',\n",
       " '₹689',\n",
       " '₹189',\n",
       " '₹200',\n",
       " '₹187',\n",
       " '₹733',\n",
       " '₹329',\n",
       " '₹259',\n",
       " '₹269',\n",
       " '₹503',\n",
       " '₹189',\n",
       " '₹499',\n",
       " '₹270',\n",
       " '₹738',\n",
       " '₹187',\n",
       " '₹189',\n",
       " '₹189',\n",
       " '₹817',\n",
       " '₹509',\n",
       " '₹215',\n",
       " '₹198',\n",
       " '₹689',\n",
       " '₹209',\n",
       " '₹249',\n",
       " '₹294',\n",
       " '₹689',\n",
       " '₹311',\n",
       " '₹239',\n",
       " '₹383',\n",
       " '₹349',\n",
       " '₹276',\n",
       " '₹329',\n",
       " '₹359',\n",
       " '₹658',\n",
       " '₹758',\n",
       " '₹296',\n",
       " '₹259',\n",
       " '₹1,415',\n",
       " '₹259',\n",
       " '₹318',\n",
       " '₹319',\n",
       " '₹426',\n",
       " '₹259',\n",
       " '₹189',\n",
       " '₹189',\n",
       " '₹664',\n",
       " '₹340',\n",
       " '₹276',\n",
       " '₹231',\n",
       " '₹664',\n",
       " '₹299',\n",
       " '₹275',\n",
       " '₹246',\n",
       " '₹349',\n",
       " '₹164',\n",
       " '₹269',\n",
       " '₹503',\n",
       " '₹619',\n",
       " '₹359',\n",
       " '₹336',\n",
       " '₹299',\n",
       " '₹349',\n",
       " '₹664',\n",
       " '₹249',\n",
       " '₹220',\n",
       " '₹383',\n",
       " '₹449',\n",
       " '₹311',\n",
       " '₹187',\n",
       " '₹549',\n",
       " '₹249',\n",
       " '₹204',\n",
       " '₹196',\n",
       " '₹664',\n",
       " '₹296',\n",
       " '₹299',\n",
       " '₹263',\n",
       " '₹349',\n",
       " '₹287',\n",
       " '₹229',\n",
       " '₹187',\n",
       " '₹549',\n",
       " '₹211',\n",
       " '₹196',\n",
       " '₹205',\n",
       " '₹359',\n",
       " '₹526',\n",
       " '₹169',\n",
       " '₹189',\n",
       " '₹305',\n",
       " '₹255',\n",
       " '₹569',\n",
       " '₹295',\n",
       " '₹1,234',\n",
       " '₹189',\n",
       " '₹219',\n",
       " '₹305',\n",
       " '₹260',\n",
       " '₹658',\n",
       " '₹260',\n",
       " '₹332',\n",
       " '₹664',\n",
       " '₹359',\n",
       " '₹349',\n",
       " '₹179',\n",
       " '₹759',\n",
       " '₹717',\n",
       " '₹233',\n",
       " '₹249',\n",
       " '₹229',\n",
       " '₹226',\n",
       " '₹299',\n",
       " '₹189',\n",
       " '₹664']"
      ]
     },
     "execution_count": 113,
     "metadata": {},
     "output_type": "execute_result"
    }
   ],
   "source": [
    "finalprices=prices+prices1+prices2\n",
    "finalprices"
   ]
  },
  {
   "cell_type": "code",
   "execution_count": 114,
   "id": "cbae30eb",
   "metadata": {},
   "outputs": [
    {
     "data": {
      "text/html": [
       "<div>\n",
       "<style scoped>\n",
       "    .dataframe tbody tr th:only-of-type {\n",
       "        vertical-align: middle;\n",
       "    }\n",
       "\n",
       "    .dataframe tbody tr th {\n",
       "        vertical-align: top;\n",
       "    }\n",
       "\n",
       "    .dataframe thead th {\n",
       "        text-align: right;\n",
       "    }\n",
       "</style>\n",
       "<table border=\"1\" class=\"dataframe\">\n",
       "  <thead>\n",
       "    <tr style=\"text-align: right;\">\n",
       "      <th></th>\n",
       "      <th>Company</th>\n",
       "      <th>Description</th>\n",
       "      <th>Price</th>\n",
       "    </tr>\n",
       "  </thead>\n",
       "  <tbody>\n",
       "    <tr>\n",
       "      <th>0</th>\n",
       "      <td>Fastrack</td>\n",
       "      <td>UV Protection Aviator Sunglasses (58)</td>\n",
       "      <td>₹1,059</td>\n",
       "    </tr>\n",
       "    <tr>\n",
       "      <th>1</th>\n",
       "      <td>Fastrack</td>\n",
       "      <td>UV Protection Wayfarer Sunglasses (Free Size)</td>\n",
       "      <td>₹758</td>\n",
       "    </tr>\n",
       "    <tr>\n",
       "      <th>2</th>\n",
       "      <td>SRPM</td>\n",
       "      <td>UV Protection Wayfarer Sunglasses (56)</td>\n",
       "      <td>₹188</td>\n",
       "    </tr>\n",
       "    <tr>\n",
       "      <th>3</th>\n",
       "      <td>Fastrack</td>\n",
       "      <td>UV Protection Rectangular Sunglasses (Free Size)</td>\n",
       "      <td>₹513</td>\n",
       "    </tr>\n",
       "    <tr>\n",
       "      <th>4</th>\n",
       "      <td>SUNBEE</td>\n",
       "      <td>UV Protection, Polarized, Mirrored Round Sungl...</td>\n",
       "      <td>₹276</td>\n",
       "    </tr>\n",
       "    <tr>\n",
       "      <th>...</th>\n",
       "      <td>...</td>\n",
       "      <td>...</td>\n",
       "      <td>...</td>\n",
       "    </tr>\n",
       "    <tr>\n",
       "      <th>95</th>\n",
       "      <td>Fravy</td>\n",
       "      <td>UV Protection, Gradient, Night Vision Retro Sq...</td>\n",
       "      <td>₹305</td>\n",
       "    </tr>\n",
       "    <tr>\n",
       "      <th>96</th>\n",
       "      <td>Silver Kartz</td>\n",
       "      <td>UV Protection Aviator Sunglasses (88)</td>\n",
       "      <td>₹255</td>\n",
       "    </tr>\n",
       "    <tr>\n",
       "      <th>97</th>\n",
       "      <td>ROYAL SON</td>\n",
       "      <td>UV Protection Retro Square Sunglasses (88)</td>\n",
       "      <td>₹569</td>\n",
       "    </tr>\n",
       "    <tr>\n",
       "      <th>98</th>\n",
       "      <td>GANSTA</td>\n",
       "      <td>UV Protection, Night Vision, Riding Glasses Av...</td>\n",
       "      <td>₹295</td>\n",
       "    </tr>\n",
       "    <tr>\n",
       "      <th>99</th>\n",
       "      <td>ROYAL SON</td>\n",
       "      <td>Polarized, UV Protection, Gradient Over-sized,...</td>\n",
       "      <td>₹1,234</td>\n",
       "    </tr>\n",
       "  </tbody>\n",
       "</table>\n",
       "<p>100 rows × 3 columns</p>\n",
       "</div>"
      ],
      "text/plain": [
       "         Company                                        Description   Price\n",
       "0       Fastrack              UV Protection Aviator Sunglasses (58)  ₹1,059\n",
       "1       Fastrack      UV Protection Wayfarer Sunglasses (Free Size)    ₹758\n",
       "2           SRPM             UV Protection Wayfarer Sunglasses (56)    ₹188\n",
       "3       Fastrack   UV Protection Rectangular Sunglasses (Free Size)    ₹513\n",
       "4         SUNBEE  UV Protection, Polarized, Mirrored Round Sungl...    ₹276\n",
       "..           ...                                                ...     ...\n",
       "95         Fravy  UV Protection, Gradient, Night Vision Retro Sq...    ₹305\n",
       "96  Silver Kartz              UV Protection Aviator Sunglasses (88)    ₹255\n",
       "97     ROYAL SON         UV Protection Retro Square Sunglasses (88)    ₹569\n",
       "98        GANSTA  UV Protection, Night Vision, Riding Glasses Av...    ₹295\n",
       "99     ROYAL SON  Polarized, UV Protection, Gradient Over-sized,...  ₹1,234\n",
       "\n",
       "[100 rows x 3 columns]"
      ]
     },
     "execution_count": 114,
     "metadata": {},
     "output_type": "execute_result"
    }
   ],
   "source": [
    "data=pd.DataFrame({\"Company\":finalbrand,\"Description\":finaldesc,\"Price\":finalprices})\n",
    "data[0:100]"
   ]
  },
  {
   "cell_type": "markdown",
   "id": "6a0c4f42",
   "metadata": {},
   "source": [
    "# Ans-5: Scrape 100 reviews data from flipkart.com for iphone11 phone."
   ]
  },
  {
   "cell_type": "code",
   "execution_count": 73,
   "id": "048674e1",
   "metadata": {},
   "outputs": [],
   "source": [
    "from selenium import webdriver\n",
    "from webdriver_manager.chrome import ChromeDriverManager\n",
    "import pandas\n",
    "import warnings\n",
    "warnings.filterwarnings(\"ignore\")"
   ]
  },
  {
   "cell_type": "code",
   "execution_count": 74,
   "id": "cac0ac54",
   "metadata": {},
   "outputs": [],
   "source": [
    "path=\"C:\\Program Files (x86)\\Google\\Chrome\\Application\\exe\""
   ]
  },
  {
   "cell_type": "code",
   "execution_count": 76,
   "id": "b880f953",
   "metadata": {},
   "outputs": [
    {
     "name": "stderr",
     "output_type": "stream",
     "text": [
      "\n",
      "\n",
      "====== WebDriver manager ======\n",
      "Current google-chrome version is 95.0.4638\n",
      "Get LATEST chromedriver version for 95.0.4638 google-chrome\n",
      "Driver [C:\\Users\\Akash Manral\\.wdm\\drivers\\chromedriver\\win32\\95.0.4638.69\\chromedriver.exe] found in cache\n"
     ]
    }
   ],
   "source": [
    "driver=webdriver.Chrome(ChromeDriverManager().install())"
   ]
  },
  {
   "cell_type": "code",
   "execution_count": 78,
   "id": "bd76f369",
   "metadata": {},
   "outputs": [],
   "source": [
    "driver.get(\"https://www.flipkart.com/apple-iphone-11-black-64-gb-includes-earpods-power-adapter/product-reviews/itm0f37c2240b217?pid=MOBFKCTSVZAXUHGR&lid=LSTMOBFKCTSVZAXUHGREPBFGI&marketplace=FLIPKART\")"
   ]
  },
  {
   "cell_type": "code",
   "execution_count": 83,
   "id": "c652df88",
   "metadata": {},
   "outputs": [
    {
     "data": {
      "text/plain": [
       "['5', '5', '5', '5', '5', '5', '5', '4', '5', '5']"
      ]
     },
     "execution_count": 83,
     "metadata": {},
     "output_type": "execute_result"
    }
   ],
   "source": [
    "rating=driver.find_elements_by_xpath(\"//div[@class='col _2wzgFH K0kLPL']\")\n",
    "\n",
    "ratings=[]\n",
    "for i in range(len(rating)):\n",
    "    ratings.append(rating[i].text.split('\\n')[0])\n",
    "ratings "
   ]
  },
  {
   "cell_type": "code",
   "execution_count": 84,
   "id": "040793f1",
   "metadata": {},
   "outputs": [
    {
     "data": {
      "text/plain": [
       "['Brilliant',\n",
       " 'Simply awesome',\n",
       " 'Perfect product!',\n",
       " 'Worth every penny',\n",
       " 'Fabulous!',\n",
       " 'Best in the market!',\n",
       " 'Great product',\n",
       " 'Good choice',\n",
       " 'Worth every penny',\n",
       " 'Highly recommended']"
      ]
     },
     "execution_count": 84,
     "metadata": {},
     "output_type": "execute_result"
    }
   ],
   "source": [
    "review=driver.find_elements_by_xpath(\"//div[@class='col _2wzgFH K0kLPL']\")\n",
    "\n",
    "reviews=[]\n",
    "for i in range(len(review)):\n",
    "    reviews.append(review[i].text.split('\\n')[1])\n",
    "reviews "
   ]
  },
  {
   "cell_type": "code",
   "execution_count": 89,
   "id": "7d3e4edd",
   "metadata": {},
   "outputs": [
    {
     "data": {
      "text/plain": [
       "['The Best Phone for the MoneyThe iPhone 11 offers superb cameras, a more durable design and excellent battery life for an affordable price.Compelling ultra-wide cameraNew Night mode is excellentLong battery life',\n",
       " 'Really satisfied with the Product I received... It’s totally genuine and the packaging was also really good so if ur planning to buy just go for it.',\n",
       " 'Amazing phone with great cameras and better battery which gives you the best performance. I just love the camera .',\n",
       " 'Previously I was using one plus 3t it was a great phoneAnd then I decided to upgrade I am stuck between Samsung s10 plus or iPhone 11I have seen the specs and everything were good except the display it’s somewhere between 720-1080 and it’s not even an amoled it’s an LCD displayBut I decided to go with iPhone because I have never used an IOS device I have Been an android user from the past 9 years I ordered IPhone 11 (128gb) product redMy experience after using 3 weeks1. The delivery ...READ MORE',\n",
       " 'This is my first iOS phone. I am very happy with this product. Very much satisfied with this. I love this phone.',\n",
       " 'Great iPhone very snappy experience as apple kind. Upgraded from iPhone 7.Pros-Camera top class- Battery top performed-Chipset no need to say as apple kind-Security as you expect from apple- Display super bright industry leading colouraccuracy and super responsive-Build quality as expect from apple sturdypremium durable beautiful stylish.-Os most stable os in smartphone industryCons-No 5G-Display is not based on OLED technology-Charger headphones and 1 apple stic...READ MORE',\n",
       " 'Amazing Powerful and Durable Gadget.I’m am very happy with the camera picture quality, Amazing face id unlocked in dark room, Strong battery with perfect screen size as you can carry easily in pocket. This is my third iPhone.I shifted from android Samsung Note series to iPhone because of the strong build quality and peace of mind for next 3-4 years.Don’t think to much just go for it and I suggest you to go for minimum 128gb variant or more 256gb.I’ve attached my puppy pics and no fi...READ MORE',\n",
       " 'So far it’s been an AMAZING experience coming back to iOS after nearly a decade but it’s not as versatile as android though phone is sturdy dropped it accidentally a couple of times and nothing happened fortunately camera is awesome',\n",
       " 'i11 is worthy to buy, too much happy with the product. Thank u flipkart I received the item on time..loved it..',\n",
       " 'iphone 11 is a very good phone to buy only if you can compromise for the display. The display on this is device is pretty good but you can get other options with better displays in this price segment.If you can survive with an HD+ LCD panel with thicker bezels and a notch up top then this is a very good phone for you.Cameras are awesome, battery backup excellent, great performance and a decent premium look. Good job Apple !']"
      ]
     },
     "execution_count": 89,
     "metadata": {},
     "output_type": "execute_result"
    }
   ],
   "source": [
    "al=driver.find_elements_by_xpath(\"//div[@class='t-ZTKy']\")\n",
    "\n",
    "als=[]\n",
    "for i in range(len(al)):\n",
    "    als.append(al[i].text.replace(\"\\n\",\"\"))\n",
    "als  "
   ]
  },
  {
   "cell_type": "code",
   "execution_count": 91,
   "id": "ec593e63",
   "metadata": {},
   "outputs": [],
   "source": [
    "driver.find_element_by_xpath(\"/html/body/div/div/div[3]/div/div/div[2]/div[13]/div/div/nav/a[11]\").click()"
   ]
  },
  {
   "cell_type": "code",
   "execution_count": 94,
   "id": "5f11a09e",
   "metadata": {},
   "outputs": [
    {
     "data": {
      "text/plain": [
       "['5', '5', '5', '5', '5', '5', '5', '5', '5', '5']"
      ]
     },
     "execution_count": 94,
     "metadata": {},
     "output_type": "execute_result"
    }
   ],
   "source": [
    "rating1=driver.find_elements_by_xpath(\"//div[@class='col _2wzgFH K0kLPL']\")\n",
    "\n",
    "ratings1=[]\n",
    "for i in range(len(rating1)):\n",
    "    ratings1.append(rating1[i].text.split('\\n')[0])\n",
    "ratings1 \n",
    "\n",
    "\n",
    "\n"
   ]
  },
  {
   "cell_type": "code",
   "execution_count": 95,
   "id": "500dc6ec",
   "metadata": {},
   "outputs": [
    {
     "data": {
      "text/plain": [
       "['Highly recommended',\n",
       " 'Perfect product!',\n",
       " 'Perfect product!',\n",
       " 'Classy product',\n",
       " 'Simply awesome',\n",
       " 'Worth every penny',\n",
       " 'Perfect product!',\n",
       " 'Highly recommended',\n",
       " 'Worth every penny',\n",
       " 'Worth every penny']"
      ]
     },
     "execution_count": 95,
     "metadata": {},
     "output_type": "execute_result"
    }
   ],
   "source": [
    "review1=driver.find_elements_by_xpath(\"//div[@class='col _2wzgFH K0kLPL']\")\n",
    "\n",
    "reviews1=[]\n",
    "for i in range(len(review1)):\n",
    "    reviews1.append(review1[i].text.split('\\n')[1])\n",
    "reviews1 "
   ]
  },
  {
   "cell_type": "code",
   "execution_count": 96,
   "id": "f11e9b99",
   "metadata": {},
   "outputs": [
    {
     "data": {
      "text/plain": [
       "['What a camera .....just awesome ..you can feel this iPhone just awesome . Good for gaming also ...try pubg in hd it’s just wow',\n",
       " 'It’s a must buy who is looking for an upgrade from previous generation of iPhones. If you are using XR then still you can hold on for sometime and upgrade to 2020 model else this phone is a must buy . Camera quality is amazing and wide angle is something to count upon. Performance wise it’s amazing and feels premium while holding in hand. So a big YES for this device. Go for 128 GB variant as the 4K videos will occupy lots of space and the storage can get over very quickly. Try to buy it with...READ MORE',\n",
       " 'Value for money❤️❤️Its awesome mobile phone in the world ...Display was very good and bright ..Trust me freinds you r never regret after Buying..Just go for it....I love this phone and i switch to iphone x to 11',\n",
       " 'Totally in love with this ❤ the camera quality is amazing just love it 😘😘😘 itsss dammnnnnnn amazing... Must buy iPhone 11 this is my best experience ever ☀👌👌🧡🧡🧡🧡🧡 thanku apple ❤',\n",
       " 'Excellent camera, good performance, no lag. The lcd display is also good.. but difference come when we watch movie in prime and Netflix, the colours are not vibrant.. as we see in amoled display.. and the charger in box is of 5 watts.. takes more than 3 hours to charge from 0 to 100.. so guys be prepare to buy 18 watts charger . Finally I am an android user, it was my first Iapple phone, I promise u guys the iOS is so smooth.. overall the phone is damn good.... close eyes to buy it.. thanks t...READ MORE',\n",
       " 'Best budget Iphone till date ❤️ go for it guys without second thought. Let me explain you guys about Camera, Display, battery, and performance.Camera: at this price range there is no comparison of camera, you’ll love the picture quality as well as video quality. I am a Vlogger I wanted an iPhone with 4k video by front camera and I got this phone and I am more than happy 😃Battery: I use this phone roughly as I am active social media person and I have a youtube channel. so the battery ba...READ MORE',\n",
       " \"Iphone is just awesome.. battery backup is very very nice.. continuously for 10 hours we can use it.camera is just awesome.. display is just fab.i love it alot..i had to wait 15 days for it as i pre ordered it..overalll it's worth the price..these all images are clicked by my iPhone..and i love it.\",\n",
       " \"It's my first time to use iOS phone and I am loving my upgradation 😍😍 I love the color, I love the assebility of the phone....I need to learn more about its functionality, but as far as I have seen, it's quite easy and it has a lot of functions to work on, specially if you are a content writer or a blogger you get a lot of content creation platforms and they are really amazing.This phone not only for good quality photography but a lot of other task too.😍💯\",\n",
       " 'It’s been almost a month since I have been using this phone. I upgraded from an iPhone 8. The main issue with my 8 was battery and this phone is just awesome when it comes to battery. It lasts a day and a half for me with my regular use , internet connected always with 4gCan’t move forward without saying this. Battery of this phone is a life saver when I am traveling or at work when I don’t get the option to chargeCamera is superb. Front cam selfies and back cam photos are just awesome....READ MORE',\n",
       " 'Smooth like butter, camera like fantabulous, sound is crystal clear & its red color is damn attractive, i am just loving it. Must buy if you love photography.Lucky to get it in sale, thank you Flipkart.']"
      ]
     },
     "execution_count": 96,
     "metadata": {},
     "output_type": "execute_result"
    }
   ],
   "source": [
    "al1=driver.find_elements_by_xpath(\"//div[@class='t-ZTKy']\")\n",
    "\n",
    "als1=[]\n",
    "for i in range(len(al1)):\n",
    "    als1.append(al1[i].text.replace(\"\\n\",\"\"))\n",
    "als1  "
   ]
  },
  {
   "cell_type": "code",
   "execution_count": 97,
   "id": "28f7cb48",
   "metadata": {},
   "outputs": [],
   "source": [
    "driver.find_element_by_xpath(\"/html/body/div/div/div[3]/div/div/div[2]/div[13]/div/div/nav/a[12]\").click()"
   ]
  },
  {
   "cell_type": "code",
   "execution_count": 98,
   "id": "06d22438",
   "metadata": {},
   "outputs": [
    {
     "data": {
      "text/plain": [
       "['5', '5', '4', '5', '5', '5', '5', '5', '4', '5']"
      ]
     },
     "execution_count": 98,
     "metadata": {},
     "output_type": "execute_result"
    }
   ],
   "source": [
    "rating2=driver.find_elements_by_xpath(\"//div[@class='col _2wzgFH K0kLPL']\")\n",
    "\n",
    "ratings2=[]\n",
    "for i in range(len(rating2)):\n",
    "    ratings2.append(rating2[i].text.split('\\n')[0])\n",
    "ratings2 \n"
   ]
  },
  {
   "cell_type": "code",
   "execution_count": 99,
   "id": "ff159827",
   "metadata": {},
   "outputs": [
    {
     "data": {
      "text/plain": [
       "['Terrific',\n",
       " 'Wonderful',\n",
       " 'Nice product',\n",
       " 'Perfect product!',\n",
       " 'Brilliant',\n",
       " 'Classy product',\n",
       " 'Must buy!',\n",
       " 'Perfect product!',\n",
       " 'Good choice',\n",
       " 'Wonderful']"
      ]
     },
     "execution_count": 99,
     "metadata": {},
     "output_type": "execute_result"
    }
   ],
   "source": [
    "review2=driver.find_elements_by_xpath(\"//div[@class='col _2wzgFH K0kLPL']\")\n",
    "\n",
    "reviews2=[]\n",
    "for i in range(len(review2)):\n",
    "    reviews2.append(review2[i].text.split('\\n')[1])\n",
    "reviews2"
   ]
  },
  {
   "cell_type": "code",
   "execution_count": 100,
   "id": "f7a81957",
   "metadata": {},
   "outputs": [
    {
     "data": {
      "text/plain": [
       "['Really worth of money. i just love it. It is the best phone ever.',\n",
       " 'This is my first ever I phone. Before this I was using my google nexus 5. But moving from android to iOS is a great experience. It’s worth at this price. I will highly recommend it if you want to move to iOS. The best part of this phone is it’s camera and it’s battery life. This two things have won my heart. I loved it. Happy to have it in my hand. Still exploring its features. And can’t forget to mention Flipkart service. Very prompt service and fast delivery.',\n",
       " 'Awesome Phone. Slightly high price but worth. Better than iPhone XR.Camera is superb and wide angle camera is very clear.12MP selfie camera is also very good.A13 Chip gives a very good and smooth performance.',\n",
       " 'Battery backup is extraordinary, camera is decent & performance offered by A13 bionic is awsome. The display is good in practical usage like the visibility of display is very good in direct sun light compare to pro models. Iam extremely satisfied for the money I spent.',\n",
       " 'I have migrated from OP 7pro... and trust me, iPhone 11 is totally worth it.. following are the reasons:-1)there is ABSOLUTELY NO ISSUE WITH THE DISPLAY... its crisp, sharp and I found it to be much much better than OP7 pro. Netflix, Prime video all run crisply... you won’t miss a thing. True Tone works flawlessly...the display brightness is perfect. OP have not calibrated their screens properly.2) iPhone 11 series have really good cameras... others have spoken in depth about them.3) bat...READ MORE',\n",
       " 'Superb Product !!!A big and worthy upgrade from mi 3S to iphone 11 .Totally loved it !',\n",
       " 'It’s an amazing product from apple and the camera is simply superb. Phone is faster.Night shot is simply superb and detailing and colour differentiation from camera is an added advantageThis review I have written from iPhone 11 only and I am glad to say outside.Cons wise if we see HD+ display only, no battery percentage indicator as in older iPhone 8.No assistive touch control button in itNo oleophobic coating on back panel glass and finger prints are visible but since I bought mint gr...READ MORE',\n",
       " 'After 1 month use I found camera quality best compared to my previous Samsung note 10+.Display not good as note 10 also charging too slow.Apple should add fast charger like 11 plus and pro.Best phone for daily use',\n",
       " 'Looking so good 👍 😍 super 👌 stylish 😎 phoneClean box 📦 good 👍 delivery 👌 fast deliveryOriginal box Original iphone 📱 👌 😍😍😍',\n",
       " 'I just directly switch from iphone 6s to iphone 11 .The best premium smartphone I recommend to everyone. Excellent quality and colors the iphone have in 11 series.Camera quality is just awesome and the major feel when we hold in our hands. The sound quality and volume is also higher then the previous models.I will recommend to buy iphone 11 instead of pro models , there is nothing much difference as this model contains everything which fulfill our needs.Only one thing that I dislike abo...READ MORE']"
      ]
     },
     "execution_count": 100,
     "metadata": {},
     "output_type": "execute_result"
    }
   ],
   "source": [
    "al2=driver.find_elements_by_xpath(\"//div[@class='t-ZTKy']\")\n",
    "\n",
    "als2=[]\n",
    "for i in range(len(al2)):\n",
    "    als2.append(al2[i].text.replace(\"\\n\",\"\"))\n",
    "als2"
   ]
  },
  {
   "cell_type": "code",
   "execution_count": 101,
   "id": "f5bd2c3b",
   "metadata": {},
   "outputs": [],
   "source": [
    "driver.find_element_by_xpath(\"/html/body/div/div/div[3]/div/div/div[2]/div[13]/div/div/nav/a[12]\").click()"
   ]
  },
  {
   "cell_type": "code",
   "execution_count": 102,
   "id": "35c3eb3d",
   "metadata": {},
   "outputs": [
    {
     "data": {
      "text/plain": [
       "['5', '5', '5', '5', '5', '5', '5', '4', '1', '5']"
      ]
     },
     "execution_count": 102,
     "metadata": {},
     "output_type": "execute_result"
    }
   ],
   "source": [
    "rating3=driver.find_elements_by_xpath(\"//div[@class='col _2wzgFH K0kLPL']\")\n",
    "\n",
    "ratings3=[]\n",
    "for i in range(len(rating3)):\n",
    "    ratings3.append(rating3[i].text.split('\\n')[0])\n",
    "ratings3\n"
   ]
  },
  {
   "cell_type": "code",
   "execution_count": 103,
   "id": "a08ee778",
   "metadata": {},
   "outputs": [
    {
     "data": {
      "text/plain": [
       "['Terrific purchase',\n",
       " 'Simply awesome',\n",
       " 'Great product',\n",
       " 'Terrific purchase',\n",
       " 'Mind-blowing purchase',\n",
       " 'Excellent',\n",
       " 'Simply awesome',\n",
       " 'Good quality product',\n",
       " 'Very poor',\n",
       " 'Classy product']"
      ]
     },
     "execution_count": 103,
     "metadata": {},
     "output_type": "execute_result"
    }
   ],
   "source": [
    "review3=driver.find_elements_by_xpath(\"//div[@class='col _2wzgFH K0kLPL']\")\n",
    "\n",
    "reviews3=[]\n",
    "for i in range(len(review3)):\n",
    "    reviews3.append(review3[i].text.split('\\n')[1])\n",
    "reviews3"
   ]
  },
  {
   "cell_type": "code",
   "execution_count": 104,
   "id": "d06b9d35",
   "metadata": {},
   "outputs": [
    {
     "data": {
      "text/plain": [
       "['Upgraded from iphone 6 to 11 best phone for iphone users battery is much better than other iphones camera is awesome love to use it.camera is so clear in night.',\n",
       " \"It's very high performances devise i am like the service of flipkart delevary very fast and packing very nice perfect phone\",\n",
       " 'Well you all know the specifications . One of a kind. Best iPhone till date. Many enhancements to the camera app with many options. Love the glass body with matte finish in the lens area on the back. Lovely colours to choose from. Best battery in an iPhone till date, enough to last more than a day in normal usage. I tested my iPhone 11 battery and lasted for than 24 hours after full charge still with 30% battery charge left. Watched movies for some time. Normal usage on calls, browsing, musi...READ MORE',\n",
       " 'The built quality is not very premium.The battery back is great .The LCD panel is not so sharp but the brightness level is very High .Camera is super duper awesome.The red colour which people think is bright is actually very soothing and excellent colour to choose from .The A13 Bionic chip is really a flagship processor and can beat any phone which even has 12 gb ram .Camera module is very great and looks very stylish.',\n",
       " 'This will help you more. See if you are planning to buy iPhone 11. I will say. Yes. But there are some plans I just want to disclose before you buy. 1) If you are an existing iPhone X/XS/XS Max/ XR user, better you guys do not think it to buy. You guys have more or less better gadget. 2) If you are an android user and planning to buy premium phone. I will suggest them to please buy iPhone instead of buying an Android. I bet you will never go back to android after using IOS. Now I want to shar...READ MORE',\n",
       " 'Amazing camera and feel super machine I am not describe my feeling but this is amazing Phone I am so lucky I have this',\n",
       " 'Really good actually this is my first apple product am using its really awesome performance wise excellent. Am really happy with this iphone11',\n",
       " 'it is very good at performance. Camera is best like before and very smooth response even in water. Don’t buy 12 mini buy iPhone 11 , it is far better than 12 mini believe me ! Have a nice day \\uf8ff ☺️',\n",
       " 'Reviewing again after 5 months. At the beginning the battery and performance was good but it degraded soon. Also I was facing heating issues. The mobile will heat up like a stove sometimes. You cannot even play Pubg even in low settings properly, performance is not a problem but heating is. Also if you play that game for 10 mins the brightness will be automatically down due to over heating even when the auto brightness is set to off. This will not be solved even if u manually increase the bri...READ MORE',\n",
       " 'We are on apple ecosystem for almost eight years now with couple of iPads and iPhones, including Xr.Bought iPhone 11 as a gift to my daughter who loves it. We chose for a purple coloured one. Believe me it is gorgeous and towards the lighter shade. Dazzling and brilliant!The phone is great and does excellent RAM management like any other Apple device.The screen, though a LCD and lesser ppi as compared to other flagship phones of competitor brands, is a delight to watch with perfect re...READ MORE']"
      ]
     },
     "execution_count": 104,
     "metadata": {},
     "output_type": "execute_result"
    }
   ],
   "source": [
    "al3=driver.find_elements_by_xpath(\"//div[@class='t-ZTKy']\")\n",
    "\n",
    "als3=[]\n",
    "for i in range(len(al3)):\n",
    "    als3.append(al3[i].text.replace(\"\\n\",\"\"))\n",
    "als3"
   ]
  },
  {
   "cell_type": "code",
   "execution_count": 105,
   "id": "d60dfc1b",
   "metadata": {},
   "outputs": [],
   "source": [
    "driver.find_element_by_xpath(\"/html/body/div/div/div[3]/div/div/div[2]/div[13]/div/div/nav/a[12]\").click()"
   ]
  },
  {
   "cell_type": "code",
   "execution_count": 106,
   "id": "f7e9fbce",
   "metadata": {},
   "outputs": [
    {
     "data": {
      "text/plain": [
       "['5', '5', '5', '5', '5', '5', '5', '4', '5', '5']"
      ]
     },
     "execution_count": 106,
     "metadata": {},
     "output_type": "execute_result"
    }
   ],
   "source": [
    "rating4=driver.find_elements_by_xpath(\"//div[@class='col _2wzgFH K0kLPL']\")\n",
    "\n",
    "ratings4=[]\n",
    "for i in range(len(rating4)):\n",
    "    ratings4.append(rating4[i].text.split('\\n')[0])\n",
    "ratings4"
   ]
  },
  {
   "cell_type": "code",
   "execution_count": 107,
   "id": "ed7a8f54",
   "metadata": {},
   "outputs": [
    {
     "data": {
      "text/plain": [
       "['Perfect product!',\n",
       " 'Must buy!',\n",
       " 'Fabulous!',\n",
       " 'Mind-blowing purchase',\n",
       " 'Mind-blowing purchase',\n",
       " 'Wonderful',\n",
       " 'Great product',\n",
       " 'Very Good',\n",
       " 'Classy product',\n",
       " 'Perfect product!']"
      ]
     },
     "execution_count": 107,
     "metadata": {},
     "output_type": "execute_result"
    }
   ],
   "source": [
    "review4=driver.find_elements_by_xpath(\"//div[@class='col _2wzgFH K0kLPL']\")\n",
    "\n",
    "reviews4=[]\n",
    "for i in range(len(review4)):\n",
    "    reviews4.append(review4[i].text.split('\\n')[1])\n",
    "reviews4"
   ]
  },
  {
   "cell_type": "code",
   "execution_count": 108,
   "id": "f0d580ff",
   "metadata": {},
   "outputs": [
    {
     "data": {
      "text/plain": [
       "['It is just awesome mobile for this price from Apple,After 10 days reviewBattery enough for 1 day even 24*7 Internet will be on and mostly internet usageCamera is just awesome cool , android 64 MP is equal to this just 12 MPA13 Bionic chip will give more high performance without hangingAudio stereo speakers will give Dolby atoms sound with crystal clearVideo recording is like cinematic shots of every sec can be a 4K 60fps. Just awesome this phoneiPhone 11 loved one',\n",
       " 'Best Apple iPhone that i have bought at a very reasonable price, camera quality is next level just awesome n of superior quality android phones not even close(RIP) to that and also battery is really good but packaging by Flipkart of iPhone was very poor of such a expensive product, firstly im bit worried about the quality of product if i purchased it through online how was the product but i think now this was mine best decision to bought it through Flipkart online because i got genuine Apple...READ MORE',\n",
       " \"I can say I'm damn impressed with iPhone 11. As they says iPhone 11 have the toughest glass ever in the smartphone which you'll find on the front and back and it's totally smooth. The fit and finish is full apple quality - there's no sense that any cheaping out has happened in the construction. Without saying it's camera features this review won't complete. The iPhone 11 has a dual camera system, consisting of a wide angle len's that's pretty much same as found on the iPhone XR last year, but...READ MORE\",\n",
       " 'Best Quality Product OF iPhone Series , Sound Quality & Camera quality is very awesome, Battery Life is very Sufficient for 24 hr Backup With Full Internet Access , I love this this Product too much , It is very fast & making me Very fast in all my daily RoutineHighlights;1.Camera: 5 STAR2.Video Recording: 5 star3.Night mODE sHOOTING & Camera:4 star4. Audio Quality: Awesome5. Battery : 5 Star6. Touch:5 Star7. Processor: Very FastThe M...READ MORE',\n",
       " 'First thanks to Flipkart for this amazing deal and phone is outstanding. I upgraded from iPhone 7 and this is like very big upgrade. But the packaging was very basic I expected a good packaging as they only wrapped one layer of bubble wrap which I don’t think is enough to protect this expensive phone. And I recommend this phone and seller as well.And I’m posting this review after using it for 4 days.',\n",
       " 'Superfast delivery by Flipkart. Thanks.1. iPhone 11 is a pretty solid phone for the money you are paying.2. All the bad reviews about the display is confusing. It’s not that bad.3. I switched from a Oneplus 7t. I have no complaints about the display quality of iPhone. Yes, it’s not OLED, so, we are missing on the deep blacks. But that’s it. It is a very colour accurate display. Gets adequately bright and I could not find any pixelation.4. Performance is one of the best, if not best, in ...READ MORE',\n",
       " \"Again back to apple iphone after a gap of 2-3 years. It's pleasure to use iOS and the quality product by Apple. Iphone 11 still works like a beast in 2021 also. It really capable of doing day to day usage as well as hard core gaming. Battery is awesome. I'm really too much satisfied with it. Apart fto the very gorgious IPS LCD (AMOLED will be better) everything is mind boggling. Iphone💕.\",\n",
       " 'impressive super phone and best in class camera ,sound and face unlock is super fast just see and phone is unlock and fast in daily apps use',\n",
       " 'Well while switching from android to iOS the first thing you need to be careful about is that you will loose all your whatsapp chat backups as both are different operating systems. Camera clarity is awesome and though being an lcd screen clarity and resolution is good. Battery backup is also good unlike previous gen iPhone. So far the experience is good will Padre after a few months of usage.P.S the black is more of a dark grey shade and not jet black',\n",
       " 'In love with this iphone great performance,camera ,battery everything. Go for it have a uncompareble battery backup, no doubts in iPhone camera here You can see the picture which is shot on my iPhone In love with this iphone great performance,camera ,battery everything. Go for it have a uncompareble battery backup, no doubts in iPhone camera here You can see the picture which is shot on my iPhone In love with this iphone great performance,camera ,battery everything. Go for it have a uncompare...READ MORE']"
      ]
     },
     "execution_count": 108,
     "metadata": {},
     "output_type": "execute_result"
    }
   ],
   "source": [
    "al4=driver.find_elements_by_xpath(\"//div[@class='t-ZTKy']\")\n",
    "\n",
    "als4=[]\n",
    "for i in range(len(al4)):\n",
    "    als4.append(al4[i].text.replace(\"\\n\",\"\"))\n",
    "als4"
   ]
  },
  {
   "cell_type": "code",
   "execution_count": 109,
   "id": "74fe5b85",
   "metadata": {},
   "outputs": [],
   "source": [
    "driver.find_element_by_xpath(\"/html/body/div/div/div[3]/div/div/div[2]/div[13]/div/div/nav/a[12]\").click()"
   ]
  },
  {
   "cell_type": "code",
   "execution_count": 110,
   "id": "ff244359",
   "metadata": {},
   "outputs": [
    {
     "data": {
      "text/plain": [
       "['5', '5', '4', '5', '5', '5', '5', '5', '5', '5']"
      ]
     },
     "execution_count": 110,
     "metadata": {},
     "output_type": "execute_result"
    }
   ],
   "source": [
    "rating5=driver.find_elements_by_xpath(\"//div[@class='col _2wzgFH K0kLPL']\")\n",
    "\n",
    "ratings5=[]\n",
    "for i in range(len(rating5)):\n",
    "    ratings5.append(rating5[i].text.split('\\n')[0])\n",
    "ratings5"
   ]
  },
  {
   "cell_type": "code",
   "execution_count": 111,
   "id": "2449c9d9",
   "metadata": {},
   "outputs": [
    {
     "data": {
      "text/plain": [
       "['Just wow!',\n",
       " 'Awesome',\n",
       " 'Pretty good',\n",
       " 'Terrific purchase',\n",
       " 'Awesome',\n",
       " 'Classy product',\n",
       " 'Brilliant',\n",
       " 'Terrific',\n",
       " 'Perfect product!',\n",
       " 'Awesome']"
      ]
     },
     "execution_count": 111,
     "metadata": {},
     "output_type": "execute_result"
    }
   ],
   "source": [
    "review5=driver.find_elements_by_xpath(\"//div[@class='col _2wzgFH K0kLPL']\")\n",
    "\n",
    "reviews5=[]\n",
    "for i in range(len(review5)):\n",
    "    reviews5.append(review5[i].text.split('\\n')[1])\n",
    "reviews5"
   ]
  },
  {
   "cell_type": "code",
   "execution_count": 112,
   "id": "e8b1828c",
   "metadata": {},
   "outputs": [
    {
     "data": {
      "text/plain": [
       "['Best in class. Battery backup is good especially when you play games like Pubg COD. But it is sort of heavy when you hold in hands. Portrait mode is best to click pictures. Stage light effect is awesome. Try to click photos outside in nature because photos inside home or room will not give you the quality in any phone even in DSLR.',\n",
       " 'Very excited to have this phone. This phone has the real power unlike the android phones having SD 855 . The battery life is very good and the camera quality is excellent as comapred to redmi and other phones except google pixel. I M enjoying every single bit of it. Would recommed only if you have the budget.',\n",
       " 'I was using Iphone 6s and also Oneplus 6t. Both mobiles were perfectly alright in Photos, gaming, and smooth interface . My 6s mobile getting battery issue. thought upgrade to 11. Really like this mobile of its Internal storage (compare to 6s) , camera and its touch feeling. Its a worth buying mobile for me.',\n",
       " 'Its Very awesome product working and good camera quality and all about best product and also flipkart is very great deal and offer nice price',\n",
       " 'I am using this phone for 5 days and its one of the best camera out there ❤️ the screen is not oled and i am coming from iphone xs so its little bit not up to the mark i would sayBut overall value for money💕😍the battery back up is far better than my iphone xs and its worth in my apple ecosystem💫❤️if u are an apple User and have the eco system then go for it❤️though i will be getting the new iphone but its pretty good💫',\n",
       " 'Best and amazing product.....phone looks so premium.... battary is also good as expected .... Wide angle camera is so addictive ...if you are a IOS lover....then this phone will be the best choice for you all!!💯🔥',\n",
       " 'Excellent camera and display touching very nice and smooth very improvement against iPhone XR and new processor is very fast',\n",
       " \"I got this beast today. And I must say the picture quality of its camera is awesome. Both the cameras works fine.As for as the processing is concerned, it runs without any lag. You can play and do whatever you want without a glitch.The battery runs for a day with medium and high workload.The display is good and the speakers are working fine.The earphones doesn't have any base and you can use it for calling mostly.The charging time is approximately for 90 minutes for full charging...READ MORE\",\n",
       " 'Awesome purchase. Amazing phone with good battery backup. It’s a top notch device. White colour looks amazing. Phone has a few extra feature than iPhone XR. Overall, this is value for money',\n",
       " 'Always love the apple products, upgraded from old iPhone 6S plus to this after having my first baby. I just love to click baby’s photos with it. Overall I just love this phone. Battery back up is okay, sound quality is good. Haven’t tested yet waterproof yet. Only one thing I hate is apple could have given charger & headphones in box.']"
      ]
     },
     "execution_count": 112,
     "metadata": {},
     "output_type": "execute_result"
    }
   ],
   "source": [
    "al5=driver.find_elements_by_xpath(\"//div[@class='t-ZTKy']\")\n",
    "\n",
    "als5=[]\n",
    "for i in range(len(al5)):\n",
    "    als5.append(al5[i].text.replace(\"\\n\",\"\"))\n",
    "als5"
   ]
  },
  {
   "cell_type": "code",
   "execution_count": 113,
   "id": "4480b28d",
   "metadata": {},
   "outputs": [],
   "source": [
    "driver.find_element_by_xpath(\"/html/body/div/div/div[3]/div/div/div[2]/div[13]/div/div/nav/a[12]\").click()"
   ]
  },
  {
   "cell_type": "code",
   "execution_count": 114,
   "id": "137e3628",
   "metadata": {},
   "outputs": [
    {
     "data": {
      "text/plain": [
       "['5', '1', '5', '5', '5', '4', '5', '5', '5', '4']"
      ]
     },
     "execution_count": 114,
     "metadata": {},
     "output_type": "execute_result"
    }
   ],
   "source": [
    "rating6=driver.find_elements_by_xpath(\"//div[@class='col _2wzgFH K0kLPL']\")\n",
    "\n",
    "ratings6=[]\n",
    "for i in range(len(rating6)):\n",
    "    ratings6.append(rating6[i].text.split('\\n')[0])\n",
    "ratings6"
   ]
  },
  {
   "cell_type": "code",
   "execution_count": 115,
   "id": "2cf9eaf8",
   "metadata": {},
   "outputs": [
    {
     "data": {
      "text/plain": [
       "['Perfect product!',\n",
       " 'Very poor',\n",
       " 'Fabulous!',\n",
       " 'Excellent',\n",
       " 'Must buy!',\n",
       " 'Value-for-money',\n",
       " 'Best in the market!',\n",
       " 'Brilliant',\n",
       " 'Terrific purchase',\n",
       " 'Good quality product']"
      ]
     },
     "execution_count": 115,
     "metadata": {},
     "output_type": "execute_result"
    }
   ],
   "source": [
    "review6=driver.find_elements_by_xpath(\"//div[@class='col _2wzgFH K0kLPL']\")\n",
    "\n",
    "reviews6=[]\n",
    "for i in range(len(review6)):\n",
    "    reviews6.append(review6[i].text.split('\\n')[1])\n",
    "reviews6"
   ]
  },
  {
   "cell_type": "code",
   "execution_count": 136,
   "id": "c9ee5e17",
   "metadata": {},
   "outputs": [
    {
     "data": {
      "text/plain": [
       "['Value for money5 star ratingExcellent cameraBattery backup full day in single charge.Tougher and water resistant design, glossy back.The screen has excellent brightness and contrast.Apple A13 Bionic is the fastest smartphone chip on the planet.Excellent battery life, fast charging support.Stereo speakers with great quality.',\n",
       " 'Please DONT buy from here,I purchased Apple iPhone 11. with an exchange of IPhone 7, the exchange did not go well, iPhone 7 had a small scratch out side screen which i could never identify till date, but the FLIPKART person could, so he reduced 50% from exchange rate. I decided not to trade in, but paid money.iPhone 11 Detail Below---------------------------------------------It came with no charging, then i have put for charging, it took lot of time for charging, the phone also showe...READ MORE',\n",
       " 'awesome phone to have. it has got many smart features apart from mind blowing looks, camera, display, battery and sound. have fallen in love with this phone. must buy phone if you have got enough money. thanks to flipkart and apple of course..',\n",
       " 'Its a fabulous mobile look awesome performance unbeaten camera like dslr battery good i think this is a beast of mobile',\n",
       " 'Dear friends... I want to share my experience with you about this amazing I phone 11....this is my first iPhone and special things about this mobile is it has great camera, battery backup and awesome display.... I mean everything is perfect.loved it 👍👍👍',\n",
       " \"Just got this iphone 11And it is most powerful mobile phone I have used everSo,go for it if you want a phone with best specification like camera,battery backup,display, A13 bionic chipThat's my review about this phone but yours can be differ from me....\",\n",
       " \"The best all rounder iphone. Flipkart is doing a great job. They're delivery services are blazing fast. I got delivery on the same day. Genuine Apple Product. Working great. Talking about review There's no need of review for iphones. They're simply the best.\",\n",
       " 'Amazing phone and on great deal I received with super fast delivery by Flipkart...',\n",
       " 'finally an iPhone with very nice battery backup. update from iPhone 7 and happy to have it. camera is not up to the mark in low light but overall a recommended phone if your budget allows 😀',\n",
       " \"I'm switching this phone to oppo reno 10x zoomIt's really impressiveRarely I'm missing smooth display touch response like oppo reno butI really loved it.Camera really impressive\"]"
      ]
     },
     "execution_count": 136,
     "metadata": {},
     "output_type": "execute_result"
    }
   ],
   "source": [
    "al6=driver.find_elements_by_xpath(\"//div[@class='t-ZTKy']\")\n",
    "\n",
    "als6=[]\n",
    "for i in range(len(al6)):\n",
    "    als6.append(al6[i].text.replace(\"\\n\",\"\"))\n",
    "als6"
   ]
  },
  {
   "cell_type": "code",
   "execution_count": 137,
   "id": "1b25a598",
   "metadata": {},
   "outputs": [],
   "source": [
    "driver.find_element_by_xpath(\"/html/body/div/div/div[3]/div/div/div[2]/div[13]/div/div/nav/a[12]\").click()"
   ]
  },
  {
   "cell_type": "code",
   "execution_count": 138,
   "id": "f5229043",
   "metadata": {},
   "outputs": [
    {
     "data": {
      "text/plain": [
       "['5', '5', '5', '4', '5', '1', '5', '5', '5', '5']"
      ]
     },
     "execution_count": 138,
     "metadata": {},
     "output_type": "execute_result"
    }
   ],
   "source": [
    "rating7=driver.find_elements_by_xpath(\"//div[@class='col _2wzgFH K0kLPL']\")\n",
    "\n",
    "ratings7=[]\n",
    "for i in range(len(rating7)):\n",
    "    ratings7.append(rating7[i].text.split('\\n')[0])\n",
    "ratings7"
   ]
  },
  {
   "cell_type": "code",
   "execution_count": 139,
   "id": "c2c0c653",
   "metadata": {},
   "outputs": [
    {
     "data": {
      "text/plain": [
       "['Best in the market!',\n",
       " 'Perfect product!',\n",
       " 'Awesome',\n",
       " 'Value-for-money',\n",
       " 'Just wow!',\n",
       " 'Worthless',\n",
       " 'Super!',\n",
       " 'Classy product',\n",
       " 'Must buy!',\n",
       " 'Excellent']"
      ]
     },
     "execution_count": 139,
     "metadata": {},
     "output_type": "execute_result"
    }
   ],
   "source": [
    "review7=driver.find_elements_by_xpath(\"//div[@class='col _2wzgFH K0kLPL']\")\n",
    "\n",
    "reviews7=[]\n",
    "for i in range(len(review7)):\n",
    "    reviews7.append(review7[i].text.split('\\n')[1])\n",
    "reviews7"
   ]
  },
  {
   "cell_type": "code",
   "execution_count": 140,
   "id": "1d0430f2",
   "metadata": {},
   "outputs": [
    {
     "data": {
      "text/plain": [
       "['Damn this phone is a blast . Upgraded from android to ios and is a duperb experience. Battery backup is top notch and display also pretty good',\n",
       " 'Worth the money’ starting first from its performance it beats out all phones , second the smoothness of camera is awesome, contrast ratio is much than expected. Price will not matter if u r a quality person, if not other phones are available with better discount',\n",
       " 'I dreamt about this day from a long time.... Getting an iPhone with my own money.... Super happy and worth spending every penny',\n",
       " \"I'm Really happy with the productDelivery was fast as well..it was a gift for my sister and she loved it so much.\",\n",
       " 'Great iphone.I am writing this review after 2 months of usage.Camera is excellent, especially the nightmodeDisplay perfectBattery backup awesomeSound quality very goodOverall Apple gives you a perfect iphone in this range.Really in love with iPhone 11',\n",
       " \"Phone is awesome no doubt. But Camera & Display is not great. Performance is mind blowing.But the phone is heating too much when charging or when you regularly used. It's experience after using 1 week. It's heating extrem when I play PUBG for 30 minutes.Go for iPhone 11 pro or 12. Otherwise go for Android phone you will get much better phone in less price.\",\n",
       " 'Did an upgrade from 6s plus to iphone 11.Ao far the experience is well and good. Felt smoother than 6s plus. The camera quality is superb. Battery backup is descent. Not a heavy user, and gets power more than a day. Go for it if you need an alrounder iphone in a competitve price.',\n",
       " 'Gifted my man on his 30th birthday 🎂 He loves it.. Him happy so i am more than happy 😍😘❤️🥰',\n",
       " 'I rate this product 5* as it has got amazing user experience with the best performing A13 bionic processor. The screen responds and graphics rendering is top notch. With casual gaming and internet browsing, the battery lasts for approx. 1 day. Camera is very good. You will fall in love with the portrait mode. You can call me a loyal Apple customer or whatever but I won’t stop praising the products and overall experience. That user experience matters and is worth every penny you pay.Below ar...READ MORE',\n",
       " \"It was amazing experience for me. Honestly i am using iPhone first time so I don't have that much past experience about that. But after using 7 days this mobile i want to give some honest feedback.1- Display 9 out of 102- Camera 9.5 out of 103- Battery 7 out of 104- Performance 9.5 out of 105- Features & Functions 10 out of 106- Outer looks and colour 10 out of 10Rest i think i will understand after using this for few months.I will highly recommend you guys if you have budget then you...READ MORE\"]"
      ]
     },
     "execution_count": 140,
     "metadata": {},
     "output_type": "execute_result"
    }
   ],
   "source": [
    "al7=driver.find_elements_by_xpath(\"//div[@class='t-ZTKy']\")\n",
    "\n",
    "als7=[]\n",
    "for i in range(len(al7)):\n",
    "    als7.append(al7[i].text.replace(\"\\n\",\"\"))\n",
    "als7"
   ]
  },
  {
   "cell_type": "code",
   "execution_count": 141,
   "id": "517160c0",
   "metadata": {},
   "outputs": [],
   "source": [
    "driver.find_element_by_xpath(\"/html/body/div/div/div[3]/div/div/div[2]/div[13]/div/div/nav/a[12]\").click()"
   ]
  },
  {
   "cell_type": "code",
   "execution_count": 143,
   "id": "3e7cb5a6",
   "metadata": {},
   "outputs": [
    {
     "data": {
      "text/plain": [
       "['4', '5', '5', '5', '5', '5', '5', '5', '5', '5']"
      ]
     },
     "execution_count": 143,
     "metadata": {},
     "output_type": "execute_result"
    }
   ],
   "source": [
    "rating8=driver.find_elements_by_xpath(\"//div[@class='col _2wzgFH K0kLPL']\")\n",
    "\n",
    "ratings8=[]\n",
    "for i in range(len(rating8)):\n",
    "    ratings8.append(rating8[i].text.split('\\n')[0])\n",
    "ratings8"
   ]
  },
  {
   "cell_type": "code",
   "execution_count": 144,
   "id": "445b65dd",
   "metadata": {},
   "outputs": [
    {
     "data": {
      "text/plain": [
       "['Nice product',\n",
       " 'Mind-blowing purchase',\n",
       " 'Wonderful',\n",
       " 'Terrific',\n",
       " 'Excellent',\n",
       " 'Mind-blowing purchase',\n",
       " 'Highly recommended',\n",
       " 'Worth every penny',\n",
       " 'Fabulous!',\n",
       " 'Brilliant']"
      ]
     },
     "execution_count": 144,
     "metadata": {},
     "output_type": "execute_result"
    }
   ],
   "source": [
    "review8=driver.find_elements_by_xpath(\"//div[@class='col _2wzgFH K0kLPL']\")\n",
    "\n",
    "reviews8=[]\n",
    "for i in range(len(review8)):\n",
    "    reviews8.append(review8[i].text.split('\\n')[1])\n",
    "reviews8"
   ]
  },
  {
   "cell_type": "code",
   "execution_count": 145,
   "id": "19ec7694",
   "metadata": {},
   "outputs": [
    {
     "data": {
      "text/plain": [
       "[\"If you are looking for a premium phone under 55k, this is the one for you.Got the iPhone 11 during the Republic day sale. Performance is top notch in this price range. Camera's do a perfect job in taking good quality photos and videos. Battery backup too is satisfactory. Writing this review after using for a week. Any further observations would be updated.\",\n",
       " 'awesome Phone Smooth Touch Too good Sexyy looks one word Awesome',\n",
       " 'Super and marvellous phone look very cute and nice sound. I love this phone i think white is good colur.Excellent camer 5*😍😘♥️♥️',\n",
       " 'I bought iPhone 11 On March 2021, And I am Writing this review after using the phone for 4 Months. I would Say Everything is fine, Top Performance, Nice Camera as Anyone would Expect from any series of iPhone but when the Question comes to Battery it is complicated. The Battery is fully optimised and it comes 3110 mAh capacity but the problem is with the charger. Honestly Apple Removed charger from in Box items in the name of Environment and they are also forcing us to buy any 20W PD 3rd part...READ MORE',\n",
       " \"Just go for it.This phone is really amazing. I ordered it for my wife and we click photos on this thing which are better than dslr. I own OnePlus 6t but it's camera sucks. iPhone is really amazing when it comes to camera. It's worth spending 50k on this. Cons- only display is lcd. While using u don't feel it but if u compare with other phone then u can see difference quite easily.Changing from Android to iphone is bit difficult coz most of things u don't know but I liked it. Some of the a...READ MORE\",\n",
       " 'Absolutely powerful gadget. Loved it’s look! Soo glassy and classy. I would definitely recommend this model of Apple. Only disappointed with the 5W charger, one should purchase an 18W adapter for fast charging. Though battery backup is great. Bought it in September 2020, reviewing after so long so I’m gonna put the genuine review here.✅',\n",
       " 'Thanks Flipkart For this amazing deal! I had a dream of owning a iphone since i had known about.Im very happy with my purchase & it is totally worth it.Amazing experience all over !!Anyone who’s thinking of buying it in 2021, i would simply say go for it without any second thoughts ❤️',\n",
       " 'Here is the thingThe only reason why you should buy this phone is for the camera, iOS, and if you have headaches looking at AMOLED display.I’m not an avid gamer but watch a lot of movies on smartphone. However, my migraine attacks increased considerably after using AMOLED Smartphone. That’s why I made a calculated decision to buy iPhone 11. It has the best LCD display and the blacks, though not as natural as an AMOLED, is better than some of the other smartphones.Adding to this the ste...READ MORE',\n",
       " 'Everything is perfect pictures come out so clearly and at first I wasn’t sure when I got it then when I started to use it and get the hang of it it was amazing!! I can’t wait to see what the next future phones will be like. The screen display on this bad boy are unbelievable they are so clear and never fail me. The performance is super cool there is a lot of cool features as well I like this phone because I feel that it is easy to use and one of my favorite things about this phone is the Face...READ MORE',\n",
       " 'A wort full value for money decision it’s . Simply go for it in 2021 its still a good decision . Awesome camera , Super smothered performance, Heck of build quality. And Most important it protects your privacy.']"
      ]
     },
     "execution_count": 145,
     "metadata": {},
     "output_type": "execute_result"
    }
   ],
   "source": [
    "al8=driver.find_elements_by_xpath(\"//div[@class='t-ZTKy']\")\n",
    "\n",
    "als8=[]\n",
    "for i in range(len(al8)):\n",
    "    als8.append(al8[i].text.replace(\"\\n\",\"\"))\n",
    "als8"
   ]
  },
  {
   "cell_type": "code",
   "execution_count": 146,
   "id": "2a546e5d",
   "metadata": {},
   "outputs": [],
   "source": [
    "driver.find_element_by_xpath(\"/html/body/div/div/div[3]/div/div/div[2]/div[13]/div/div/nav/a[12]\").click()"
   ]
  },
  {
   "cell_type": "code",
   "execution_count": 147,
   "id": "0319eb15",
   "metadata": {},
   "outputs": [
    {
     "data": {
      "text/plain": [
       "['5', '4', '5', '5', '5', '5', '5', '5', '5', '3']"
      ]
     },
     "execution_count": 147,
     "metadata": {},
     "output_type": "execute_result"
    }
   ],
   "source": [
    "rating9=driver.find_elements_by_xpath(\"//div[@class='col _2wzgFH K0kLPL']\")\n",
    "\n",
    "ratings9=[]\n",
    "for i in range(len(rating9)):\n",
    "    ratings9.append(rating9[i].text.split('\\n')[0])\n",
    "ratings9"
   ]
  },
  {
   "cell_type": "code",
   "execution_count": 148,
   "id": "be37b299",
   "metadata": {},
   "outputs": [
    {
     "data": {
      "text/plain": [
       "['Worth every penny',\n",
       " 'Pretty good',\n",
       " 'Fabulous!',\n",
       " 'Mind-blowing purchase',\n",
       " 'Excellent',\n",
       " 'Super!',\n",
       " 'Just wow!',\n",
       " 'Terrific purchase',\n",
       " 'Awesome',\n",
       " 'Decent product']"
      ]
     },
     "execution_count": 148,
     "metadata": {},
     "output_type": "execute_result"
    }
   ],
   "source": [
    "review9=driver.find_elements_by_xpath(\"//div[@class='col _2wzgFH K0kLPL']\")\n",
    "\n",
    "reviews9=[]\n",
    "for i in range(len(review9)):\n",
    "    reviews9.append(review9[i].text.split('\\n')[1])\n",
    "reviews9"
   ]
  },
  {
   "cell_type": "code",
   "execution_count": 149,
   "id": "14ee2ba2",
   "metadata": {},
   "outputs": [
    {
     "data": {
      "text/plain": [
       "['Undoubtedly Iphone 11 is the most successful model till now and its performance is extraordinary and the security features are very impressive, display is more vibrant sound quality Camera Quality 5*****, but Iphone should add accessories too and act like scrooge.',\n",
       " \"I've used this phone for over a month now and here are my takeaways.I would like to first talk about the best things about this phone and then the cons of it.Pros:This phone is a performance beast. It handles large games and applications effortlessly and you won't find any stutters or lags while playing graphic intensive games like pubg, cod , mortal kombat and asphalt.This phone has only 4gb ram and yet the ram management is amazing, it can keep 3 heavy games in memory without reload...READ MORE\",\n",
       " 'I purchased the iPhone 11 a month back. I must say Apple has impressed me yet again . I have been an Apple user for past 5 years . The phone is power packed with amazing features . What impressed me the most was the battery backup the phone offers . Battery can easily run upto 1.5 days in single charge with moderate toHeavy usage . If you’re looking for a value for money device , I don’t see any other phone in the price range which can match the iPhone 11 .One thing I didn’t like was that ...READ MORE',\n",
       " 'Excellent camera 📸 And Display touching very Nice And Smooth and very improvement againstI phone 11 and new processor is very fast',\n",
       " 'A perfect phone and a good battery super camera and the sound is dynamic overall the phone is perfect for upgrading from lower iPhone model to iPhone 11',\n",
       " 'This is my first ever iPhone.And I truly don’t regret switching to IOS from my Android.It is easily an alternative to a DSLR camera.If you’re obsessed with photos and videos, just don’t think twice or don’t compare to other androids(Samsung S10 lite or OnePlus 8/8T), as it’s far better from them in every field.Comparing will only make you confused.I am getting an average Screen on Time of around 10 hours with 30 percent left. I haven’t let my device discharged below 30 % as it aff...READ MORE',\n",
       " 'The ultimate performanceCamera is superbThe battery backup also very good i never saw iphone gives this much of battery backupIf any one wana buy iphone 11 definitely i will recommend this mobileIt has the better battery and powerfull processer peak performance glorious camera and the display also 100% high quality lcd display if u had money for for 12 if u dont wana invest much money on that then go for iphone 11 it has maximum same specs only main difference between the 12 and 11 is...READ MORE',\n",
       " 'I use a Note10+ and have been using both iOS and Android devices.Camera has really good features and portraits are super good, better than Samsung flagship. Overall camera setup can still be enhanced and hopeful for better upgrades on software in next releaseOperating system is quite a breeze and user experience of daily usage is very high as compared to Android. I moved to iOS very swiftly in 2 days for all my office work from Note10+Battery holds up quite well with 4 hrs of call and ...READ MORE',\n",
       " 'The phone is completely goodAs far as camera Apple is king of itAnd its a beast in performanceAnd the battery is pretty good too',\n",
       " 'Everything u ll like it when u use this iPhone. Simple changes only not many to lower models but it’s nice to use. Little heavy compared to previous models like 7,8']"
      ]
     },
     "execution_count": 149,
     "metadata": {},
     "output_type": "execute_result"
    }
   ],
   "source": [
    "al9=driver.find_elements_by_xpath(\"//div[@class='t-ZTKy']\")\n",
    "\n",
    "als9=[]\n",
    "for i in range(len(al9)):\n",
    "    als9.append(al9[i].text.replace(\"\\n\",\"\"))\n",
    "als9"
   ]
  },
  {
   "cell_type": "code",
   "execution_count": 150,
   "id": "a04a259f",
   "metadata": {},
   "outputs": [
    {
     "data": {
      "text/plain": [
       "['5',\n",
       " '5',\n",
       " '5',\n",
       " '5',\n",
       " '5',\n",
       " '5',\n",
       " '5',\n",
       " '4',\n",
       " '5',\n",
       " '5',\n",
       " '5',\n",
       " '5',\n",
       " '5',\n",
       " '5',\n",
       " '5',\n",
       " '5',\n",
       " '5',\n",
       " '5',\n",
       " '5',\n",
       " '5',\n",
       " '5',\n",
       " '5',\n",
       " '4',\n",
       " '5',\n",
       " '5',\n",
       " '5',\n",
       " '5',\n",
       " '5',\n",
       " '4',\n",
       " '5',\n",
       " '5',\n",
       " '5',\n",
       " '5',\n",
       " '5',\n",
       " '5',\n",
       " '5',\n",
       " '5',\n",
       " '4',\n",
       " '1',\n",
       " '5',\n",
       " '5',\n",
       " '5',\n",
       " '5',\n",
       " '5',\n",
       " '5',\n",
       " '5',\n",
       " '5',\n",
       " '4',\n",
       " '5',\n",
       " '5',\n",
       " '5',\n",
       " '5',\n",
       " '4',\n",
       " '5',\n",
       " '5',\n",
       " '5',\n",
       " '5',\n",
       " '5',\n",
       " '5',\n",
       " '5',\n",
       " '5',\n",
       " '1',\n",
       " '5',\n",
       " '5',\n",
       " '5',\n",
       " '4',\n",
       " '5',\n",
       " '5',\n",
       " '5',\n",
       " '4',\n",
       " '5',\n",
       " '5',\n",
       " '5',\n",
       " '4',\n",
       " '5',\n",
       " '1',\n",
       " '5',\n",
       " '5',\n",
       " '5',\n",
       " '5',\n",
       " '4',\n",
       " '5',\n",
       " '5',\n",
       " '5',\n",
       " '5',\n",
       " '5',\n",
       " '5',\n",
       " '5',\n",
       " '5',\n",
       " '5',\n",
       " '5',\n",
       " '4',\n",
       " '5',\n",
       " '5',\n",
       " '5',\n",
       " '5',\n",
       " '5',\n",
       " '5',\n",
       " '5',\n",
       " '3']"
      ]
     },
     "execution_count": 150,
     "metadata": {},
     "output_type": "execute_result"
    }
   ],
   "source": [
    "finalrating=ratings+ratings1+ratings2+ratings3+ratings4+ratings5+ratings6+ratings7+ratings8+ratings9\n",
    "finalrating"
   ]
  },
  {
   "cell_type": "code",
   "execution_count": 151,
   "id": "5a0e86b1",
   "metadata": {},
   "outputs": [
    {
     "data": {
      "text/plain": [
       "['Brilliant',\n",
       " 'Simply awesome',\n",
       " 'Perfect product!',\n",
       " 'Worth every penny',\n",
       " 'Fabulous!',\n",
       " 'Best in the market!',\n",
       " 'Great product',\n",
       " 'Good choice',\n",
       " 'Worth every penny',\n",
       " 'Highly recommended',\n",
       " 'Highly recommended',\n",
       " 'Perfect product!',\n",
       " 'Perfect product!',\n",
       " 'Classy product',\n",
       " 'Simply awesome',\n",
       " 'Worth every penny',\n",
       " 'Perfect product!',\n",
       " 'Highly recommended',\n",
       " 'Worth every penny',\n",
       " 'Worth every penny',\n",
       " 'Terrific',\n",
       " 'Wonderful',\n",
       " 'Nice product',\n",
       " 'Perfect product!',\n",
       " 'Brilliant',\n",
       " 'Classy product',\n",
       " 'Must buy!',\n",
       " 'Perfect product!',\n",
       " 'Good choice',\n",
       " 'Wonderful',\n",
       " 'Terrific purchase',\n",
       " 'Simply awesome',\n",
       " 'Great product',\n",
       " 'Terrific purchase',\n",
       " 'Mind-blowing purchase',\n",
       " 'Excellent',\n",
       " 'Simply awesome',\n",
       " 'Good quality product',\n",
       " 'Very poor',\n",
       " 'Classy product',\n",
       " 'Perfect product!',\n",
       " 'Must buy!',\n",
       " 'Fabulous!',\n",
       " 'Mind-blowing purchase',\n",
       " 'Mind-blowing purchase',\n",
       " 'Wonderful',\n",
       " 'Great product',\n",
       " 'Very Good',\n",
       " 'Classy product',\n",
       " 'Perfect product!',\n",
       " 'Just wow!',\n",
       " 'Awesome',\n",
       " 'Pretty good',\n",
       " 'Terrific purchase',\n",
       " 'Awesome',\n",
       " 'Classy product',\n",
       " 'Brilliant',\n",
       " 'Terrific',\n",
       " 'Perfect product!',\n",
       " 'Awesome',\n",
       " 'Perfect product!',\n",
       " 'Very poor',\n",
       " 'Fabulous!',\n",
       " 'Excellent',\n",
       " 'Must buy!',\n",
       " 'Value-for-money',\n",
       " 'Best in the market!',\n",
       " 'Brilliant',\n",
       " 'Terrific purchase',\n",
       " 'Good quality product',\n",
       " 'Best in the market!',\n",
       " 'Perfect product!',\n",
       " 'Awesome',\n",
       " 'Value-for-money',\n",
       " 'Just wow!',\n",
       " 'Worthless',\n",
       " 'Super!',\n",
       " 'Classy product',\n",
       " 'Must buy!',\n",
       " 'Excellent',\n",
       " 'Nice product',\n",
       " 'Mind-blowing purchase',\n",
       " 'Wonderful',\n",
       " 'Terrific',\n",
       " 'Excellent',\n",
       " 'Mind-blowing purchase',\n",
       " 'Highly recommended',\n",
       " 'Worth every penny',\n",
       " 'Fabulous!',\n",
       " 'Brilliant',\n",
       " 'Worth every penny',\n",
       " 'Pretty good',\n",
       " 'Fabulous!',\n",
       " 'Mind-blowing purchase',\n",
       " 'Excellent',\n",
       " 'Super!',\n",
       " 'Just wow!',\n",
       " 'Terrific purchase',\n",
       " 'Awesome',\n",
       " 'Decent product']"
      ]
     },
     "execution_count": 151,
     "metadata": {},
     "output_type": "execute_result"
    }
   ],
   "source": [
    "finalreview=reviews+reviews1+reviews2+reviews3+reviews4+reviews5+reviews6+reviews7+reviews8+reviews9\n",
    "finalreview"
   ]
  },
  {
   "cell_type": "code",
   "execution_count": 152,
   "id": "90464d77",
   "metadata": {},
   "outputs": [
    {
     "data": {
      "text/plain": [
       "['The Best Phone for the MoneyThe iPhone 11 offers superb cameras, a more durable design and excellent battery life for an affordable price.Compelling ultra-wide cameraNew Night mode is excellentLong battery life',\n",
       " 'Really satisfied with the Product I received... It’s totally genuine and the packaging was also really good so if ur planning to buy just go for it.',\n",
       " 'Amazing phone with great cameras and better battery which gives you the best performance. I just love the camera .',\n",
       " 'Previously I was using one plus 3t it was a great phoneAnd then I decided to upgrade I am stuck between Samsung s10 plus or iPhone 11I have seen the specs and everything were good except the display it’s somewhere between 720-1080 and it’s not even an amoled it’s an LCD displayBut I decided to go with iPhone because I have never used an IOS device I have Been an android user from the past 9 years I ordered IPhone 11 (128gb) product redMy experience after using 3 weeks1. The delivery ...READ MORE',\n",
       " 'This is my first iOS phone. I am very happy with this product. Very much satisfied with this. I love this phone.',\n",
       " 'Great iPhone very snappy experience as apple kind. Upgraded from iPhone 7.Pros-Camera top class- Battery top performed-Chipset no need to say as apple kind-Security as you expect from apple- Display super bright industry leading colouraccuracy and super responsive-Build quality as expect from apple sturdypremium durable beautiful stylish.-Os most stable os in smartphone industryCons-No 5G-Display is not based on OLED technology-Charger headphones and 1 apple stic...READ MORE',\n",
       " 'Amazing Powerful and Durable Gadget.I’m am very happy with the camera picture quality, Amazing face id unlocked in dark room, Strong battery with perfect screen size as you can carry easily in pocket. This is my third iPhone.I shifted from android Samsung Note series to iPhone because of the strong build quality and peace of mind for next 3-4 years.Don’t think to much just go for it and I suggest you to go for minimum 128gb variant or more 256gb.I’ve attached my puppy pics and no fi...READ MORE',\n",
       " 'So far it’s been an AMAZING experience coming back to iOS after nearly a decade but it’s not as versatile as android though phone is sturdy dropped it accidentally a couple of times and nothing happened fortunately camera is awesome',\n",
       " 'i11 is worthy to buy, too much happy with the product. Thank u flipkart I received the item on time..loved it..',\n",
       " 'iphone 11 is a very good phone to buy only if you can compromise for the display. The display on this is device is pretty good but you can get other options with better displays in this price segment.If you can survive with an HD+ LCD panel with thicker bezels and a notch up top then this is a very good phone for you.Cameras are awesome, battery backup excellent, great performance and a decent premium look. Good job Apple !',\n",
       " 'What a camera .....just awesome ..you can feel this iPhone just awesome . Good for gaming also ...try pubg in hd it’s just wow',\n",
       " 'It’s a must buy who is looking for an upgrade from previous generation of iPhones. If you are using XR then still you can hold on for sometime and upgrade to 2020 model else this phone is a must buy . Camera quality is amazing and wide angle is something to count upon. Performance wise it’s amazing and feels premium while holding in hand. So a big YES for this device. Go for 128 GB variant as the 4K videos will occupy lots of space and the storage can get over very quickly. Try to buy it with...READ MORE',\n",
       " 'Value for money❤️❤️Its awesome mobile phone in the world ...Display was very good and bright ..Trust me freinds you r never regret after Buying..Just go for it....I love this phone and i switch to iphone x to 11',\n",
       " 'Totally in love with this ❤ the camera quality is amazing just love it 😘😘😘 itsss dammnnnnnn amazing... Must buy iPhone 11 this is my best experience ever ☀👌👌🧡🧡🧡🧡🧡 thanku apple ❤',\n",
       " 'Excellent camera, good performance, no lag. The lcd display is also good.. but difference come when we watch movie in prime and Netflix, the colours are not vibrant.. as we see in amoled display.. and the charger in box is of 5 watts.. takes more than 3 hours to charge from 0 to 100.. so guys be prepare to buy 18 watts charger . Finally I am an android user, it was my first Iapple phone, I promise u guys the iOS is so smooth.. overall the phone is damn good.... close eyes to buy it.. thanks t...READ MORE',\n",
       " 'Best budget Iphone till date ❤️ go for it guys without second thought. Let me explain you guys about Camera, Display, battery, and performance.Camera: at this price range there is no comparison of camera, you’ll love the picture quality as well as video quality. I am a Vlogger I wanted an iPhone with 4k video by front camera and I got this phone and I am more than happy 😃Battery: I use this phone roughly as I am active social media person and I have a youtube channel. so the battery ba...READ MORE',\n",
       " \"Iphone is just awesome.. battery backup is very very nice.. continuously for 10 hours we can use it.camera is just awesome.. display is just fab.i love it alot..i had to wait 15 days for it as i pre ordered it..overalll it's worth the price..these all images are clicked by my iPhone..and i love it.\",\n",
       " \"It's my first time to use iOS phone and I am loving my upgradation 😍😍 I love the color, I love the assebility of the phone....I need to learn more about its functionality, but as far as I have seen, it's quite easy and it has a lot of functions to work on, specially if you are a content writer or a blogger you get a lot of content creation platforms and they are really amazing.This phone not only for good quality photography but a lot of other task too.😍💯\",\n",
       " 'It’s been almost a month since I have been using this phone. I upgraded from an iPhone 8. The main issue with my 8 was battery and this phone is just awesome when it comes to battery. It lasts a day and a half for me with my regular use , internet connected always with 4gCan’t move forward without saying this. Battery of this phone is a life saver when I am traveling or at work when I don’t get the option to chargeCamera is superb. Front cam selfies and back cam photos are just awesome....READ MORE',\n",
       " 'Smooth like butter, camera like fantabulous, sound is crystal clear & its red color is damn attractive, i am just loving it. Must buy if you love photography.Lucky to get it in sale, thank you Flipkart.',\n",
       " 'Really worth of money. i just love it. It is the best phone ever.',\n",
       " 'This is my first ever I phone. Before this I was using my google nexus 5. But moving from android to iOS is a great experience. It’s worth at this price. I will highly recommend it if you want to move to iOS. The best part of this phone is it’s camera and it’s battery life. This two things have won my heart. I loved it. Happy to have it in my hand. Still exploring its features. And can’t forget to mention Flipkart service. Very prompt service and fast delivery.',\n",
       " 'Awesome Phone. Slightly high price but worth. Better than iPhone XR.Camera is superb and wide angle camera is very clear.12MP selfie camera is also very good.A13 Chip gives a very good and smooth performance.',\n",
       " 'Battery backup is extraordinary, camera is decent & performance offered by A13 bionic is awsome. The display is good in practical usage like the visibility of display is very good in direct sun light compare to pro models. Iam extremely satisfied for the money I spent.',\n",
       " 'I have migrated from OP 7pro... and trust me, iPhone 11 is totally worth it.. following are the reasons:-1)there is ABSOLUTELY NO ISSUE WITH THE DISPLAY... its crisp, sharp and I found it to be much much better than OP7 pro. Netflix, Prime video all run crisply... you won’t miss a thing. True Tone works flawlessly...the display brightness is perfect. OP have not calibrated their screens properly.2) iPhone 11 series have really good cameras... others have spoken in depth about them.3) bat...READ MORE',\n",
       " 'Superb Product !!!A big and worthy upgrade from mi 3S to iphone 11 .Totally loved it !',\n",
       " 'It’s an amazing product from apple and the camera is simply superb. Phone is faster.Night shot is simply superb and detailing and colour differentiation from camera is an added advantageThis review I have written from iPhone 11 only and I am glad to say outside.Cons wise if we see HD+ display only, no battery percentage indicator as in older iPhone 8.No assistive touch control button in itNo oleophobic coating on back panel glass and finger prints are visible but since I bought mint gr...READ MORE',\n",
       " 'After 1 month use I found camera quality best compared to my previous Samsung note 10+.Display not good as note 10 also charging too slow.Apple should add fast charger like 11 plus and pro.Best phone for daily use',\n",
       " 'Looking so good 👍 😍 super 👌 stylish 😎 phoneClean box 📦 good 👍 delivery 👌 fast deliveryOriginal box Original iphone 📱 👌 😍😍😍',\n",
       " 'I just directly switch from iphone 6s to iphone 11 .The best premium smartphone I recommend to everyone. Excellent quality and colors the iphone have in 11 series.Camera quality is just awesome and the major feel when we hold in our hands. The sound quality and volume is also higher then the previous models.I will recommend to buy iphone 11 instead of pro models , there is nothing much difference as this model contains everything which fulfill our needs.Only one thing that I dislike abo...READ MORE',\n",
       " 'Upgraded from iphone 6 to 11 best phone for iphone users battery is much better than other iphones camera is awesome love to use it.camera is so clear in night.',\n",
       " \"It's very high performances devise i am like the service of flipkart delevary very fast and packing very nice perfect phone\",\n",
       " 'Well you all know the specifications . One of a kind. Best iPhone till date. Many enhancements to the camera app with many options. Love the glass body with matte finish in the lens area on the back. Lovely colours to choose from. Best battery in an iPhone till date, enough to last more than a day in normal usage. I tested my iPhone 11 battery and lasted for than 24 hours after full charge still with 30% battery charge left. Watched movies for some time. Normal usage on calls, browsing, musi...READ MORE',\n",
       " 'The built quality is not very premium.The battery back is great .The LCD panel is not so sharp but the brightness level is very High .Camera is super duper awesome.The red colour which people think is bright is actually very soothing and excellent colour to choose from .The A13 Bionic chip is really a flagship processor and can beat any phone which even has 12 gb ram .Camera module is very great and looks very stylish.',\n",
       " 'This will help you more. See if you are planning to buy iPhone 11. I will say. Yes. But there are some plans I just want to disclose before you buy. 1) If you are an existing iPhone X/XS/XS Max/ XR user, better you guys do not think it to buy. You guys have more or less better gadget. 2) If you are an android user and planning to buy premium phone. I will suggest them to please buy iPhone instead of buying an Android. I bet you will never go back to android after using IOS. Now I want to shar...READ MORE',\n",
       " 'Amazing camera and feel super machine I am not describe my feeling but this is amazing Phone I am so lucky I have this',\n",
       " 'Really good actually this is my first apple product am using its really awesome performance wise excellent. Am really happy with this iphone11',\n",
       " 'it is very good at performance. Camera is best like before and very smooth response even in water. Don’t buy 12 mini buy iPhone 11 , it is far better than 12 mini believe me ! Have a nice day \\uf8ff ☺️',\n",
       " 'Reviewing again after 5 months. At the beginning the battery and performance was good but it degraded soon. Also I was facing heating issues. The mobile will heat up like a stove sometimes. You cannot even play Pubg even in low settings properly, performance is not a problem but heating is. Also if you play that game for 10 mins the brightness will be automatically down due to over heating even when the auto brightness is set to off. This will not be solved even if u manually increase the bri...READ MORE',\n",
       " 'We are on apple ecosystem for almost eight years now with couple of iPads and iPhones, including Xr.Bought iPhone 11 as a gift to my daughter who loves it. We chose for a purple coloured one. Believe me it is gorgeous and towards the lighter shade. Dazzling and brilliant!The phone is great and does excellent RAM management like any other Apple device.The screen, though a LCD and lesser ppi as compared to other flagship phones of competitor brands, is a delight to watch with perfect re...READ MORE',\n",
       " 'It is just awesome mobile for this price from Apple,After 10 days reviewBattery enough for 1 day even 24*7 Internet will be on and mostly internet usageCamera is just awesome cool , android 64 MP is equal to this just 12 MPA13 Bionic chip will give more high performance without hangingAudio stereo speakers will give Dolby atoms sound with crystal clearVideo recording is like cinematic shots of every sec can be a 4K 60fps. Just awesome this phoneiPhone 11 loved one',\n",
       " 'Best Apple iPhone that i have bought at a very reasonable price, camera quality is next level just awesome n of superior quality android phones not even close(RIP) to that and also battery is really good but packaging by Flipkart of iPhone was very poor of such a expensive product, firstly im bit worried about the quality of product if i purchased it through online how was the product but i think now this was mine best decision to bought it through Flipkart online because i got genuine Apple...READ MORE',\n",
       " \"I can say I'm damn impressed with iPhone 11. As they says iPhone 11 have the toughest glass ever in the smartphone which you'll find on the front and back and it's totally smooth. The fit and finish is full apple quality - there's no sense that any cheaping out has happened in the construction. Without saying it's camera features this review won't complete. The iPhone 11 has a dual camera system, consisting of a wide angle len's that's pretty much same as found on the iPhone XR last year, but...READ MORE\",\n",
       " 'Best Quality Product OF iPhone Series , Sound Quality & Camera quality is very awesome, Battery Life is very Sufficient for 24 hr Backup With Full Internet Access , I love this this Product too much , It is very fast & making me Very fast in all my daily RoutineHighlights;1.Camera: 5 STAR2.Video Recording: 5 star3.Night mODE sHOOTING & Camera:4 star4. Audio Quality: Awesome5. Battery : 5 Star6. Touch:5 Star7. Processor: Very FastThe M...READ MORE',\n",
       " 'First thanks to Flipkart for this amazing deal and phone is outstanding. I upgraded from iPhone 7 and this is like very big upgrade. But the packaging was very basic I expected a good packaging as they only wrapped one layer of bubble wrap which I don’t think is enough to protect this expensive phone. And I recommend this phone and seller as well.And I’m posting this review after using it for 4 days.',\n",
       " 'Superfast delivery by Flipkart. Thanks.1. iPhone 11 is a pretty solid phone for the money you are paying.2. All the bad reviews about the display is confusing. It’s not that bad.3. I switched from a Oneplus 7t. I have no complaints about the display quality of iPhone. Yes, it’s not OLED, so, we are missing on the deep blacks. But that’s it. It is a very colour accurate display. Gets adequately bright and I could not find any pixelation.4. Performance is one of the best, if not best, in ...READ MORE',\n",
       " \"Again back to apple iphone after a gap of 2-3 years. It's pleasure to use iOS and the quality product by Apple. Iphone 11 still works like a beast in 2021 also. It really capable of doing day to day usage as well as hard core gaming. Battery is awesome. I'm really too much satisfied with it. Apart fto the very gorgious IPS LCD (AMOLED will be better) everything is mind boggling. Iphone💕.\",\n",
       " 'impressive super phone and best in class camera ,sound and face unlock is super fast just see and phone is unlock and fast in daily apps use',\n",
       " 'Well while switching from android to iOS the first thing you need to be careful about is that you will loose all your whatsapp chat backups as both are different operating systems. Camera clarity is awesome and though being an lcd screen clarity and resolution is good. Battery backup is also good unlike previous gen iPhone. So far the experience is good will Padre after a few months of usage.P.S the black is more of a dark grey shade and not jet black',\n",
       " 'In love with this iphone great performance,camera ,battery everything. Go for it have a uncompareble battery backup, no doubts in iPhone camera here You can see the picture which is shot on my iPhone In love with this iphone great performance,camera ,battery everything. Go for it have a uncompareble battery backup, no doubts in iPhone camera here You can see the picture which is shot on my iPhone In love with this iphone great performance,camera ,battery everything. Go for it have a uncompare...READ MORE',\n",
       " 'Best in class. Battery backup is good especially when you play games like Pubg COD. But it is sort of heavy when you hold in hands. Portrait mode is best to click pictures. Stage light effect is awesome. Try to click photos outside in nature because photos inside home or room will not give you the quality in any phone even in DSLR.',\n",
       " 'Very excited to have this phone. This phone has the real power unlike the android phones having SD 855 . The battery life is very good and the camera quality is excellent as comapred to redmi and other phones except google pixel. I M enjoying every single bit of it. Would recommed only if you have the budget.',\n",
       " 'I was using Iphone 6s and also Oneplus 6t. Both mobiles were perfectly alright in Photos, gaming, and smooth interface . My 6s mobile getting battery issue. thought upgrade to 11. Really like this mobile of its Internal storage (compare to 6s) , camera and its touch feeling. Its a worth buying mobile for me.',\n",
       " 'Its Very awesome product working and good camera quality and all about best product and also flipkart is very great deal and offer nice price',\n",
       " 'I am using this phone for 5 days and its one of the best camera out there ❤️ the screen is not oled and i am coming from iphone xs so its little bit not up to the mark i would sayBut overall value for money💕😍the battery back up is far better than my iphone xs and its worth in my apple ecosystem💫❤️if u are an apple User and have the eco system then go for it❤️though i will be getting the new iphone but its pretty good💫',\n",
       " 'Best and amazing product.....phone looks so premium.... battary is also good as expected .... Wide angle camera is so addictive ...if you are a IOS lover....then this phone will be the best choice for you all!!💯🔥',\n",
       " 'Excellent camera and display touching very nice and smooth very improvement against iPhone XR and new processor is very fast',\n",
       " \"I got this beast today. And I must say the picture quality of its camera is awesome. Both the cameras works fine.As for as the processing is concerned, it runs without any lag. You can play and do whatever you want without a glitch.The battery runs for a day with medium and high workload.The display is good and the speakers are working fine.The earphones doesn't have any base and you can use it for calling mostly.The charging time is approximately for 90 minutes for full charging...READ MORE\",\n",
       " 'Awesome purchase. Amazing phone with good battery backup. It’s a top notch device. White colour looks amazing. Phone has a few extra feature than iPhone XR. Overall, this is value for money',\n",
       " 'Always love the apple products, upgraded from old iPhone 6S plus to this after having my first baby. I just love to click baby’s photos with it. Overall I just love this phone. Battery back up is okay, sound quality is good. Haven’t tested yet waterproof yet. Only one thing I hate is apple could have given charger & headphones in box.',\n",
       " 'Value for money5 star ratingExcellent cameraBattery backup full day in single charge.Tougher and water resistant design, glossy back.The screen has excellent brightness and contrast.Apple A13 Bionic is the fastest smartphone chip on the planet.Excellent battery life, fast charging support.Stereo speakers with great quality.',\n",
       " 'Please DONT buy from here,I purchased Apple iPhone 11. with an exchange of IPhone 7, the exchange did not go well, iPhone 7 had a small scratch out side screen which i could never identify till date, but the FLIPKART person could, so he reduced 50% from exchange rate. I decided not to trade in, but paid money.iPhone 11 Detail Below---------------------------------------------It came with no charging, then i have put for charging, it took lot of time for charging, the phone also showe...READ MORE',\n",
       " 'awesome phone to have. it has got many smart features apart from mind blowing looks, camera, display, battery and sound. have fallen in love with this phone. must buy phone if you have got enough money. thanks to flipkart and apple of course..',\n",
       " 'Its a fabulous mobile look awesome performance unbeaten camera like dslr battery good i think this is a beast of mobile',\n",
       " 'Dear friends... I want to share my experience with you about this amazing I phone 11....this is my first iPhone and special things about this mobile is it has great camera, battery backup and awesome display.... I mean everything is perfect.loved it 👍👍👍',\n",
       " \"Just got this iphone 11And it is most powerful mobile phone I have used everSo,go for it if you want a phone with best specification like camera,battery backup,display, A13 bionic chipThat's my review about this phone but yours can be differ from me....\",\n",
       " \"The best all rounder iphone. Flipkart is doing a great job. They're delivery services are blazing fast. I got delivery on the same day. Genuine Apple Product. Working great. Talking about review There's no need of review for iphones. They're simply the best.\",\n",
       " 'Amazing phone and on great deal I received with super fast delivery by Flipkart...',\n",
       " 'finally an iPhone with very nice battery backup. update from iPhone 7 and happy to have it. camera is not up to the mark in low light but overall a recommended phone if your budget allows 😀',\n",
       " \"I'm switching this phone to oppo reno 10x zoomIt's really impressiveRarely I'm missing smooth display touch response like oppo reno butI really loved it.Camera really impressive\",\n",
       " 'Damn this phone is a blast . Upgraded from android to ios and is a duperb experience. Battery backup is top notch and display also pretty good',\n",
       " 'Worth the money’ starting first from its performance it beats out all phones , second the smoothness of camera is awesome, contrast ratio is much than expected. Price will not matter if u r a quality person, if not other phones are available with better discount',\n",
       " 'I dreamt about this day from a long time.... Getting an iPhone with my own money.... Super happy and worth spending every penny',\n",
       " \"I'm Really happy with the productDelivery was fast as well..it was a gift for my sister and she loved it so much.\",\n",
       " 'Great iphone.I am writing this review after 2 months of usage.Camera is excellent, especially the nightmodeDisplay perfectBattery backup awesomeSound quality very goodOverall Apple gives you a perfect iphone in this range.Really in love with iPhone 11',\n",
       " \"Phone is awesome no doubt. But Camera & Display is not great. Performance is mind blowing.But the phone is heating too much when charging or when you regularly used. It's experience after using 1 week. It's heating extrem when I play PUBG for 30 minutes.Go for iPhone 11 pro or 12. Otherwise go for Android phone you will get much better phone in less price.\",\n",
       " 'Did an upgrade from 6s plus to iphone 11.Ao far the experience is well and good. Felt smoother than 6s plus. The camera quality is superb. Battery backup is descent. Not a heavy user, and gets power more than a day. Go for it if you need an alrounder iphone in a competitve price.',\n",
       " 'Gifted my man on his 30th birthday 🎂 He loves it.. Him happy so i am more than happy 😍😘❤️🥰',\n",
       " 'I rate this product 5* as it has got amazing user experience with the best performing A13 bionic processor. The screen responds and graphics rendering is top notch. With casual gaming and internet browsing, the battery lasts for approx. 1 day. Camera is very good. You will fall in love with the portrait mode. You can call me a loyal Apple customer or whatever but I won’t stop praising the products and overall experience. That user experience matters and is worth every penny you pay.Below ar...READ MORE',\n",
       " \"It was amazing experience for me. Honestly i am using iPhone first time so I don't have that much past experience about that. But after using 7 days this mobile i want to give some honest feedback.1- Display 9 out of 102- Camera 9.5 out of 103- Battery 7 out of 104- Performance 9.5 out of 105- Features & Functions 10 out of 106- Outer looks and colour 10 out of 10Rest i think i will understand after using this for few months.I will highly recommend you guys if you have budget then you...READ MORE\",\n",
       " \"If you are looking for a premium phone under 55k, this is the one for you.Got the iPhone 11 during the Republic day sale. Performance is top notch in this price range. Camera's do a perfect job in taking good quality photos and videos. Battery backup too is satisfactory. Writing this review after using for a week. Any further observations would be updated.\",\n",
       " 'awesome Phone Smooth Touch Too good Sexyy looks one word Awesome',\n",
       " 'Super and marvellous phone look very cute and nice sound. I love this phone i think white is good colur.Excellent camer 5*😍😘♥️♥️',\n",
       " 'I bought iPhone 11 On March 2021, And I am Writing this review after using the phone for 4 Months. I would Say Everything is fine, Top Performance, Nice Camera as Anyone would Expect from any series of iPhone but when the Question comes to Battery it is complicated. The Battery is fully optimised and it comes 3110 mAh capacity but the problem is with the charger. Honestly Apple Removed charger from in Box items in the name of Environment and they are also forcing us to buy any 20W PD 3rd part...READ MORE',\n",
       " \"Just go for it.This phone is really amazing. I ordered it for my wife and we click photos on this thing which are better than dslr. I own OnePlus 6t but it's camera sucks. iPhone is really amazing when it comes to camera. It's worth spending 50k on this. Cons- only display is lcd. While using u don't feel it but if u compare with other phone then u can see difference quite easily.Changing from Android to iphone is bit difficult coz most of things u don't know but I liked it. Some of the a...READ MORE\",\n",
       " 'Absolutely powerful gadget. Loved it’s look! Soo glassy and classy. I would definitely recommend this model of Apple. Only disappointed with the 5W charger, one should purchase an 18W adapter for fast charging. Though battery backup is great. Bought it in September 2020, reviewing after so long so I’m gonna put the genuine review here.✅',\n",
       " 'Thanks Flipkart For this amazing deal! I had a dream of owning a iphone since i had known about.Im very happy with my purchase & it is totally worth it.Amazing experience all over !!Anyone who’s thinking of buying it in 2021, i would simply say go for it without any second thoughts ❤️',\n",
       " 'Here is the thingThe only reason why you should buy this phone is for the camera, iOS, and if you have headaches looking at AMOLED display.I’m not an avid gamer but watch a lot of movies on smartphone. However, my migraine attacks increased considerably after using AMOLED Smartphone. That’s why I made a calculated decision to buy iPhone 11. It has the best LCD display and the blacks, though not as natural as an AMOLED, is better than some of the other smartphones.Adding to this the ste...READ MORE',\n",
       " 'Everything is perfect pictures come out so clearly and at first I wasn’t sure when I got it then when I started to use it and get the hang of it it was amazing!! I can’t wait to see what the next future phones will be like. The screen display on this bad boy are unbelievable they are so clear and never fail me. The performance is super cool there is a lot of cool features as well I like this phone because I feel that it is easy to use and one of my favorite things about this phone is the Face...READ MORE',\n",
       " 'A wort full value for money decision it’s . Simply go for it in 2021 its still a good decision . Awesome camera , Super smothered performance, Heck of build quality. And Most important it protects your privacy.',\n",
       " 'Undoubtedly Iphone 11 is the most successful model till now and its performance is extraordinary and the security features are very impressive, display is more vibrant sound quality Camera Quality 5*****, but Iphone should add accessories too and act like scrooge.',\n",
       " \"I've used this phone for over a month now and here are my takeaways.I would like to first talk about the best things about this phone and then the cons of it.Pros:This phone is a performance beast. It handles large games and applications effortlessly and you won't find any stutters or lags while playing graphic intensive games like pubg, cod , mortal kombat and asphalt.This phone has only 4gb ram and yet the ram management is amazing, it can keep 3 heavy games in memory without reload...READ MORE\",\n",
       " 'I purchased the iPhone 11 a month back. I must say Apple has impressed me yet again . I have been an Apple user for past 5 years . The phone is power packed with amazing features . What impressed me the most was the battery backup the phone offers . Battery can easily run upto 1.5 days in single charge with moderate toHeavy usage . If you’re looking for a value for money device , I don’t see any other phone in the price range which can match the iPhone 11 .One thing I didn’t like was that ...READ MORE',\n",
       " 'Excellent camera 📸 And Display touching very Nice And Smooth and very improvement againstI phone 11 and new processor is very fast',\n",
       " 'A perfect phone and a good battery super camera and the sound is dynamic overall the phone is perfect for upgrading from lower iPhone model to iPhone 11',\n",
       " 'This is my first ever iPhone.And I truly don’t regret switching to IOS from my Android.It is easily an alternative to a DSLR camera.If you’re obsessed with photos and videos, just don’t think twice or don’t compare to other androids(Samsung S10 lite or OnePlus 8/8T), as it’s far better from them in every field.Comparing will only make you confused.I am getting an average Screen on Time of around 10 hours with 30 percent left. I haven’t let my device discharged below 30 % as it aff...READ MORE',\n",
       " 'The ultimate performanceCamera is superbThe battery backup also very good i never saw iphone gives this much of battery backupIf any one wana buy iphone 11 definitely i will recommend this mobileIt has the better battery and powerfull processer peak performance glorious camera and the display also 100% high quality lcd display if u had money for for 12 if u dont wana invest much money on that then go for iphone 11 it has maximum same specs only main difference between the 12 and 11 is...READ MORE',\n",
       " 'I use a Note10+ and have been using both iOS and Android devices.Camera has really good features and portraits are super good, better than Samsung flagship. Overall camera setup can still be enhanced and hopeful for better upgrades on software in next releaseOperating system is quite a breeze and user experience of daily usage is very high as compared to Android. I moved to iOS very swiftly in 2 days for all my office work from Note10+Battery holds up quite well with 4 hrs of call and ...READ MORE',\n",
       " 'The phone is completely goodAs far as camera Apple is king of itAnd its a beast in performanceAnd the battery is pretty good too',\n",
       " 'Everything u ll like it when u use this iPhone. Simple changes only not many to lower models but it’s nice to use. Little heavy compared to previous models like 7,8']"
      ]
     },
     "execution_count": 152,
     "metadata": {},
     "output_type": "execute_result"
    }
   ],
   "source": [
    "finalals=als+als1+als2+als3+als4+als5+als6+als7+als8+als9\n",
    "finalals"
   ]
  },
  {
   "cell_type": "code",
   "execution_count": 153,
   "id": "9a85e4c3",
   "metadata": {},
   "outputs": [
    {
     "data": {
      "text/html": [
       "<div>\n",
       "<style scoped>\n",
       "    .dataframe tbody tr th:only-of-type {\n",
       "        vertical-align: middle;\n",
       "    }\n",
       "\n",
       "    .dataframe tbody tr th {\n",
       "        vertical-align: top;\n",
       "    }\n",
       "\n",
       "    .dataframe thead th {\n",
       "        text-align: right;\n",
       "    }\n",
       "</style>\n",
       "<table border=\"1\" class=\"dataframe\">\n",
       "  <thead>\n",
       "    <tr style=\"text-align: right;\">\n",
       "      <th></th>\n",
       "      <th>Rating</th>\n",
       "      <th>Review Summary</th>\n",
       "      <th>Full Reviews</th>\n",
       "    </tr>\n",
       "  </thead>\n",
       "  <tbody>\n",
       "    <tr>\n",
       "      <th>0</th>\n",
       "      <td>5</td>\n",
       "      <td>Brilliant</td>\n",
       "      <td>The Best Phone for the MoneyThe iPhone 11 offe...</td>\n",
       "    </tr>\n",
       "    <tr>\n",
       "      <th>1</th>\n",
       "      <td>5</td>\n",
       "      <td>Simply awesome</td>\n",
       "      <td>Really satisfied with the Product I received.....</td>\n",
       "    </tr>\n",
       "    <tr>\n",
       "      <th>2</th>\n",
       "      <td>5</td>\n",
       "      <td>Perfect product!</td>\n",
       "      <td>Amazing phone with great cameras and better ba...</td>\n",
       "    </tr>\n",
       "    <tr>\n",
       "      <th>3</th>\n",
       "      <td>5</td>\n",
       "      <td>Worth every penny</td>\n",
       "      <td>Previously I was using one plus 3t it was a gr...</td>\n",
       "    </tr>\n",
       "    <tr>\n",
       "      <th>4</th>\n",
       "      <td>5</td>\n",
       "      <td>Fabulous!</td>\n",
       "      <td>This is my first iOS phone. I am very happy wi...</td>\n",
       "    </tr>\n",
       "    <tr>\n",
       "      <th>...</th>\n",
       "      <td>...</td>\n",
       "      <td>...</td>\n",
       "      <td>...</td>\n",
       "    </tr>\n",
       "    <tr>\n",
       "      <th>95</th>\n",
       "      <td>5</td>\n",
       "      <td>Super!</td>\n",
       "      <td>This is my first ever iPhone.And I truly don’t...</td>\n",
       "    </tr>\n",
       "    <tr>\n",
       "      <th>96</th>\n",
       "      <td>5</td>\n",
       "      <td>Just wow!</td>\n",
       "      <td>The ultimate performanceCamera is superbThe ba...</td>\n",
       "    </tr>\n",
       "    <tr>\n",
       "      <th>97</th>\n",
       "      <td>5</td>\n",
       "      <td>Terrific purchase</td>\n",
       "      <td>I use a Note10+ and have been using both iOS a...</td>\n",
       "    </tr>\n",
       "    <tr>\n",
       "      <th>98</th>\n",
       "      <td>5</td>\n",
       "      <td>Awesome</td>\n",
       "      <td>The phone is completely goodAs far as camera A...</td>\n",
       "    </tr>\n",
       "    <tr>\n",
       "      <th>99</th>\n",
       "      <td>3</td>\n",
       "      <td>Decent product</td>\n",
       "      <td>Everything u ll like it when u use this iPhone...</td>\n",
       "    </tr>\n",
       "  </tbody>\n",
       "</table>\n",
       "<p>100 rows × 3 columns</p>\n",
       "</div>"
      ],
      "text/plain": [
       "   Rating     Review Summary  \\\n",
       "0       5          Brilliant   \n",
       "1       5     Simply awesome   \n",
       "2       5   Perfect product!   \n",
       "3       5  Worth every penny   \n",
       "4       5          Fabulous!   \n",
       "..    ...                ...   \n",
       "95      5             Super!   \n",
       "96      5          Just wow!   \n",
       "97      5  Terrific purchase   \n",
       "98      5            Awesome   \n",
       "99      3     Decent product   \n",
       "\n",
       "                                         Full Reviews  \n",
       "0   The Best Phone for the MoneyThe iPhone 11 offe...  \n",
       "1   Really satisfied with the Product I received.....  \n",
       "2   Amazing phone with great cameras and better ba...  \n",
       "3   Previously I was using one plus 3t it was a gr...  \n",
       "4   This is my first iOS phone. I am very happy wi...  \n",
       "..                                                ...  \n",
       "95  This is my first ever iPhone.And I truly don’t...  \n",
       "96  The ultimate performanceCamera is superbThe ba...  \n",
       "97  I use a Note10+ and have been using both iOS a...  \n",
       "98  The phone is completely goodAs far as camera A...  \n",
       "99  Everything u ll like it when u use this iPhone...  \n",
       "\n",
       "[100 rows x 3 columns]"
      ]
     },
     "execution_count": 153,
     "metadata": {},
     "output_type": "execute_result"
    }
   ],
   "source": [
    "data=pd.DataFrame({\"Rating\":finalrating,\"Review Summary\":finalreview,\"Full Reviews\":finalals})\n",
    "data"
   ]
  },
  {
   "cell_type": "code",
   "execution_count": null,
   "id": "5e5bbfe3",
   "metadata": {},
   "outputs": [],
   "source": []
  },
  {
   "cell_type": "code",
   "execution_count": null,
   "id": "7a0d5b77",
   "metadata": {},
   "outputs": [],
   "source": []
  },
  {
   "cell_type": "code",
   "execution_count": null,
   "id": "93dd622b",
   "metadata": {},
   "outputs": [],
   "source": []
  },
  {
   "cell_type": "code",
   "execution_count": null,
   "id": "3ce70570",
   "metadata": {},
   "outputs": [],
   "source": []
  },
  {
   "cell_type": "markdown",
   "id": "28afeec0",
   "metadata": {},
   "source": [
    "# Ans-6 : Scrape data for first 100 sneakers you find when you visit flipkart.com and search for “sneakers” in the \n",
    "search field. \n",
    "You have to scrape 4 attributes of each sneaker: \n",
    "1. Brand \n",
    "2. Product Description \n",
    "3. Price "
   ]
  },
  {
   "cell_type": "code",
   "execution_count": 1,
   "id": "d7aa6fb8",
   "metadata": {},
   "outputs": [],
   "source": [
    "from selenium import webdriver\n",
    "from webdriver_manager.chrome import ChromeDriverManager\n",
    "import pandas as pd\n",
    "import warnings\n",
    "warnings.filterwarnings(\"ignore\")"
   ]
  },
  {
   "cell_type": "code",
   "execution_count": 2,
   "id": "c255cfe6",
   "metadata": {},
   "outputs": [],
   "source": [
    "path=\"C:\\Program Files (x86)\\Google\\Chrome\\Application\\chrome.exe\""
   ]
  },
  {
   "cell_type": "code",
   "execution_count": 3,
   "id": "fe0ca726",
   "metadata": {},
   "outputs": [
    {
     "name": "stderr",
     "output_type": "stream",
     "text": [
      "\n",
      "\n",
      "====== WebDriver manager ======\n",
      "Current google-chrome version is 95.0.4638\n",
      "Get LATEST chromedriver version for 95.0.4638 google-chrome\n",
      "Trying to download new driver from https://chromedriver.storage.googleapis.com/95.0.4638.69/chromedriver_win32.zip\n",
      "Driver has been saved in cache [C:\\Users\\Akash Manral\\.wdm\\drivers\\chromedriver\\win32\\95.0.4638.69]\n"
     ]
    }
   ],
   "source": [
    "driver=webdriver.Chrome(ChromeDriverManager().install())"
   ]
  },
  {
   "cell_type": "code",
   "execution_count": 4,
   "id": "ed6b15aa",
   "metadata": {},
   "outputs": [],
   "source": [
    "driver.get(\"https://www.flipkart.com/\")"
   ]
  },
  {
   "cell_type": "code",
   "execution_count": 5,
   "id": "1183d36e",
   "metadata": {},
   "outputs": [],
   "source": [
    "driver.find_element_by_xpath(\"/html/body/div[1]/div/div[1]/div[1]/div[2]/div[2]/form/div/div/input\").send_keys(\"Sneakers\")"
   ]
  },
  {
   "cell_type": "code",
   "execution_count": 8,
   "id": "de9bbbbf",
   "metadata": {},
   "outputs": [],
   "source": [
    "driver.find_element_by_xpath(\"/html/body/div[1]/div/div[1]/div[1]/div[2]/div[2]/form/div/button\").click()"
   ]
  },
  {
   "cell_type": "code",
   "execution_count": 33,
   "id": "09c23a0c",
   "metadata": {},
   "outputs": [
    {
     "data": {
      "text/plain": [
       "[\"Neeman's\",\n",
       " 'NIKE',\n",
       " 'Numenzo',\n",
       " 'URBANBOX',\n",
       " 'Wlinzak',\n",
       " 'CALCADOS',\n",
       " 'SCATCHITE',\n",
       " 'ADIDAS',\n",
       " 'BRUTON',\n",
       " 'Numenzo',\n",
       " 'D-SNEAKERZ',\n",
       " 'REEBOK CLASSICS',\n",
       " 'Robbie jones',\n",
       " 'Magnolia',\n",
       " 'FOOTGRAB',\n",
       " 'BOOYO',\n",
       " 'BIRDE',\n",
       " 'Robbie jones',\n",
       " 'ganpati traders',\n",
       " 'RED CHIEF',\n",
       " 'Chevit',\n",
       " 'Kreverse',\n",
       " 'T-ROCK',\n",
       " 'RED CHIEF',\n",
       " 'PACIFIER',\n",
       " 'Arohi',\n",
       " 'SPARX',\n",
       " 'Paragon',\n",
       " 'ASIAN',\n",
       " 'LOTTO',\n",
       " 'RapidBox',\n",
       " 'Destony',\n",
       " 'Kraasa',\n",
       " 'India hub',\n",
       " 'Robbie jones',\n",
       " 'NAUTICA',\n",
       " 'Labbin',\n",
       " 'Shoes Bank',\n",
       " 'HOC',\n",
       " 'ADIDAS ORIGINALS']"
      ]
     },
     "execution_count": 33,
     "metadata": {},
     "output_type": "execute_result"
    }
   ],
   "source": [
    "brand=driver.find_elements_by_xpath(\"//div[@class='_2WkVRV']\")\n",
    "\n",
    "brands=[]\n",
    "for i in range(len(brand)):\n",
    "    brands.append(brand[i].text)\n",
    "brands    "
   ]
  },
  {
   "cell_type": "code",
   "execution_count": 34,
   "id": "5f5e0f5a",
   "metadata": {},
   "outputs": [
    {
     "data": {
      "text/plain": [
       "40"
      ]
     },
     "execution_count": 34,
     "metadata": {},
     "output_type": "execute_result"
    }
   ],
   "source": [
    "len(brands)"
   ]
  },
  {
   "cell_type": "code",
   "execution_count": 35,
   "id": "bf31ec35",
   "metadata": {},
   "outputs": [
    {
     "data": {
      "text/plain": [
       "['Sneakers For Men',\n",
       " 'Court Royale 2 Low Sneakers For Men',\n",
       " 'Sneakers For Men',\n",
       " 'Sneakers Sneakers For Men',\n",
       " 'Sneakers For Men',\n",
       " 'Modern Trendy Shoes Combo pack of 4 Sneakers For Men',\n",
       " 'Sneakers Sneakers For Men',\n",
       " 'Courtphase Sneakers For Men',\n",
       " 'Modern & Trendy Collection Combo Pack of 02 Shoes for M...',\n",
       " 'Numenzo Black Sneaker For Men Sneakers For Men',\n",
       " \"Casual , Partywear Sneakers Shoes For Men's And Boys Wh...\",\n",
       " 'Reebok Freerider Sneakers For Men',\n",
       " 'Casual Sneakers Shoes For Men Sneakers For Men',\n",
       " 'Sneakers For Men',\n",
       " 'White Boots || High Tops || Sneakers For Men',\n",
       " \"Luxury Branded Fashionable Men's Casual Walking Partywe...\",\n",
       " 'Sports Running Shoes Sneakers For Men',\n",
       " 'Sneakers For Men',\n",
       " 'Sneakers For Men',\n",
       " 'RC3483 014 Sneakers For Men',\n",
       " 'Super Stylish & Trendy Combo Pack of 02 Pairs Sneakers ...',\n",
       " 'Sneakers For Men',\n",
       " 'Synthetic Leather Casual Partywear Wedding Sneakers Sho...',\n",
       " 'RC3698 Sneakers For Men',\n",
       " 'Sneakers For Men',\n",
       " 'Sneakers For Men',\n",
       " 'Men White Sneakers Sneakers For Men',\n",
       " 'Sneakers For Men',\n",
       " 'Skypy-31 Walking Shoes,Training Shoes,Sneakers,Loafers,...',\n",
       " 'ATLANTA NEO Sneakers For Men',\n",
       " 'Sneakers For Men',\n",
       " 'Sneakers For Men',\n",
       " 'Series 7 Sneakers For Men',\n",
       " 'Fashionable casual sneakers shoes Sneakers For Men',\n",
       " 'Sneakers For Men',\n",
       " 'Sneakers For Men',\n",
       " 'Casual Sneakers White Shoes For Men And Boys Sneakers F...',\n",
       " \"White Sneaker For Men's/Boy's Sneakers For Men\",\n",
       " 'Luxury Fashionable Breathable Casual Sneakers Shoes For...',\n",
       " 'STAN SMITH VULC Sneakers For Men']"
      ]
     },
     "execution_count": 35,
     "metadata": {},
     "output_type": "execute_result"
    }
   ],
   "source": [
    "desc=driver.find_elements_by_xpath(\"//div[@class='_2B099V']\")\n",
    "descs=[]\n",
    "for i in range(len(desc)):\n",
    "    descs.append(desc[i].text.split(\"\\n\")[1])\n",
    "descs    "
   ]
  },
  {
   "cell_type": "code",
   "execution_count": 36,
   "id": "f3cb3996",
   "metadata": {},
   "outputs": [
    {
     "data": {
      "text/plain": [
       "40"
      ]
     },
     "execution_count": 36,
     "metadata": {},
     "output_type": "execute_result"
    }
   ],
   "source": [
    "len(descs)"
   ]
  },
  {
   "cell_type": "code",
   "execution_count": null,
   "id": "d4c8df72",
   "metadata": {},
   "outputs": [],
   "source": []
  },
  {
   "cell_type": "code",
   "execution_count": 37,
   "id": "6f3f1dd4",
   "metadata": {},
   "outputs": [
    {
     "data": {
      "text/plain": [
       "['₹2,399',\n",
       " '₹3,995',\n",
       " '₹479',\n",
       " '₹220',\n",
       " '₹450',\n",
       " '₹899',\n",
       " '₹398',\n",
       " '₹3,637',\n",
       " '₹474',\n",
       " '₹499',\n",
       " '₹348',\n",
       " '₹1,900',\n",
       " '₹399',\n",
       " '₹398',\n",
       " '₹599',\n",
       " '₹449',\n",
       " '₹299',\n",
       " '₹499',\n",
       " '₹235',\n",
       " '₹1,997',\n",
       " '₹699',\n",
       " '₹199',\n",
       " '₹399',\n",
       " '₹1,979',\n",
       " '₹499',\n",
       " '₹458',\n",
       " '₹674',\n",
       " '₹664',\n",
       " '₹399',\n",
       " '₹549',\n",
       " '₹640',\n",
       " '₹449',\n",
       " '₹499',\n",
       " '₹499',\n",
       " '₹499',\n",
       " '₹1,959',\n",
       " '₹399',\n",
       " '₹345',\n",
       " '₹449',\n",
       " '₹4,618']"
      ]
     },
     "execution_count": 37,
     "metadata": {},
     "output_type": "execute_result"
    }
   ],
   "source": [
    "price=driver.find_elements_by_xpath(\"//div[@class='_30jeq3']\")\n",
    "prices=[]\n",
    "for i in range(len(price)):\n",
    "    prices.append(price[i].text)\n",
    "prices"
   ]
  },
  {
   "cell_type": "code",
   "execution_count": 38,
   "id": "89e7ec5d",
   "metadata": {},
   "outputs": [
    {
     "data": {
      "text/plain": [
       "40"
      ]
     },
     "execution_count": 38,
     "metadata": {},
     "output_type": "execute_result"
    }
   ],
   "source": [
    "len(prices)"
   ]
  },
  {
   "cell_type": "code",
   "execution_count": 39,
   "id": "962c286e",
   "metadata": {},
   "outputs": [],
   "source": [
    "driver.find_element_by_xpath(\"/html/body/div[1]/div/div[3]/div[1]/div[2]/div[12]/div/div/nav/a[11]\").click()"
   ]
  },
  {
   "cell_type": "code",
   "execution_count": 53,
   "id": "454e77c4",
   "metadata": {},
   "outputs": [
    {
     "data": {
      "text/plain": [
       "['BRUTON',\n",
       " 'Chevit',\n",
       " 'Labbin',\n",
       " 'U.S. POLO ASSN.',\n",
       " 'BIRDE',\n",
       " 'Robbie jones',\n",
       " 'SPADE CLUB',\n",
       " 'Extoes',\n",
       " 'rodox',\n",
       " 'SPARX',\n",
       " 'PEHANOSA',\n",
       " 'ADIDAS',\n",
       " 'FEWROK',\n",
       " 'bluemaker',\n",
       " 'Stefano Rads',\n",
       " 'NIKE',\n",
       " 'Echor',\n",
       " 'Robbie jones',\n",
       " 'Absolute comfort',\n",
       " 'BOOYO',\n",
       " 'BIRDE',\n",
       " 'EZDEZARIO',\n",
       " 'ASIAN',\n",
       " 'NIKE',\n",
       " 'FOOTGRAB',\n",
       " 'Robbie jones',\n",
       " 'Bavis',\n",
       " 'REEBOK CLASSICS',\n",
       " 'PEXLO',\n",
       " 'Lee Won',\n",
       " 'SCATCHITE',\n",
       " 'Bucik',\n",
       " 'PUMA',\n",
       " 'BIRDE',\n",
       " 'India hub',\n",
       " 'Destony',\n",
       " 'ASIAN',\n",
       " 'FEWROK',\n",
       " 'RODDICK SHOES',\n",
       " 'Paragon']"
      ]
     },
     "execution_count": 53,
     "metadata": {},
     "output_type": "execute_result"
    }
   ],
   "source": [
    "brand1=driver.find_elements_by_xpath(\"//div[@class='_2WkVRV']\")\n",
    "\n",
    "brands1=[]\n",
    "for i in range(len(brand1)):\n",
    "    brands1.append(brand1[i].text)\n",
    "brands1"
   ]
  },
  {
   "cell_type": "code",
   "execution_count": 54,
   "id": "f9436471",
   "metadata": {},
   "outputs": [
    {
     "data": {
      "text/plain": [
       "['Modern Trendy Sneakers Shoes Sneakers For Men',\n",
       " 'Smart Casuals Canvas Shoes Combo pack of 2 Sneakers For...',\n",
       " 'Sneakers For Men',\n",
       " 'Sneakers For Men',\n",
       " 'Trendy Casual Shoes Sneakers For Men',\n",
       " 'Sneakers For Men',\n",
       " 'Sneakers For Men',\n",
       " 'Relaxed Attractive Combo pack of 4 Sneakers For Men',\n",
       " 'Sneakers Casual For Men Multy Sneakers For Men',\n",
       " 'SM-162 Sneakers For Men',\n",
       " 'Sneakers For Men',\n",
       " 'Adiset M Sneakers For Men',\n",
       " 'Premium quality Sneakers For Men',\n",
       " 'casual for men (blue 06) Sneakers For Men',\n",
       " 'Classy Sneakers For Men',\n",
       " 'Tanjun Sneakers For Men',\n",
       " \"Men's Sneakers Walking Shoes - Lightweight Classic Whit...\",\n",
       " 'Casual Sneakers White Shoes For Men Sneakers For Men',\n",
       " 'SOFT Sneakers For Men',\n",
       " \"Luxury Branded Fashionable Men's Casual Walking Partywe...\",\n",
       " 'Combo Pack of 4 Casual Shoes Sneakers For Men',\n",
       " 'Fashion Outdoor Canvas Casual Light Weight Lace-up Even...',\n",
       " 'Skypy-31 Walking Shoes,Training Shoes,Sneakers,Loafers,...',\n",
       " \"Nike Court Vision Low Better Men's Shoe Sneakers For Me...\",\n",
       " 'Walking || Dancing || Outdoors || Boots || Sneakers For...',\n",
       " 'Casual Sneakers Green Shoes For Men And Boys Sneakers F...',\n",
       " 'Combo Pack of 2 Casual Shoes For Men Sneakers For Men',\n",
       " 'CL LTHR Sneakers For Men',\n",
       " \"Men's Casual Shoes Combo Pack of 02 Sneakers For Men\",\n",
       " 'FASHION Sneakers For Men',\n",
       " 'Sneakers For Men',\n",
       " 'Walking/Stylish/Casual Sneakers Sneakers For Men',\n",
       " 'Mirage Tech Sneakers For Men',\n",
       " 'Birde Trendy Casual Shoes Sneakers For Men',\n",
       " 'Fashionable sneaker casual shoes Sneakers For Men',\n",
       " 'sports shoes for men | Latest Stylish Casual sneakers f...',\n",
       " 'Skypy-31 Walking Shoes,Training Shoes,Sneakers,Loafers,...',\n",
       " 'Premium quality Sneakers For Men',\n",
       " 'Fashion Outdoor Canvas Casual Light Weight Lace-up Even...',\n",
       " 'Sneakers For Men']"
      ]
     },
     "execution_count": 54,
     "metadata": {},
     "output_type": "execute_result"
    }
   ],
   "source": [
    "desc1=driver.find_elements_by_xpath(\"//div[@class='_2B099V']\")\n",
    "descs1=[]\n",
    "for i in range(len(desc1)):\n",
    "    descs1.append(desc1[i].text.split(\"\\n\")[1])\n",
    "descs1  "
   ]
  },
  {
   "cell_type": "code",
   "execution_count": 55,
   "id": "b1d0065a",
   "metadata": {},
   "outputs": [
    {
     "data": {
      "text/plain": [
       "40"
      ]
     },
     "execution_count": 55,
     "metadata": {},
     "output_type": "execute_result"
    }
   ],
   "source": [
    "len(descs1)"
   ]
  },
  {
   "cell_type": "code",
   "execution_count": 56,
   "id": "98a14f76",
   "metadata": {},
   "outputs": [
    {
     "data": {
      "text/plain": [
       "['₹299',\n",
       " '₹399',\n",
       " '₹499',\n",
       " '₹2,599',\n",
       " '₹299',\n",
       " '₹499',\n",
       " '₹746',\n",
       " '₹698',\n",
       " '₹699',\n",
       " '₹798',\n",
       " '₹449',\n",
       " '₹2,162',\n",
       " '₹401',\n",
       " '₹499',\n",
       " '₹242',\n",
       " '₹1,864',\n",
       " '₹499',\n",
       " '₹499',\n",
       " '₹166',\n",
       " '₹449',\n",
       " '₹630',\n",
       " '₹449',\n",
       " '₹399',\n",
       " '₹4,995',\n",
       " '₹599',\n",
       " '₹499',\n",
       " '₹399',\n",
       " '₹5,894',\n",
       " '₹588',\n",
       " '₹331',\n",
       " '₹398',\n",
       " '₹699',\n",
       " '₹3,599',\n",
       " '₹299',\n",
       " '₹499',\n",
       " '₹579',\n",
       " '₹399',\n",
       " '₹401',\n",
       " '₹474',\n",
       " '₹699']"
      ]
     },
     "execution_count": 56,
     "metadata": {},
     "output_type": "execute_result"
    }
   ],
   "source": [
    "price1=driver.find_elements_by_xpath(\"//div[@class='_30jeq3']\")\n",
    "prices1=[]\n",
    "for i in range(len(price1)):\n",
    "    prices1.append(price1[i].text)\n",
    "prices1"
   ]
  },
  {
   "cell_type": "code",
   "execution_count": 57,
   "id": "d2a950d3",
   "metadata": {},
   "outputs": [],
   "source": [
    "driver.find_element_by_xpath(\"/html/body/div[1]/div/div[3]/div[1]/div[2]/div[12]/div/div/nav/a[12]\").click()"
   ]
  },
  {
   "cell_type": "code",
   "execution_count": 66,
   "id": "ecec845f",
   "metadata": {},
   "outputs": [
    {
     "data": {
      "text/plain": [
       "['PEXLO',\n",
       " 'Lee Won',\n",
       " 'SCATCHITE',\n",
       " 'NIKE',\n",
       " 'PUMA',\n",
       " 'BIRDE',\n",
       " 'India hub',\n",
       " 'U.S. POLO ASSN.',\n",
       " 'ASIAN',\n",
       " 'FEWROK',\n",
       " 'RODDICK SHOES',\n",
       " 'Extoes',\n",
       " 'ESSENCE',\n",
       " 'Jabra',\n",
       " 'Chevit',\n",
       " 'BOOYO',\n",
       " 'Jokatoo',\n",
       " 'bluemaker',\n",
       " 'aadi',\n",
       " 'NIKE',\n",
       " 'SHOELAMB',\n",
       " 'PUMA',\n",
       " 'gargcreation',\n",
       " 'ADIDAS',\n",
       " 'PUMA',\n",
       " 'Robbie jones',\n",
       " 'Jack Diamond',\n",
       " 'REEBOK CLASSICS',\n",
       " 'Echor',\n",
       " 'SPARX',\n",
       " 'ESSENCE',\n",
       " 'Destony',\n",
       " 'SHOELAMB',\n",
       " 'KNIGHT WALKERS',\n",
       " 'tigonis',\n",
       " 'Bucik',\n",
       " 'hzisbo',\n",
       " 'SPARX',\n",
       " 'PUMA',\n",
       " 'FILA']"
      ]
     },
     "execution_count": 66,
     "metadata": {},
     "output_type": "execute_result"
    }
   ],
   "source": [
    "brand1a=driver.find_elements_by_xpath(\"//div[@class='_2WkVRV']\")\n",
    "\n",
    "brands1a=[]\n",
    "for i in range(len(brand1a)):\n",
    "    brands1a.append(brand1a[i].text)\n",
    "brands1a"
   ]
  },
  {
   "cell_type": "code",
   "execution_count": 67,
   "id": "393d083d",
   "metadata": {},
   "outputs": [
    {
     "data": {
      "text/plain": [
       "[\"Men's Casual Shoes Combo Pack of 02 Sneakers For Men\",\n",
       " 'FASHION Sneakers For Men',\n",
       " 'Sneakers For Men',\n",
       " \"Nike Court Vision Low Better Men's Shoe Sneakers For Me...\",\n",
       " 'Mirage Tech Sneakers For Men',\n",
       " 'Birde Trendy Casual Shoes Sneakers For Men',\n",
       " 'Fashionable sneaker casual shoes Sneakers For Men',\n",
       " 'Sneakers For Men',\n",
       " 'Skypy-31 Walking Shoes,Training Shoes,Sneakers,Loafers,...',\n",
       " 'Premium quality Sneakers For Men',\n",
       " 'Fashion Outdoor Canvas Casual Light Weight Lace-up Even...',\n",
       " 'Relaxed Attractive Combo pack of 4 Sneakers For Men',\n",
       " 'Sneakers For Men',\n",
       " 'Perfect Sports Shoes for Running Training Hiking Footba...',\n",
       " 'Unique & Perfect Collection Combo Pack of 02 Shoes for ...',\n",
       " \"Luxury Branded Fashionable Men's Casual Walking Partywe...\",\n",
       " 'casual sneaker shoes and partywear shoes Casuals For Me...',\n",
       " 'casual for men (beige 06) Sneakers For Men',\n",
       " 'Sneakers For Men',\n",
       " 'Tanjun Sneakers For Men',\n",
       " \"Men's Olive Green Casual Walking Running Sneaker Shoe S...\",\n",
       " 'Puma Wired Cage Sneakers For Men',\n",
       " 'Sneakers For Men',\n",
       " 'Adiset M Sneakers For Men',\n",
       " 'RS-Z BP Sneakers For Men',\n",
       " 'Casual Sneakers Shoes For Men And Boys Sneakers For Men',\n",
       " 'Sneakers For Men',\n",
       " 'CL LTHR Sneakers For Men',\n",
       " \"Echor Men's Sneakers Fashion Lightweight Running Shoes ...\",\n",
       " 'SD-323 Sneakers For Men',\n",
       " 'Trendy Sneakers For Men',\n",
       " 'sports shoes for men | Latest Stylish Casual sneakers f...',\n",
       " \"Men's White Casual Walking Running Sneaker Shoe Sneaker...\",\n",
       " 'Sneakers For Men',\n",
       " 'Sneakers For Men',\n",
       " 'Walking/Stylish/Casual Sneakers Sneakers For Men',\n",
       " 'Sneakers For Men',\n",
       " 'SM-675 Sneakers For Men',\n",
       " 'Quarter block IDP Sneakers For Men',\n",
       " 'GESAR Sneakers For Men']"
      ]
     },
     "execution_count": 67,
     "metadata": {},
     "output_type": "execute_result"
    }
   ],
   "source": [
    "desc1a=driver.find_elements_by_xpath(\"//div[@class='_2B099V']\")\n",
    "descs1a=[]\n",
    "for i in range(len(desc1a)):\n",
    "    descs1a.append(desc1a[i].text.split(\"\\n\")[1])\n",
    "descs1a "
   ]
  },
  {
   "cell_type": "code",
   "execution_count": 68,
   "id": "2891b82b",
   "metadata": {},
   "outputs": [
    {
     "data": {
      "text/plain": [
       "['₹588',\n",
       " '₹331',\n",
       " '₹398',\n",
       " '₹4,995',\n",
       " '₹3,599',\n",
       " '₹299',\n",
       " '₹499',\n",
       " '₹2,599',\n",
       " '₹399',\n",
       " '₹401',\n",
       " '₹474',\n",
       " '₹698',\n",
       " '₹449',\n",
       " '₹259',\n",
       " '₹599',\n",
       " '₹449',\n",
       " '₹445',\n",
       " '₹499',\n",
       " '₹379',\n",
       " '₹1,864',\n",
       " '₹699',\n",
       " '₹1,719',\n",
       " '₹180',\n",
       " '₹2,162',\n",
       " '₹4,499',\n",
       " '₹499',\n",
       " '₹645',\n",
       " '₹5,894',\n",
       " '₹499',\n",
       " '₹633',\n",
       " '₹449',\n",
       " '₹579',\n",
       " '₹699',\n",
       " '₹599',\n",
       " '₹399',\n",
       " '₹699',\n",
       " '₹599',\n",
       " '₹849',\n",
       " '₹2,090',\n",
       " '₹1,249']"
      ]
     },
     "execution_count": 68,
     "metadata": {},
     "output_type": "execute_result"
    }
   ],
   "source": [
    "price1a=driver.find_elements_by_xpath(\"//div[@class='_30jeq3']\")\n",
    "prices1a=[]\n",
    "for i in range(len(price1a)):\n",
    "    prices1a.append(price1a[i].text)\n",
    "prices1a"
   ]
  },
  {
   "cell_type": "code",
   "execution_count": 69,
   "id": "17d65da6",
   "metadata": {},
   "outputs": [
    {
     "data": {
      "text/plain": [
       "[\"Neeman's\",\n",
       " 'NIKE',\n",
       " 'Numenzo',\n",
       " 'URBANBOX',\n",
       " 'Wlinzak',\n",
       " 'CALCADOS',\n",
       " 'SCATCHITE',\n",
       " 'ADIDAS',\n",
       " 'BRUTON',\n",
       " 'Numenzo',\n",
       " 'D-SNEAKERZ',\n",
       " 'REEBOK CLASSICS',\n",
       " 'Robbie jones',\n",
       " 'Magnolia',\n",
       " 'FOOTGRAB',\n",
       " 'BOOYO',\n",
       " 'BIRDE',\n",
       " 'Robbie jones',\n",
       " 'ganpati traders',\n",
       " 'RED CHIEF',\n",
       " 'Chevit',\n",
       " 'Kreverse',\n",
       " 'T-ROCK',\n",
       " 'RED CHIEF',\n",
       " 'PACIFIER',\n",
       " 'Arohi',\n",
       " 'SPARX',\n",
       " 'Paragon',\n",
       " 'ASIAN',\n",
       " 'LOTTO',\n",
       " 'RapidBox',\n",
       " 'Destony',\n",
       " 'Kraasa',\n",
       " 'India hub',\n",
       " 'Robbie jones',\n",
       " 'NAUTICA',\n",
       " 'Labbin',\n",
       " 'Shoes Bank',\n",
       " 'HOC',\n",
       " 'ADIDAS ORIGINALS',\n",
       " 'BRUTON',\n",
       " 'Chevit',\n",
       " 'Labbin',\n",
       " 'U.S. POLO ASSN.',\n",
       " 'BIRDE',\n",
       " 'Robbie jones',\n",
       " 'SPADE CLUB',\n",
       " 'Extoes',\n",
       " 'rodox',\n",
       " 'SPARX',\n",
       " 'PEHANOSA',\n",
       " 'ADIDAS',\n",
       " 'FEWROK',\n",
       " 'bluemaker',\n",
       " 'Stefano Rads',\n",
       " 'NIKE',\n",
       " 'Echor',\n",
       " 'Robbie jones',\n",
       " 'Absolute comfort',\n",
       " 'BOOYO',\n",
       " 'BIRDE',\n",
       " 'EZDEZARIO',\n",
       " 'ASIAN',\n",
       " 'NIKE',\n",
       " 'FOOTGRAB',\n",
       " 'Robbie jones',\n",
       " 'Bavis',\n",
       " 'REEBOK CLASSICS',\n",
       " 'PEXLO',\n",
       " 'Lee Won',\n",
       " 'SCATCHITE',\n",
       " 'Bucik',\n",
       " 'PUMA',\n",
       " 'BIRDE',\n",
       " 'India hub',\n",
       " 'Destony',\n",
       " 'ASIAN',\n",
       " 'FEWROK',\n",
       " 'RODDICK SHOES',\n",
       " 'Paragon',\n",
       " 'PEXLO',\n",
       " 'Lee Won',\n",
       " 'SCATCHITE',\n",
       " 'NIKE',\n",
       " 'PUMA',\n",
       " 'BIRDE',\n",
       " 'India hub',\n",
       " 'U.S. POLO ASSN.',\n",
       " 'ASIAN',\n",
       " 'FEWROK',\n",
       " 'RODDICK SHOES',\n",
       " 'Extoes',\n",
       " 'ESSENCE',\n",
       " 'Jabra',\n",
       " 'Chevit',\n",
       " 'BOOYO',\n",
       " 'Jokatoo',\n",
       " 'bluemaker',\n",
       " 'aadi',\n",
       " 'NIKE',\n",
       " 'SHOELAMB',\n",
       " 'PUMA',\n",
       " 'gargcreation',\n",
       " 'ADIDAS',\n",
       " 'PUMA',\n",
       " 'Robbie jones',\n",
       " 'Jack Diamond',\n",
       " 'REEBOK CLASSICS',\n",
       " 'Echor',\n",
       " 'SPARX',\n",
       " 'ESSENCE',\n",
       " 'Destony',\n",
       " 'SHOELAMB',\n",
       " 'KNIGHT WALKERS',\n",
       " 'tigonis',\n",
       " 'Bucik',\n",
       " 'hzisbo',\n",
       " 'SPARX',\n",
       " 'PUMA',\n",
       " 'FILA']"
      ]
     },
     "execution_count": 69,
     "metadata": {},
     "output_type": "execute_result"
    }
   ],
   "source": [
    "finalbrand=brands+brands1+brands1a\n",
    "finalbrand"
   ]
  },
  {
   "cell_type": "code",
   "execution_count": 70,
   "id": "70c3d75b",
   "metadata": {},
   "outputs": [
    {
     "data": {
      "text/plain": [
       "['Sneakers For Men',\n",
       " 'Court Royale 2 Low Sneakers For Men',\n",
       " 'Sneakers For Men',\n",
       " 'Sneakers Sneakers For Men',\n",
       " 'Sneakers For Men',\n",
       " 'Modern Trendy Shoes Combo pack of 4 Sneakers For Men',\n",
       " 'Sneakers Sneakers For Men',\n",
       " 'Courtphase Sneakers For Men',\n",
       " 'Modern & Trendy Collection Combo Pack of 02 Shoes for M...',\n",
       " 'Numenzo Black Sneaker For Men Sneakers For Men',\n",
       " \"Casual , Partywear Sneakers Shoes For Men's And Boys Wh...\",\n",
       " 'Reebok Freerider Sneakers For Men',\n",
       " 'Casual Sneakers Shoes For Men Sneakers For Men',\n",
       " 'Sneakers For Men',\n",
       " 'White Boots || High Tops || Sneakers For Men',\n",
       " \"Luxury Branded Fashionable Men's Casual Walking Partywe...\",\n",
       " 'Sports Running Shoes Sneakers For Men',\n",
       " 'Sneakers For Men',\n",
       " 'Sneakers For Men',\n",
       " 'RC3483 014 Sneakers For Men',\n",
       " 'Super Stylish & Trendy Combo Pack of 02 Pairs Sneakers ...',\n",
       " 'Sneakers For Men',\n",
       " 'Synthetic Leather Casual Partywear Wedding Sneakers Sho...',\n",
       " 'RC3698 Sneakers For Men',\n",
       " 'Sneakers For Men',\n",
       " 'Sneakers For Men',\n",
       " 'Men White Sneakers Sneakers For Men',\n",
       " 'Sneakers For Men',\n",
       " 'Skypy-31 Walking Shoes,Training Shoes,Sneakers,Loafers,...',\n",
       " 'ATLANTA NEO Sneakers For Men',\n",
       " 'Sneakers For Men',\n",
       " 'Sneakers For Men',\n",
       " 'Series 7 Sneakers For Men',\n",
       " 'Fashionable casual sneakers shoes Sneakers For Men',\n",
       " 'Sneakers For Men',\n",
       " 'Sneakers For Men',\n",
       " 'Casual Sneakers White Shoes For Men And Boys Sneakers F...',\n",
       " \"White Sneaker For Men's/Boy's Sneakers For Men\",\n",
       " 'Luxury Fashionable Breathable Casual Sneakers Shoes For...',\n",
       " 'STAN SMITH VULC Sneakers For Men',\n",
       " 'Modern Trendy Sneakers Shoes Sneakers For Men',\n",
       " 'Smart Casuals Canvas Shoes Combo pack of 2 Sneakers For...',\n",
       " 'Sneakers For Men',\n",
       " 'Sneakers For Men',\n",
       " 'Trendy Casual Shoes Sneakers For Men',\n",
       " 'Sneakers For Men',\n",
       " 'Sneakers For Men',\n",
       " 'Relaxed Attractive Combo pack of 4 Sneakers For Men',\n",
       " 'Sneakers Casual For Men Multy Sneakers For Men',\n",
       " 'SM-162 Sneakers For Men',\n",
       " 'Sneakers For Men',\n",
       " 'Adiset M Sneakers For Men',\n",
       " 'Premium quality Sneakers For Men',\n",
       " 'casual for men (blue 06) Sneakers For Men',\n",
       " 'Classy Sneakers For Men',\n",
       " 'Tanjun Sneakers For Men',\n",
       " \"Men's Sneakers Walking Shoes - Lightweight Classic Whit...\",\n",
       " 'Casual Sneakers White Shoes For Men Sneakers For Men',\n",
       " 'SOFT Sneakers For Men',\n",
       " \"Luxury Branded Fashionable Men's Casual Walking Partywe...\",\n",
       " 'Combo Pack of 4 Casual Shoes Sneakers For Men',\n",
       " 'Fashion Outdoor Canvas Casual Light Weight Lace-up Even...',\n",
       " 'Skypy-31 Walking Shoes,Training Shoes,Sneakers,Loafers,...',\n",
       " \"Nike Court Vision Low Better Men's Shoe Sneakers For Me...\",\n",
       " 'Walking || Dancing || Outdoors || Boots || Sneakers For...',\n",
       " 'Casual Sneakers Green Shoes For Men And Boys Sneakers F...',\n",
       " 'Combo Pack of 2 Casual Shoes For Men Sneakers For Men',\n",
       " 'CL LTHR Sneakers For Men',\n",
       " \"Men's Casual Shoes Combo Pack of 02 Sneakers For Men\",\n",
       " 'FASHION Sneakers For Men',\n",
       " 'Sneakers For Men',\n",
       " 'Walking/Stylish/Casual Sneakers Sneakers For Men',\n",
       " 'Mirage Tech Sneakers For Men',\n",
       " 'Birde Trendy Casual Shoes Sneakers For Men',\n",
       " 'Fashionable sneaker casual shoes Sneakers For Men',\n",
       " 'sports shoes for men | Latest Stylish Casual sneakers f...',\n",
       " 'Skypy-31 Walking Shoes,Training Shoes,Sneakers,Loafers,...',\n",
       " 'Premium quality Sneakers For Men',\n",
       " 'Fashion Outdoor Canvas Casual Light Weight Lace-up Even...',\n",
       " 'Sneakers For Men',\n",
       " \"Men's Casual Shoes Combo Pack of 02 Sneakers For Men\",\n",
       " 'FASHION Sneakers For Men',\n",
       " 'Sneakers For Men',\n",
       " \"Nike Court Vision Low Better Men's Shoe Sneakers For Me...\",\n",
       " 'Mirage Tech Sneakers For Men',\n",
       " 'Birde Trendy Casual Shoes Sneakers For Men',\n",
       " 'Fashionable sneaker casual shoes Sneakers For Men',\n",
       " 'Sneakers For Men',\n",
       " 'Skypy-31 Walking Shoes,Training Shoes,Sneakers,Loafers,...',\n",
       " 'Premium quality Sneakers For Men',\n",
       " 'Fashion Outdoor Canvas Casual Light Weight Lace-up Even...',\n",
       " 'Relaxed Attractive Combo pack of 4 Sneakers For Men',\n",
       " 'Sneakers For Men',\n",
       " 'Perfect Sports Shoes for Running Training Hiking Footba...',\n",
       " 'Unique & Perfect Collection Combo Pack of 02 Shoes for ...',\n",
       " \"Luxury Branded Fashionable Men's Casual Walking Partywe...\",\n",
       " 'casual sneaker shoes and partywear shoes Casuals For Me...',\n",
       " 'casual for men (beige 06) Sneakers For Men',\n",
       " 'Sneakers For Men',\n",
       " 'Tanjun Sneakers For Men',\n",
       " \"Men's Olive Green Casual Walking Running Sneaker Shoe S...\",\n",
       " 'Puma Wired Cage Sneakers For Men',\n",
       " 'Sneakers For Men',\n",
       " 'Adiset M Sneakers For Men',\n",
       " 'RS-Z BP Sneakers For Men',\n",
       " 'Casual Sneakers Shoes For Men And Boys Sneakers For Men',\n",
       " 'Sneakers For Men',\n",
       " 'CL LTHR Sneakers For Men',\n",
       " \"Echor Men's Sneakers Fashion Lightweight Running Shoes ...\",\n",
       " 'SD-323 Sneakers For Men',\n",
       " 'Trendy Sneakers For Men',\n",
       " 'sports shoes for men | Latest Stylish Casual sneakers f...',\n",
       " \"Men's White Casual Walking Running Sneaker Shoe Sneaker...\",\n",
       " 'Sneakers For Men',\n",
       " 'Sneakers For Men',\n",
       " 'Walking/Stylish/Casual Sneakers Sneakers For Men',\n",
       " 'Sneakers For Men',\n",
       " 'SM-675 Sneakers For Men',\n",
       " 'Quarter block IDP Sneakers For Men',\n",
       " 'GESAR Sneakers For Men']"
      ]
     },
     "execution_count": 70,
     "metadata": {},
     "output_type": "execute_result"
    }
   ],
   "source": [
    "finaldesc=descs+descs1+descs1a\n",
    "finaldesc"
   ]
  },
  {
   "cell_type": "code",
   "execution_count": 71,
   "id": "f237b387",
   "metadata": {},
   "outputs": [
    {
     "data": {
      "text/plain": [
       "['₹2,399',\n",
       " '₹3,995',\n",
       " '₹479',\n",
       " '₹220',\n",
       " '₹450',\n",
       " '₹899',\n",
       " '₹398',\n",
       " '₹3,637',\n",
       " '₹474',\n",
       " '₹499',\n",
       " '₹348',\n",
       " '₹1,900',\n",
       " '₹399',\n",
       " '₹398',\n",
       " '₹599',\n",
       " '₹449',\n",
       " '₹299',\n",
       " '₹499',\n",
       " '₹235',\n",
       " '₹1,997',\n",
       " '₹699',\n",
       " '₹199',\n",
       " '₹399',\n",
       " '₹1,979',\n",
       " '₹499',\n",
       " '₹458',\n",
       " '₹674',\n",
       " '₹664',\n",
       " '₹399',\n",
       " '₹549',\n",
       " '₹640',\n",
       " '₹449',\n",
       " '₹499',\n",
       " '₹499',\n",
       " '₹499',\n",
       " '₹1,959',\n",
       " '₹399',\n",
       " '₹345',\n",
       " '₹449',\n",
       " '₹4,618',\n",
       " '₹299',\n",
       " '₹399',\n",
       " '₹499',\n",
       " '₹2,599',\n",
       " '₹299',\n",
       " '₹499',\n",
       " '₹746',\n",
       " '₹698',\n",
       " '₹699',\n",
       " '₹798',\n",
       " '₹449',\n",
       " '₹2,162',\n",
       " '₹401',\n",
       " '₹499',\n",
       " '₹242',\n",
       " '₹1,864',\n",
       " '₹499',\n",
       " '₹499',\n",
       " '₹166',\n",
       " '₹449',\n",
       " '₹630',\n",
       " '₹449',\n",
       " '₹399',\n",
       " '₹4,995',\n",
       " '₹599',\n",
       " '₹499',\n",
       " '₹399',\n",
       " '₹5,894',\n",
       " '₹588',\n",
       " '₹331',\n",
       " '₹398',\n",
       " '₹699',\n",
       " '₹3,599',\n",
       " '₹299',\n",
       " '₹499',\n",
       " '₹579',\n",
       " '₹399',\n",
       " '₹401',\n",
       " '₹474',\n",
       " '₹699',\n",
       " '₹588',\n",
       " '₹331',\n",
       " '₹398',\n",
       " '₹4,995',\n",
       " '₹3,599',\n",
       " '₹299',\n",
       " '₹499',\n",
       " '₹2,599',\n",
       " '₹399',\n",
       " '₹401',\n",
       " '₹474',\n",
       " '₹698',\n",
       " '₹449',\n",
       " '₹259',\n",
       " '₹599',\n",
       " '₹449',\n",
       " '₹445',\n",
       " '₹499',\n",
       " '₹379',\n",
       " '₹1,864',\n",
       " '₹699',\n",
       " '₹1,719',\n",
       " '₹180',\n",
       " '₹2,162',\n",
       " '₹4,499',\n",
       " '₹499',\n",
       " '₹645',\n",
       " '₹5,894',\n",
       " '₹499',\n",
       " '₹633',\n",
       " '₹449',\n",
       " '₹579',\n",
       " '₹699',\n",
       " '₹599',\n",
       " '₹399',\n",
       " '₹699',\n",
       " '₹599',\n",
       " '₹849',\n",
       " '₹2,090',\n",
       " '₹1,249']"
      ]
     },
     "execution_count": 71,
     "metadata": {},
     "output_type": "execute_result"
    }
   ],
   "source": [
    "finalprice=prices+prices1+prices1a\n",
    "finalprice"
   ]
  },
  {
   "cell_type": "code",
   "execution_count": 72,
   "id": "c4c77273",
   "metadata": {},
   "outputs": [
    {
     "data": {
      "text/html": [
       "<div>\n",
       "<style scoped>\n",
       "    .dataframe tbody tr th:only-of-type {\n",
       "        vertical-align: middle;\n",
       "    }\n",
       "\n",
       "    .dataframe tbody tr th {\n",
       "        vertical-align: top;\n",
       "    }\n",
       "\n",
       "    .dataframe thead th {\n",
       "        text-align: right;\n",
       "    }\n",
       "</style>\n",
       "<table border=\"1\" class=\"dataframe\">\n",
       "  <thead>\n",
       "    <tr style=\"text-align: right;\">\n",
       "      <th></th>\n",
       "      <th>Brand</th>\n",
       "      <th>Description</th>\n",
       "      <th>Prices</th>\n",
       "    </tr>\n",
       "  </thead>\n",
       "  <tbody>\n",
       "    <tr>\n",
       "      <th>0</th>\n",
       "      <td>Neeman's</td>\n",
       "      <td>Sneakers For Men</td>\n",
       "      <td>₹2,399</td>\n",
       "    </tr>\n",
       "    <tr>\n",
       "      <th>1</th>\n",
       "      <td>NIKE</td>\n",
       "      <td>Court Royale 2 Low Sneakers For Men</td>\n",
       "      <td>₹3,995</td>\n",
       "    </tr>\n",
       "    <tr>\n",
       "      <th>2</th>\n",
       "      <td>Numenzo</td>\n",
       "      <td>Sneakers For Men</td>\n",
       "      <td>₹479</td>\n",
       "    </tr>\n",
       "    <tr>\n",
       "      <th>3</th>\n",
       "      <td>URBANBOX</td>\n",
       "      <td>Sneakers Sneakers For Men</td>\n",
       "      <td>₹220</td>\n",
       "    </tr>\n",
       "    <tr>\n",
       "      <th>4</th>\n",
       "      <td>Wlinzak</td>\n",
       "      <td>Sneakers For Men</td>\n",
       "      <td>₹450</td>\n",
       "    </tr>\n",
       "    <tr>\n",
       "      <th>...</th>\n",
       "      <td>...</td>\n",
       "      <td>...</td>\n",
       "      <td>...</td>\n",
       "    </tr>\n",
       "    <tr>\n",
       "      <th>95</th>\n",
       "      <td>BOOYO</td>\n",
       "      <td>Luxury Branded Fashionable Men's Casual Walkin...</td>\n",
       "      <td>₹449</td>\n",
       "    </tr>\n",
       "    <tr>\n",
       "      <th>96</th>\n",
       "      <td>Jokatoo</td>\n",
       "      <td>casual sneaker shoes and partywear shoes Casua...</td>\n",
       "      <td>₹445</td>\n",
       "    </tr>\n",
       "    <tr>\n",
       "      <th>97</th>\n",
       "      <td>bluemaker</td>\n",
       "      <td>casual for men (beige 06) Sneakers For Men</td>\n",
       "      <td>₹499</td>\n",
       "    </tr>\n",
       "    <tr>\n",
       "      <th>98</th>\n",
       "      <td>aadi</td>\n",
       "      <td>Sneakers For Men</td>\n",
       "      <td>₹379</td>\n",
       "    </tr>\n",
       "    <tr>\n",
       "      <th>99</th>\n",
       "      <td>NIKE</td>\n",
       "      <td>Tanjun Sneakers For Men</td>\n",
       "      <td>₹1,864</td>\n",
       "    </tr>\n",
       "  </tbody>\n",
       "</table>\n",
       "<p>100 rows × 3 columns</p>\n",
       "</div>"
      ],
      "text/plain": [
       "        Brand                                        Description  Prices\n",
       "0    Neeman's                                   Sneakers For Men  ₹2,399\n",
       "1        NIKE                Court Royale 2 Low Sneakers For Men  ₹3,995\n",
       "2     Numenzo                                   Sneakers For Men    ₹479\n",
       "3    URBANBOX                          Sneakers Sneakers For Men    ₹220\n",
       "4     Wlinzak                                   Sneakers For Men    ₹450\n",
       "..        ...                                                ...     ...\n",
       "95      BOOYO  Luxury Branded Fashionable Men's Casual Walkin...    ₹449\n",
       "96    Jokatoo  casual sneaker shoes and partywear shoes Casua...    ₹445\n",
       "97  bluemaker         casual for men (beige 06) Sneakers For Men    ₹499\n",
       "98       aadi                                   Sneakers For Men    ₹379\n",
       "99       NIKE                            Tanjun Sneakers For Men  ₹1,864\n",
       "\n",
       "[100 rows x 3 columns]"
      ]
     },
     "execution_count": 72,
     "metadata": {},
     "output_type": "execute_result"
    }
   ],
   "source": [
    "data=pd.DataFrame({\"Brand\":finalbrand,\"Description\":finaldesc,\"Prices\":finalprice})\n",
    "data[0:100]"
   ]
  },
  {
   "cell_type": "markdown",
   "id": "4fa63815",
   "metadata": {},
   "source": [
    "# Ans7"
   ]
  },
  {
   "cell_type": "code",
   "execution_count": 155,
   "id": "d3d20524",
   "metadata": {},
   "outputs": [],
   "source": [
    "from selenium import webdriver\n",
    "from webdriver_manager.chrome import ChromeDriverManager\n",
    "import pandas as pd\n",
    "import warnings\n",
    "warnings.filterwarnings(\"ignore\")"
   ]
  },
  {
   "cell_type": "code",
   "execution_count": 156,
   "id": "9700fcf2",
   "metadata": {},
   "outputs": [],
   "source": [
    "path=\"C:\\Program Files (x86)\\Google\\Chrome\\Application\\chrome.exe\""
   ]
  },
  {
   "cell_type": "code",
   "execution_count": 162,
   "id": "9f64ee57",
   "metadata": {},
   "outputs": [
    {
     "name": "stderr",
     "output_type": "stream",
     "text": [
      "\n",
      "\n",
      "====== WebDriver manager ======\n",
      "Current google-chrome version is 95.0.4638\n",
      "Get LATEST chromedriver version for 95.0.4638 google-chrome\n",
      "Driver [C:\\Users\\Akash Manral\\.wdm\\drivers\\chromedriver\\win32\\95.0.4638.69\\chromedriver.exe] found in cache\n"
     ]
    }
   ],
   "source": [
    "driver=webdriver.Chrome(ChromeDriverManager().install())"
   ]
  },
  {
   "cell_type": "code",
   "execution_count": 163,
   "id": "84a8469a",
   "metadata": {},
   "outputs": [],
   "source": [
    "driver.get(\"https://www.myntra.com/shoes\")"
   ]
  },
  {
   "cell_type": "code",
   "execution_count": 164,
   "id": "e599586f",
   "metadata": {},
   "outputs": [],
   "source": [
    "driver.find_element_by_xpath(\"/html/body/div[2]/div/div[1]/main/div[3]/div[1]/section/div/div[5]/ul/li[2]/label\").click()"
   ]
  },
  {
   "cell_type": "code",
   "execution_count": 165,
   "id": "89cca444",
   "metadata": {},
   "outputs": [],
   "source": [
    "driver.find_element_by_xpath(\"/html/body/div[2]/div/div[1]/main/div[3]/div[1]/section/div/div[6]/ul/li[1]/label\").click()"
   ]
  },
  {
   "cell_type": "code",
   "execution_count": 167,
   "id": "78fee75e",
   "metadata": {},
   "outputs": [
    {
     "data": {
      "text/plain": [
       "['Nike',\n",
       " 'Nike',\n",
       " 'Calvin Klein',\n",
       " 'Calvin Klein',\n",
       " 'Nike',\n",
       " 'Puma',\n",
       " 'Puma',\n",
       " 'Hush Puppies',\n",
       " 'Puma',\n",
       " 'Puma',\n",
       " 'Hush Puppies',\n",
       " 'ASICS',\n",
       " 'Hush Puppies',\n",
       " 'PUMA Motorsport',\n",
       " 'Hush Puppies',\n",
       " 'Puma',\n",
       " 'Calvin Klein',\n",
       " 'Calvin Klein',\n",
       " 'Calvin Klein',\n",
       " 'Cole Haan',\n",
       " 'ASICS',\n",
       " 'ASICS',\n",
       " 'ASICS',\n",
       " 'Hush Puppies',\n",
       " 'UNDER ARMOUR',\n",
       " 'Calvin Klein',\n",
       " 'Saint G',\n",
       " 'UNDER ARMOUR',\n",
       " 'Bugatti',\n",
       " 'Puma',\n",
       " 'Puma',\n",
       " 'Geox',\n",
       " 'Puma',\n",
       " 'Saint G',\n",
       " 'Tommy Hilfiger',\n",
       " 'Calvin Klein',\n",
       " 'Bugatti',\n",
       " 'PUMA Motorsport',\n",
       " 'J.FONTINI',\n",
       " 'Tommy Hilfiger',\n",
       " 'Puma',\n",
       " 'Saint G',\n",
       " 'ASICS',\n",
       " 'Tommy Hilfiger',\n",
       " 'DAVINCHI',\n",
       " 'Ruosh',\n",
       " 'DAVINCHI',\n",
       " 'Tommy Hilfiger',\n",
       " 'DAVINCHI',\n",
       " 'Saint G']"
      ]
     },
     "execution_count": 167,
     "metadata": {},
     "output_type": "execute_result"
    }
   ],
   "source": [
    "brand=driver.find_elements_by_xpath(\"//h3[@class='product-brand']\")\n",
    "\n",
    "brands=[]\n",
    "for i in range(len(brand)):\n",
    "    brands.append(brand[i].text)\n",
    "brands    "
   ]
  },
  {
   "cell_type": "code",
   "execution_count": 168,
   "id": "7b7d3054",
   "metadata": {},
   "outputs": [
    {
     "data": {
      "text/plain": [
       "['Men Zoom Span 4 Running Shoes',\n",
       " 'Men FLIGHT LEGACY Sneakers',\n",
       " 'Men Textured Leather Sneaker',\n",
       " 'Men Mid-Top Runner Sneakers',\n",
       " \"Men BlazerLow '77 Sneakers\",\n",
       " 'Men Jamming 2.0 Running Shoes',\n",
       " 'Men Deviate Nitro Running Shoe',\n",
       " 'Men Formal Derbys',\n",
       " 'Men Velocity Nitro Running',\n",
       " 'Men Running Shoes',\n",
       " 'Men Solid Leather Formal Slip-Ons',\n",
       " 'Men Black Running Sports Shoes',\n",
       " 'Men Solid Leather Formal Derbys',\n",
       " 'Unisex FerrariRS-Fast Sneakers',\n",
       " 'Men Solid Leather Formal Slip-Ons',\n",
       " 'Women Magnify Nitro Shoes',\n",
       " 'Men Solid Low Top LTH Sneakers',\n",
       " 'Men UV MONO Leather Sneakers',\n",
       " 'Men Solid Mid-Top Sneakers',\n",
       " 'Men Wingtip Oxford Sneakers',\n",
       " 'Women NOVABLAST Road Running',\n",
       " 'Men Running Shoes',\n",
       " 'Men Colourblocked PU Sneakers',\n",
       " 'Men Leather Slip-On Sneakers',\n",
       " 'Women Charged Vantage ClrShft',\n",
       " 'Men Mid-Top Runner Sneakers',\n",
       " 'Men Mid-Top Chelsea Boots',\n",
       " 'Women Charged Bandit 6 Running',\n",
       " 'Men Walking Shoes',\n",
       " 'Women Liberate NITRO Running',\n",
       " 'Unisex RS-Z BP Sneakers',\n",
       " 'Men Solid Sneakers',\n",
       " 'Women Deviate Nitro Running',\n",
       " 'Women Leather Heeled Boots',\n",
       " 'Women Leather Block Pumps',\n",
       " 'Men Solid Leather Sneakers',\n",
       " 'Men Leather Flat Boots',\n",
       " 'Unisex BMW RS-Connect Sneakers',\n",
       " 'Men Black Leather Loafers',\n",
       " 'Men Lightweight Sneakers',\n",
       " 'Unisex Textured Sneakers',\n",
       " 'Leather Kitten Heeled Boots',\n",
       " 'Skycourt Sneakers',\n",
       " 'Women Leather Pumps',\n",
       " 'Ustraa black',\n",
       " 'Men Textured Derbys',\n",
       " 'Men Textured Formal Leather Loafers',\n",
       " 'Women Textured Pumps',\n",
       " 'Men Textured Formal Leather Oxfords',\n",
       " 'Women Leather Heeled Boots']"
      ]
     },
     "execution_count": 168,
     "metadata": {},
     "output_type": "execute_result"
    }
   ],
   "source": [
    "desc=driver.find_elements_by_xpath(\"//h4[@class='product-product']\")\n",
    "\n",
    "descs=[]\n",
    "for i in range(len(desc)):\n",
    "    descs.append(desc[i].text)\n",
    "descs    "
   ]
  },
  {
   "cell_type": "code",
   "execution_count": 169,
   "id": "ab025973",
   "metadata": {},
   "outputs": [
    {
     "data": {
      "text/plain": [
       "['Rs. 7195',\n",
       " 'Rs. 7995',\n",
       " 'Rs. 9999',\n",
       " 'Rs. 8249Rs. 10999(25% OFF)',\n",
       " 'Rs. 7195',\n",
       " 'Rs. 10399Rs. 12999(20% OFF)',\n",
       " 'Rs. 11249Rs. 14999(25% OFF)',\n",
       " 'Rs. 8999Rs. 9999(10% OFF)',\n",
       " 'Rs. 8799Rs. 10999(20% OFF)',\n",
       " 'Rs. 8449Rs. 12999(35% OFF)',\n",
       " 'Rs. 8099Rs. 8999(10% OFF)',\n",
       " 'Rs. 7999',\n",
       " 'Rs. 8999Rs. 9999(10% OFF)',\n",
       " 'Rs. 7499Rs. 9999(25% OFF)',\n",
       " 'Rs. 8999Rs. 9999(10% OFF)',\n",
       " 'Rs. 9099Rs. 12999(30% OFF)',\n",
       " 'Rs. 8999',\n",
       " 'Rs. 8999',\n",
       " 'Rs. 10599',\n",
       " 'Rs. 10399Rs. 12999(20% OFF)',\n",
       " 'Rs. 10399Rs. 12999(20% OFF)',\n",
       " 'Rs. 7999',\n",
       " 'Rs. 9999',\n",
       " 'Rs. 7999Rs. 9999(20% OFF)',\n",
       " 'Rs. 7999',\n",
       " 'Rs. 8249Rs. 10999(25% OFF)',\n",
       " 'Rs. 10900',\n",
       " 'Rs. 8999',\n",
       " 'Rs. 8999',\n",
       " 'Rs. 7499Rs. 9999(25% OFF)',\n",
       " 'Rs. 7499Rs. 9999(25% OFF)',\n",
       " 'Rs. 11999',\n",
       " 'Rs. 8249Rs. 14999(45% OFF)',\n",
       " 'Rs. 8500',\n",
       " 'Rs. 7999',\n",
       " 'Rs. 9999',\n",
       " 'Rs. 8999',\n",
       " 'Rs. 7999Rs. 9999(20% OFF)',\n",
       " 'Rs. 8490',\n",
       " 'Rs. 7999',\n",
       " 'Rs. 7999Rs. 9999(20% OFF)',\n",
       " 'Rs. 8900',\n",
       " 'Rs. 7999',\n",
       " 'Rs. 7999',\n",
       " 'Rs. 8990',\n",
       " 'Rs. 8990',\n",
       " 'Rs. 8990',\n",
       " 'Rs. 7599',\n",
       " 'Rs. 7990',\n",
       " 'Rs. 13900']"
      ]
     },
     "execution_count": 169,
     "metadata": {},
     "output_type": "execute_result"
    }
   ],
   "source": [
    "price=driver.find_elements_by_xpath(\"//div[@class='product-price']\")\n",
    "\n",
    "prices=[]\n",
    "for i in range(len(price)):\n",
    "    prices.append(price[i].text)\n",
    "prices  "
   ]
  },
  {
   "cell_type": "code",
   "execution_count": 170,
   "id": "6a366624",
   "metadata": {},
   "outputs": [],
   "source": [
    "driver.find_element_by_xpath(\"/html/body/div[2]/div/div[1]/main/div[3]/div[2]/div/div[2]/section/div[2]/ul/li[12]/a\").click()"
   ]
  },
  {
   "cell_type": "code",
   "execution_count": 171,
   "id": "5bcd2e37",
   "metadata": {},
   "outputs": [
    {
     "data": {
      "text/plain": [
       "['Saint G',\n",
       " 'Pavers England',\n",
       " 'Ruosh',\n",
       " 'Saint G',\n",
       " 'Bugatti',\n",
       " 'Saint G',\n",
       " 'Geox',\n",
       " 'Saint G',\n",
       " 'Sole To Soul',\n",
       " 'ASICS',\n",
       " 'Cole Haan',\n",
       " 'UNDER ARMOUR',\n",
       " 'UNDER ARMOUR',\n",
       " 'Puma',\n",
       " 'Puma',\n",
       " 'Tommy Hilfiger',\n",
       " 'Geox',\n",
       " 'Puma',\n",
       " 'ASICS',\n",
       " 'Cole Haan',\n",
       " 'Cole Haan',\n",
       " 'Geox',\n",
       " 'J.FONTINI',\n",
       " 'J.FONTINI',\n",
       " 'Geox',\n",
       " 'Ruosh',\n",
       " 'Hush Puppies',\n",
       " 'J.FONTINI',\n",
       " 'Ruosh',\n",
       " 'KLEAT',\n",
       " 'Bugatti',\n",
       " 'Hush Puppies',\n",
       " 'Hush Puppies',\n",
       " 'Puma',\n",
       " 'DAVINCHI',\n",
       " 'DAVINCHI',\n",
       " 'DAVINCHI',\n",
       " 'Geox',\n",
       " 'J.FONTINI',\n",
       " 'ECCO',\n",
       " 'KLEAT',\n",
       " 'DAVINCHI',\n",
       " 'Regal',\n",
       " 'DAVINCHI',\n",
       " 'Calvin Klein',\n",
       " 'KLEAT',\n",
       " 'Geox',\n",
       " 'Geox',\n",
       " 'Saint G',\n",
       " 'Saint G']"
      ]
     },
     "execution_count": 171,
     "metadata": {},
     "output_type": "execute_result"
    }
   ],
   "source": [
    "brand1=driver.find_elements_by_xpath(\"//h3[@class='product-brand']\")\n",
    "\n",
    "brands1=[]\n",
    "for i in range(len(brand1)):\n",
    "    brands1.append(brand1[i].text)\n",
    "brands1 "
   ]
  },
  {
   "cell_type": "code",
   "execution_count": 172,
   "id": "44e66b09",
   "metadata": {},
   "outputs": [
    {
     "data": {
      "text/plain": [
       "['Women Leather Heeled Boots',\n",
       " 'Men Textured Leather Formal Derbys',\n",
       " 'Men Formal Leather Brogues',\n",
       " 'Women Leather Heeled Boots',\n",
       " 'Leather Block Heeled Boots',\n",
       " 'Women Leather Heeled Boots',\n",
       " 'Women Leather Pumps',\n",
       " 'Leather Block Heeled Boots',\n",
       " 'Block Heeled Boots',\n",
       " 'Women Running Shoes',\n",
       " 'Women Woven Design Sneakers',\n",
       " 'Women Charged Impulse Shft',\n",
       " 'Women Charged Rogue 2.5ClrSft',\n",
       " 'Women Eternity NITRO Shoes',\n",
       " 'Women Velocity NITRO Runners',\n",
       " 'Women ELEVATED Leather Sneaker',\n",
       " 'Men Woven Design Sneakers',\n",
       " 'Women PRONOUNCE May Sneakers',\n",
       " 'Men DS LIGHT X-FLY 4 Running',\n",
       " 'Men Lightweight Brogues',\n",
       " 'Men GENERATION ZEROGRAND STITCHLITE',\n",
       " 'Men Leather Mid-Top Flat Boots',\n",
       " 'Men Textured Leather Loafers',\n",
       " 'Men Textured Leather Loafers',\n",
       " 'Men Leather Formal Slip-Ons',\n",
       " 'Men Solid Leather Formal Oxfords',\n",
       " 'Men Leather Derbys',\n",
       " 'Men Solid Loafers',\n",
       " 'Men Solid Leather Formal Monks',\n",
       " 'Men Woven Design Loafers',\n",
       " 'Men Solid Casual Sneakers',\n",
       " 'Men Solid Formal Slip-Ons',\n",
       " 'Men Solid Leather Formal Derbys',\n",
       " 'Men Magnify Nitro Running',\n",
       " 'Solid Leather Formal Shoes',\n",
       " 'Men Formal Leather Slip-Ons',\n",
       " 'Solid Slip On Shoes',\n",
       " 'Men Leather Flat Boots',\n",
       " 'Men Textured Leather Formal Loafers',\n",
       " 'Women Leather Sneakers',\n",
       " 'Men Woven Design Sneakers',\n",
       " 'Men Solid Leather Formal Derbys',\n",
       " 'Men Solid Leather Formal Monks',\n",
       " 'Men Textured Formal Leather Loafers',\n",
       " 'Men Solid Suede Sneakers',\n",
       " 'Men Suede Flat Boots',\n",
       " 'Women Leather Pumps',\n",
       " 'Women Quilted Leather Pumps',\n",
       " 'Women Heeled Boots',\n",
       " 'Women Leather Heeled Boots']"
      ]
     },
     "execution_count": 172,
     "metadata": {},
     "output_type": "execute_result"
    }
   ],
   "source": [
    "desc1=driver.find_elements_by_xpath(\"//h4[@class='product-product']\")\n",
    "\n",
    "descs1=[]\n",
    "for i in range(len(desc1)):\n",
    "    descs1.append(desc1[i].text)\n",
    "descs1"
   ]
  },
  {
   "cell_type": "code",
   "execution_count": 173,
   "id": "cf0a58a3",
   "metadata": {},
   "outputs": [
    {
     "data": {
      "text/plain": [
       "['Rs. 13900',\n",
       " 'Rs. 8999',\n",
       " 'Rs. 7490',\n",
       " 'Rs. 11000',\n",
       " 'Rs. 9999',\n",
       " 'Rs. 9500',\n",
       " 'Rs. 8999',\n",
       " 'Rs. 8900',\n",
       " 'Rs. 7590Rs. 7990(5% OFF)',\n",
       " 'Rs. 7199Rs. 8999(20% OFF)',\n",
       " 'Rs. 8999Rs. 14999(40% OFF)',\n",
       " 'Rs. 7499',\n",
       " 'Rs. 7999',\n",
       " 'Rs. 9099Rs. 12999(30% OFF)',\n",
       " 'Rs. 8249Rs. 10999(25% OFF)',\n",
       " 'Rs. 7599',\n",
       " 'Rs. 10499',\n",
       " 'Rs. 7499Rs. 9999(25% OFF)',\n",
       " 'Rs. 7699Rs. 10999(30% OFF)',\n",
       " 'Rs. 12799Rs. 15999(20% OFF)',\n",
       " 'Rs. 9599Rs. 11999(20% OFF)',\n",
       " 'Rs. 12999',\n",
       " 'Rs. 7990',\n",
       " 'Rs. 7990',\n",
       " 'Rs. 8999',\n",
       " 'Rs. 13490',\n",
       " 'Rs. 7199Rs. 7999(10% OFF)',\n",
       " 'Rs. 8990',\n",
       " 'Rs. 8990',\n",
       " 'Rs. 7999',\n",
       " 'Rs. 7199Rs. 8999(20% OFF)',\n",
       " 'Rs. 8999Rs. 9999(10% OFF)',\n",
       " 'Rs. 7199Rs. 8999(20% OFF)',\n",
       " 'Rs. 8449Rs. 12999(35% OFF)',\n",
       " 'Rs. 7990',\n",
       " 'Rs. 8990',\n",
       " 'Rs. 7990',\n",
       " 'Rs. 11999',\n",
       " 'Rs. 8990',\n",
       " 'Rs. 9999',\n",
       " 'Rs. 7999',\n",
       " 'Rs. 8990',\n",
       " 'Rs. 8990',\n",
       " 'Rs. 8990',\n",
       " 'Rs. 7999',\n",
       " 'Rs. 8999',\n",
       " 'Rs. 9999',\n",
       " 'Rs. 8999',\n",
       " 'Rs. 9500',\n",
       " 'Rs. 9500']"
      ]
     },
     "execution_count": 173,
     "metadata": {},
     "output_type": "execute_result"
    }
   ],
   "source": [
    "price1=driver.find_elements_by_xpath(\"//div[@class='product-price']\")\n",
    "\n",
    "prices1=[]\n",
    "for i in range(len(price1)):\n",
    "    prices1.append(price1[i].text)\n",
    "prices1 "
   ]
  },
  {
   "cell_type": "code",
   "execution_count": 174,
   "id": "36023c96",
   "metadata": {},
   "outputs": [
    {
     "data": {
      "text/plain": [
       "['Nike',\n",
       " 'Nike',\n",
       " 'Calvin Klein',\n",
       " 'Calvin Klein',\n",
       " 'Nike',\n",
       " 'Puma',\n",
       " 'Puma',\n",
       " 'Hush Puppies',\n",
       " 'Puma',\n",
       " 'Puma',\n",
       " 'Hush Puppies',\n",
       " 'ASICS',\n",
       " 'Hush Puppies',\n",
       " 'PUMA Motorsport',\n",
       " 'Hush Puppies',\n",
       " 'Puma',\n",
       " 'Calvin Klein',\n",
       " 'Calvin Klein',\n",
       " 'Calvin Klein',\n",
       " 'Cole Haan',\n",
       " 'ASICS',\n",
       " 'ASICS',\n",
       " 'ASICS',\n",
       " 'Hush Puppies',\n",
       " 'UNDER ARMOUR',\n",
       " 'Calvin Klein',\n",
       " 'Saint G',\n",
       " 'UNDER ARMOUR',\n",
       " 'Bugatti',\n",
       " 'Puma',\n",
       " 'Puma',\n",
       " 'Geox',\n",
       " 'Puma',\n",
       " 'Saint G',\n",
       " 'Tommy Hilfiger',\n",
       " 'Calvin Klein',\n",
       " 'Bugatti',\n",
       " 'PUMA Motorsport',\n",
       " 'J.FONTINI',\n",
       " 'Tommy Hilfiger',\n",
       " 'Puma',\n",
       " 'Saint G',\n",
       " 'ASICS',\n",
       " 'Tommy Hilfiger',\n",
       " 'DAVINCHI',\n",
       " 'Ruosh',\n",
       " 'DAVINCHI',\n",
       " 'Tommy Hilfiger',\n",
       " 'DAVINCHI',\n",
       " 'Saint G',\n",
       " 'Saint G',\n",
       " 'Pavers England',\n",
       " 'Ruosh',\n",
       " 'Saint G',\n",
       " 'Bugatti',\n",
       " 'Saint G',\n",
       " 'Geox',\n",
       " 'Saint G',\n",
       " 'Sole To Soul',\n",
       " 'ASICS',\n",
       " 'Cole Haan',\n",
       " 'UNDER ARMOUR',\n",
       " 'UNDER ARMOUR',\n",
       " 'Puma',\n",
       " 'Puma',\n",
       " 'Tommy Hilfiger',\n",
       " 'Geox',\n",
       " 'Puma',\n",
       " 'ASICS',\n",
       " 'Cole Haan',\n",
       " 'Cole Haan',\n",
       " 'Geox',\n",
       " 'J.FONTINI',\n",
       " 'J.FONTINI',\n",
       " 'Geox',\n",
       " 'Ruosh',\n",
       " 'Hush Puppies',\n",
       " 'J.FONTINI',\n",
       " 'Ruosh',\n",
       " 'KLEAT',\n",
       " 'Bugatti',\n",
       " 'Hush Puppies',\n",
       " 'Hush Puppies',\n",
       " 'Puma',\n",
       " 'DAVINCHI',\n",
       " 'DAVINCHI',\n",
       " 'DAVINCHI',\n",
       " 'Geox',\n",
       " 'J.FONTINI',\n",
       " 'ECCO',\n",
       " 'KLEAT',\n",
       " 'DAVINCHI',\n",
       " 'Regal',\n",
       " 'DAVINCHI',\n",
       " 'Calvin Klein',\n",
       " 'KLEAT',\n",
       " 'Geox',\n",
       " 'Geox',\n",
       " 'Saint G',\n",
       " 'Saint G']"
      ]
     },
     "execution_count": 174,
     "metadata": {},
     "output_type": "execute_result"
    }
   ],
   "source": [
    "finalbrand=brands+brands1\n",
    "finalbrand"
   ]
  },
  {
   "cell_type": "code",
   "execution_count": 177,
   "id": "bb5e101d",
   "metadata": {},
   "outputs": [
    {
     "data": {
      "text/plain": [
       "['Men Zoom Span 4 Running Shoes',\n",
       " 'Men FLIGHT LEGACY Sneakers',\n",
       " 'Men Textured Leather Sneaker',\n",
       " 'Men Mid-Top Runner Sneakers',\n",
       " \"Men BlazerLow '77 Sneakers\",\n",
       " 'Men Jamming 2.0 Running Shoes',\n",
       " 'Men Deviate Nitro Running Shoe',\n",
       " 'Men Formal Derbys',\n",
       " 'Men Velocity Nitro Running',\n",
       " 'Men Running Shoes',\n",
       " 'Men Solid Leather Formal Slip-Ons',\n",
       " 'Men Black Running Sports Shoes',\n",
       " 'Men Solid Leather Formal Derbys',\n",
       " 'Unisex FerrariRS-Fast Sneakers',\n",
       " 'Men Solid Leather Formal Slip-Ons',\n",
       " 'Women Magnify Nitro Shoes',\n",
       " 'Men Solid Low Top LTH Sneakers',\n",
       " 'Men UV MONO Leather Sneakers',\n",
       " 'Men Solid Mid-Top Sneakers',\n",
       " 'Men Wingtip Oxford Sneakers',\n",
       " 'Women NOVABLAST Road Running',\n",
       " 'Men Running Shoes',\n",
       " 'Men Colourblocked PU Sneakers',\n",
       " 'Men Leather Slip-On Sneakers',\n",
       " 'Women Charged Vantage ClrShft',\n",
       " 'Men Mid-Top Runner Sneakers',\n",
       " 'Men Mid-Top Chelsea Boots',\n",
       " 'Women Charged Bandit 6 Running',\n",
       " 'Men Walking Shoes',\n",
       " 'Women Liberate NITRO Running',\n",
       " 'Unisex RS-Z BP Sneakers',\n",
       " 'Men Solid Sneakers',\n",
       " 'Women Deviate Nitro Running',\n",
       " 'Women Leather Heeled Boots',\n",
       " 'Women Leather Block Pumps',\n",
       " 'Men Solid Leather Sneakers',\n",
       " 'Men Leather Flat Boots',\n",
       " 'Unisex BMW RS-Connect Sneakers',\n",
       " 'Men Black Leather Loafers',\n",
       " 'Men Lightweight Sneakers',\n",
       " 'Unisex Textured Sneakers',\n",
       " 'Leather Kitten Heeled Boots',\n",
       " 'Skycourt Sneakers',\n",
       " 'Women Leather Pumps',\n",
       " 'Ustraa black',\n",
       " 'Men Textured Derbys',\n",
       " 'Men Textured Formal Leather Loafers',\n",
       " 'Women Textured Pumps',\n",
       " 'Men Textured Formal Leather Oxfords',\n",
       " 'Women Leather Heeled Boots',\n",
       " 'Women Leather Heeled Boots',\n",
       " 'Men Textured Leather Formal Derbys',\n",
       " 'Men Formal Leather Brogues',\n",
       " 'Women Leather Heeled Boots',\n",
       " 'Leather Block Heeled Boots',\n",
       " 'Women Leather Heeled Boots',\n",
       " 'Women Leather Pumps',\n",
       " 'Leather Block Heeled Boots',\n",
       " 'Block Heeled Boots',\n",
       " 'Women Running Shoes',\n",
       " 'Women Woven Design Sneakers',\n",
       " 'Women Charged Impulse Shft',\n",
       " 'Women Charged Rogue 2.5ClrSft',\n",
       " 'Women Eternity NITRO Shoes',\n",
       " 'Women Velocity NITRO Runners',\n",
       " 'Women ELEVATED Leather Sneaker',\n",
       " 'Men Woven Design Sneakers',\n",
       " 'Women PRONOUNCE May Sneakers',\n",
       " 'Men DS LIGHT X-FLY 4 Running',\n",
       " 'Men Lightweight Brogues',\n",
       " 'Men GENERATION ZEROGRAND STITCHLITE',\n",
       " 'Men Leather Mid-Top Flat Boots',\n",
       " 'Men Textured Leather Loafers',\n",
       " 'Men Textured Leather Loafers',\n",
       " 'Men Leather Formal Slip-Ons',\n",
       " 'Men Solid Leather Formal Oxfords',\n",
       " 'Men Leather Derbys',\n",
       " 'Men Solid Loafers',\n",
       " 'Men Solid Leather Formal Monks',\n",
       " 'Men Woven Design Loafers',\n",
       " 'Men Solid Casual Sneakers',\n",
       " 'Men Solid Formal Slip-Ons',\n",
       " 'Men Solid Leather Formal Derbys',\n",
       " 'Men Magnify Nitro Running',\n",
       " 'Solid Leather Formal Shoes',\n",
       " 'Men Formal Leather Slip-Ons',\n",
       " 'Solid Slip On Shoes',\n",
       " 'Men Leather Flat Boots',\n",
       " 'Men Textured Leather Formal Loafers',\n",
       " 'Women Leather Sneakers',\n",
       " 'Men Woven Design Sneakers',\n",
       " 'Men Solid Leather Formal Derbys',\n",
       " 'Men Solid Leather Formal Monks',\n",
       " 'Men Textured Formal Leather Loafers',\n",
       " 'Men Solid Suede Sneakers',\n",
       " 'Men Suede Flat Boots',\n",
       " 'Women Leather Pumps',\n",
       " 'Women Quilted Leather Pumps',\n",
       " 'Women Heeled Boots',\n",
       " 'Women Leather Heeled Boots']"
      ]
     },
     "execution_count": 177,
     "metadata": {},
     "output_type": "execute_result"
    }
   ],
   "source": [
    "finaldesc=descs+descs1\n",
    "finaldesc"
   ]
  },
  {
   "cell_type": "code",
   "execution_count": 178,
   "id": "9ee34efe",
   "metadata": {},
   "outputs": [
    {
     "data": {
      "text/plain": [
       "['Rs. 7195',\n",
       " 'Rs. 7995',\n",
       " 'Rs. 9999',\n",
       " 'Rs. 8249Rs. 10999(25% OFF)',\n",
       " 'Rs. 7195',\n",
       " 'Rs. 10399Rs. 12999(20% OFF)',\n",
       " 'Rs. 11249Rs. 14999(25% OFF)',\n",
       " 'Rs. 8999Rs. 9999(10% OFF)',\n",
       " 'Rs. 8799Rs. 10999(20% OFF)',\n",
       " 'Rs. 8449Rs. 12999(35% OFF)',\n",
       " 'Rs. 8099Rs. 8999(10% OFF)',\n",
       " 'Rs. 7999',\n",
       " 'Rs. 8999Rs. 9999(10% OFF)',\n",
       " 'Rs. 7499Rs. 9999(25% OFF)',\n",
       " 'Rs. 8999Rs. 9999(10% OFF)',\n",
       " 'Rs. 9099Rs. 12999(30% OFF)',\n",
       " 'Rs. 8999',\n",
       " 'Rs. 8999',\n",
       " 'Rs. 10599',\n",
       " 'Rs. 10399Rs. 12999(20% OFF)',\n",
       " 'Rs. 10399Rs. 12999(20% OFF)',\n",
       " 'Rs. 7999',\n",
       " 'Rs. 9999',\n",
       " 'Rs. 7999Rs. 9999(20% OFF)',\n",
       " 'Rs. 7999',\n",
       " 'Rs. 8249Rs. 10999(25% OFF)',\n",
       " 'Rs. 10900',\n",
       " 'Rs. 8999',\n",
       " 'Rs. 8999',\n",
       " 'Rs. 7499Rs. 9999(25% OFF)',\n",
       " 'Rs. 7499Rs. 9999(25% OFF)',\n",
       " 'Rs. 11999',\n",
       " 'Rs. 8249Rs. 14999(45% OFF)',\n",
       " 'Rs. 8500',\n",
       " 'Rs. 7999',\n",
       " 'Rs. 9999',\n",
       " 'Rs. 8999',\n",
       " 'Rs. 7999Rs. 9999(20% OFF)',\n",
       " 'Rs. 8490',\n",
       " 'Rs. 7999',\n",
       " 'Rs. 7999Rs. 9999(20% OFF)',\n",
       " 'Rs. 8900',\n",
       " 'Rs. 7999',\n",
       " 'Rs. 7999',\n",
       " 'Rs. 8990',\n",
       " 'Rs. 8990',\n",
       " 'Rs. 8990',\n",
       " 'Rs. 7599',\n",
       " 'Rs. 7990',\n",
       " 'Rs. 13900',\n",
       " 'Rs. 13900',\n",
       " 'Rs. 8999',\n",
       " 'Rs. 7490',\n",
       " 'Rs. 11000',\n",
       " 'Rs. 9999',\n",
       " 'Rs. 9500',\n",
       " 'Rs. 8999',\n",
       " 'Rs. 8900',\n",
       " 'Rs. 7590Rs. 7990(5% OFF)',\n",
       " 'Rs. 7199Rs. 8999(20% OFF)',\n",
       " 'Rs. 8999Rs. 14999(40% OFF)',\n",
       " 'Rs. 7499',\n",
       " 'Rs. 7999',\n",
       " 'Rs. 9099Rs. 12999(30% OFF)',\n",
       " 'Rs. 8249Rs. 10999(25% OFF)',\n",
       " 'Rs. 7599',\n",
       " 'Rs. 10499',\n",
       " 'Rs. 7499Rs. 9999(25% OFF)',\n",
       " 'Rs. 7699Rs. 10999(30% OFF)',\n",
       " 'Rs. 12799Rs. 15999(20% OFF)',\n",
       " 'Rs. 9599Rs. 11999(20% OFF)',\n",
       " 'Rs. 12999',\n",
       " 'Rs. 7990',\n",
       " 'Rs. 7990',\n",
       " 'Rs. 8999',\n",
       " 'Rs. 13490',\n",
       " 'Rs. 7199Rs. 7999(10% OFF)',\n",
       " 'Rs. 8990',\n",
       " 'Rs. 8990',\n",
       " 'Rs. 7999',\n",
       " 'Rs. 7199Rs. 8999(20% OFF)',\n",
       " 'Rs. 8999Rs. 9999(10% OFF)',\n",
       " 'Rs. 7199Rs. 8999(20% OFF)',\n",
       " 'Rs. 8449Rs. 12999(35% OFF)',\n",
       " 'Rs. 7990',\n",
       " 'Rs. 8990',\n",
       " 'Rs. 7990',\n",
       " 'Rs. 11999',\n",
       " 'Rs. 8990',\n",
       " 'Rs. 9999',\n",
       " 'Rs. 7999',\n",
       " 'Rs. 8990',\n",
       " 'Rs. 8990',\n",
       " 'Rs. 8990',\n",
       " 'Rs. 7999',\n",
       " 'Rs. 8999',\n",
       " 'Rs. 9999',\n",
       " 'Rs. 8999',\n",
       " 'Rs. 9500',\n",
       " 'Rs. 9500']"
      ]
     },
     "execution_count": 178,
     "metadata": {},
     "output_type": "execute_result"
    }
   ],
   "source": [
    "finalprice=prices+prices1\n",
    "finalprice"
   ]
  },
  {
   "cell_type": "code",
   "execution_count": 179,
   "id": "52b25f01",
   "metadata": {},
   "outputs": [
    {
     "data": {
      "text/html": [
       "<div>\n",
       "<style scoped>\n",
       "    .dataframe tbody tr th:only-of-type {\n",
       "        vertical-align: middle;\n",
       "    }\n",
       "\n",
       "    .dataframe tbody tr th {\n",
       "        vertical-align: top;\n",
       "    }\n",
       "\n",
       "    .dataframe thead th {\n",
       "        text-align: right;\n",
       "    }\n",
       "</style>\n",
       "<table border=\"1\" class=\"dataframe\">\n",
       "  <thead>\n",
       "    <tr style=\"text-align: right;\">\n",
       "      <th></th>\n",
       "      <th>Brand</th>\n",
       "      <th>Description</th>\n",
       "      <th>Price</th>\n",
       "    </tr>\n",
       "  </thead>\n",
       "  <tbody>\n",
       "    <tr>\n",
       "      <th>0</th>\n",
       "      <td>Nike</td>\n",
       "      <td>Men Zoom Span 4 Running Shoes</td>\n",
       "      <td>Rs. 7195</td>\n",
       "    </tr>\n",
       "    <tr>\n",
       "      <th>1</th>\n",
       "      <td>Nike</td>\n",
       "      <td>Men FLIGHT LEGACY Sneakers</td>\n",
       "      <td>Rs. 7995</td>\n",
       "    </tr>\n",
       "    <tr>\n",
       "      <th>2</th>\n",
       "      <td>Calvin Klein</td>\n",
       "      <td>Men Textured Leather Sneaker</td>\n",
       "      <td>Rs. 9999</td>\n",
       "    </tr>\n",
       "    <tr>\n",
       "      <th>3</th>\n",
       "      <td>Calvin Klein</td>\n",
       "      <td>Men Mid-Top Runner Sneakers</td>\n",
       "      <td>Rs. 8249Rs. 10999(25% OFF)</td>\n",
       "    </tr>\n",
       "    <tr>\n",
       "      <th>4</th>\n",
       "      <td>Nike</td>\n",
       "      <td>Men BlazerLow '77 Sneakers</td>\n",
       "      <td>Rs. 7195</td>\n",
       "    </tr>\n",
       "    <tr>\n",
       "      <th>...</th>\n",
       "      <td>...</td>\n",
       "      <td>...</td>\n",
       "      <td>...</td>\n",
       "    </tr>\n",
       "    <tr>\n",
       "      <th>95</th>\n",
       "      <td>KLEAT</td>\n",
       "      <td>Men Suede Flat Boots</td>\n",
       "      <td>Rs. 8999</td>\n",
       "    </tr>\n",
       "    <tr>\n",
       "      <th>96</th>\n",
       "      <td>Geox</td>\n",
       "      <td>Women Leather Pumps</td>\n",
       "      <td>Rs. 9999</td>\n",
       "    </tr>\n",
       "    <tr>\n",
       "      <th>97</th>\n",
       "      <td>Geox</td>\n",
       "      <td>Women Quilted Leather Pumps</td>\n",
       "      <td>Rs. 8999</td>\n",
       "    </tr>\n",
       "    <tr>\n",
       "      <th>98</th>\n",
       "      <td>Saint G</td>\n",
       "      <td>Women Heeled Boots</td>\n",
       "      <td>Rs. 9500</td>\n",
       "    </tr>\n",
       "    <tr>\n",
       "      <th>99</th>\n",
       "      <td>Saint G</td>\n",
       "      <td>Women Leather Heeled Boots</td>\n",
       "      <td>Rs. 9500</td>\n",
       "    </tr>\n",
       "  </tbody>\n",
       "</table>\n",
       "<p>100 rows × 3 columns</p>\n",
       "</div>"
      ],
      "text/plain": [
       "           Brand                    Description                       Price\n",
       "0           Nike  Men Zoom Span 4 Running Shoes                    Rs. 7195\n",
       "1           Nike     Men FLIGHT LEGACY Sneakers                    Rs. 7995\n",
       "2   Calvin Klein   Men Textured Leather Sneaker                    Rs. 9999\n",
       "3   Calvin Klein    Men Mid-Top Runner Sneakers  Rs. 8249Rs. 10999(25% OFF)\n",
       "4           Nike     Men BlazerLow '77 Sneakers                    Rs. 7195\n",
       "..           ...                            ...                         ...\n",
       "95         KLEAT           Men Suede Flat Boots                    Rs. 8999\n",
       "96          Geox            Women Leather Pumps                    Rs. 9999\n",
       "97          Geox    Women Quilted Leather Pumps                    Rs. 8999\n",
       "98       Saint G             Women Heeled Boots                    Rs. 9500\n",
       "99       Saint G     Women Leather Heeled Boots                    Rs. 9500\n",
       "\n",
       "[100 rows x 3 columns]"
      ]
     },
     "execution_count": 179,
     "metadata": {},
     "output_type": "execute_result"
    }
   ],
   "source": [
    "data=pd.DataFrame({\"Brand\":finalbrand,\"Description\":finaldesc,\"Price\":finalprice})\n",
    "data"
   ]
  },
  {
   "cell_type": "markdown",
   "id": "b6ca20d5",
   "metadata": {},
   "source": [
    "# Ans-8 scrape first 10 laptops data"
   ]
  },
  {
   "cell_type": "code",
   "execution_count": 1,
   "id": "fa36aab9",
   "metadata": {},
   "outputs": [],
   "source": [
    "from selenium import webdriver\n",
    "from webdriver_manager.chrome import ChromeDriverManager\n",
    "import pandas as pd\n",
    "import warnings\n",
    "warnings.filterwarnings(\"ignore\")"
   ]
  },
  {
   "cell_type": "code",
   "execution_count": 2,
   "id": "fcd172a1",
   "metadata": {},
   "outputs": [],
   "source": [
    "path=\"C:\\Program Files (x86)\\Google\\Chrome\\Application\\chrome.exe\""
   ]
  },
  {
   "cell_type": "code",
   "execution_count": 3,
   "id": "7ed9ad2e",
   "metadata": {},
   "outputs": [
    {
     "name": "stderr",
     "output_type": "stream",
     "text": [
      "\n",
      "\n",
      "====== WebDriver manager ======\n",
      "Current google-chrome version is 95.0.4638\n",
      "Get LATEST chromedriver version for 95.0.4638 google-chrome\n",
      "Driver [C:\\Users\\Akash Manral\\.wdm\\drivers\\chromedriver\\win32\\95.0.4638.69\\chromedriver.exe] found in cache\n"
     ]
    }
   ],
   "source": [
    "driver=webdriver.Chrome(ChromeDriverManager().install())"
   ]
  },
  {
   "cell_type": "code",
   "execution_count": 4,
   "id": "3466f806",
   "metadata": {},
   "outputs": [],
   "source": [
    "driver.get(\"https://www.amazon.in/\")"
   ]
  },
  {
   "cell_type": "code",
   "execution_count": 5,
   "id": "cc7935ae",
   "metadata": {},
   "outputs": [],
   "source": [
    "driver.find_element_by_xpath(\"/html/body/div[1]/header/div/div[1]/div[2]/div/form/div[2]/div[1]/input\").send_keys(\"Laptop\")"
   ]
  },
  {
   "cell_type": "code",
   "execution_count": 6,
   "id": "07d207cf",
   "metadata": {},
   "outputs": [],
   "source": [
    "driver.find_element_by_xpath(\"/html/body/div[1]/header/div/div[1]/div[2]/div/form/div[3]/div/span/input\").click()"
   ]
  },
  {
   "cell_type": "code",
   "execution_count": 7,
   "id": "79b0bf63",
   "metadata": {},
   "outputs": [],
   "source": [
    "driver.find_element_by_xpath(\"/html/body/div[1]/div[2]/div[1]/div[2]/div/div[3]/span/div[1]/span/div/div/div[5]/ul[1]/li[12]/span/a/span\").click()"
   ]
  },
  {
   "cell_type": "code",
   "execution_count": 8,
   "id": "a8d971bb",
   "metadata": {},
   "outputs": [
    {
     "data": {
      "text/plain": [
       "['ASUS TUF Dash F15 (2021) 15.6-inch (39.62 cms) FHD 144Hz, Intel Core i7-11370H 11th Gen, RTX 3050 4GB Graphics, Gaming Laptop (16GB/512GB SSD/Windows 10/Gray/2 Kg), FX516PCZ-HN091T',\n",
       " 'ASUS ZenBook 13 OLED (2021) Intel Core i7-1165G7 11th Gen 14\" (35.56cms) FHD Thin and Light Laptop (16GB/512GB SSD/Windows 10/Office 2019/Intel Iris Xᵉ Graphics/Pine Grey/1.14 kg), UX325EA-KG722TS',\n",
       " 'ASUS TUF Gaming F17 (2021), 17.3-inch (43.94 cms) FHD 144Hz, Intel Core i7-11800H 11th Gen, GeForce RTX 3050 Ti 4GB Graphics, Gaming Laptop (16GB/1TB SSD/Windows 10/Eclipse Gray/2.6 Kg) FX766HE-HX022T',\n",
       " 'Acer Nitro 5 AN515-57 Gaming Laptop | Intel Core i7-11800H |NVIDIA GeForce RTX 3050 Ti Laptop Graphics |15.6\" FHD 144Hz IPS Display |16GB DDR4 |256GB SSD+1TB HDD |Killer Wi-Fi 6 |RGB Backlit Keyboard',\n",
       " 'HP Pavilion (2021) Intel 11th Gen Core i7 14 inches FHD Screen Thin & Light Laptop, 16 GB RAM, 1TB SSD, Iris Xe Graphics, Windows 10, MS Office, Backlit Keyboard, 1.41kg (14-dv0058TU)',\n",
       " 'Mi Notebook Horizon Edition 14 Intel Core i7-10510U 10th Gen Thin and Light Laptop(8GB/512GB SSD/Windows 10/Nvidia MX350 2GB Graphics/Grey/1.35Kg)(Without Webcam) XMA1904-AF',\n",
       " 'Dell 14 (2021) i7-1195G7 2in1 Touch Screen Laptop, 16GB, 512GB SSD, Win 10 + MS Office, 14.0\" (35.56 cms) FHD Display, Backlit KB, FPR + Active Pen, Platinum Silver (Inspiron 5410, D560596WIN9S)',\n",
       " '(Renewed) Lenovo Intel 5th Gen Core i7 14 Inch(35.56 cms) 1366 x 768 HD Laptop (12GB RAM/500GB HDD/Windows 10 Pro/MS Office/ Intel HD graphics,Black,2.0kg) Lenovo ThinkPad T450',\n",
       " '(Renewed) Lenovo Intel 5th Gen Core i7 14 Inch(35.56 cms) 1366 x 768 HD Laptop (8GB RAM/256GB SSD/Windows 10 Pro/MS Office/ Intel HD graphics,Black,2.0kg) Lenovo ThinkPad T450',\n",
       " '(Renewed) Lenovo Intel 5th Gen Core i7 14 Inch(35.56 cms) 1366 x 768 HD Laptop (4GB RAM/500GB HDD/Windows 10 Pro/MS Office/ Intel HD graphics,Black,2.0kg) Lenovo ThinkPad T450',\n",
       " '(Renewed) Lenovo Intel 5th Gen Core i7 14 Inch(35.56 cms) 1366 x 768 HD Laptop (8GB RAM/1TB HDD/Windows 10 Pro/MS Office/ Intel HD graphics,Black,2.0kg) Lenovo ThinkPad T450',\n",
       " '(Renewed) Lenovo Intel 5th Gen Core i7 14 Inch(35.56 cms) 1366 x 768 HD Laptop (12GB RAM /1TB HDD/Windows 10 Pro/MS Office/ Intel HD graphics,Black,2.0kg) Lenovo ThinkPad T450',\n",
       " '(Renewed) Lenovo Intel 5th Gen Core i7 14 Inch(35.56 cms) 1366 x 768 HD Laptop (16GB RAM/512GB SSD/Windows 10 Pro/MS Office/ Intel HD graphics,Black,2.0kg) Lenovo ThinkPad T450',\n",
       " '(Renewed) Lenovo Intel 5th Gen Core i7 14 Inch(35.56 cms) 1366 x 768 HD Laptop (8GB RAM/500GB HDD/Windows 10 Pro/MS Office/ Intel HD graphics,Black,2.0kg) Lenovo ThinkPad T450',\n",
       " 'Lenovo Legion 5 11th Gen Intel Core i7 15.6\"(39.62cm) FHD IPS Gaming Laptop (16GB/512GB SSD/NVIDIA RTX 3050 4GB/120Hz Refresh Rate/Windows 10/MS Office/Backlit Keyboard/Phantom Blue/2.4Kg), 82JK007WIN',\n",
       " '(Renewed) Lenovo Intel 5th Gen Core i7 14 Inch(35.56 cms) 1366 x 768 HD Laptop (12GB RAM /1TB SSD/Windows 10 Pro/MS Office/ Intel HD graphics,Black,2.0kg) Lenovo ThinkPad T450',\n",
       " '(Renewed) Lenovo Intel 5th Gen Core i7 14 Inch(35.56 cms) 1366 x 768 HD Laptop (12GB RAM /2TB HDD/Windows 10 Pro/MS Office/ Intel HD graphics,Black,2.0kg) Lenovo ThinkPad T450',\n",
       " '(Renewed) Lenovo Intel 5th Gen Core i7 14 Inch(35.56 cms) 1366 x 768 HD Laptop (16GB RAM /1TB HDD/Windows 10 Pro/MS Office/ Intel HD graphics,Black,2.0kg) Lenovo ThinkPad T450',\n",
       " '(Renewed) Lenovo Intel 5th Gen Core i7 14 Inch(35.56 cms) 1366 x 768 HD Laptop (16GB RAM/500GB HDD/Windows 10 Pro/MS Office/ Intel HD graphics,Black,2.0kg) Lenovo ThinkPad T450',\n",
       " '(Renewed) Lenovo Intel 5th Gen Core i7 14 Inch(35.56 cms) 1366 x 768 HD Laptop (16GB RAM /2TB HDD/Windows 10 Pro/MS Office/ Intel HD graphics,Black,2.0kg) Lenovo ThinkPad T450',\n",
       " '(Renewed) Lenovo Intel 5th Gen Core i7 14 Inch(35.56 cms) 1366 x 768 HD Laptop (16GB RAM /1TB SSD/Windows 10 Pro/MS Office/ Intel HD graphics,Black,2.0kg) Lenovo ThinkPad T450',\n",
       " 'Lenovo ThinkBook 15 Intel 11th Gen Core i7 15.6\"(39.62 cm)FHD IPS 300 nits Antiglare 100% sRGB Thin & Light Laptop(16GB/1TB HDD+128GB SSD/Windows 10/MS Office/3 Yr Onsite Warranty/1.7 Kg) 20VEA0HBIH',\n",
       " 'ASUS TUF Dash F15 15.6-inch FHD 144Hz, Intel Core i7-11370H 11th Gen RTX 3050 4GB Gaming Laptop (16GB RAM/512GB SSD/Win10/White/2 kg)+ Wireless Mouse + Microsoft 365 Personal 12-Month Subscription',\n",
       " 'LG Gram 14 Ultralight Intel Evo 11th Gen Core i7,16 GB RAM, 512 GB SSD, Win-10, Iris Xe Graphics, 14-inches (35.56 cms), Thunderbolt 4, USC -Cx2 (with Power), 999 Grams, 3 Yr Warranty (14Z90P, Black)',\n",
       " '(Renewed) Dell Intel Core i7 6th Gen 14-Inch(35.56 cms) 1366 x 768 HD Laptop (16GB RAM /1TB SSD/Windows 10 Pro/MS Office/ Intel HD Integrated Graphics/ 1.5Kg,Black) Latitude E5470',\n",
       " 'HP Pavilion 11th Gen Intel Core i7 15.6 inches FHD Gaming Laptop (16GB RAM/512GB SSD/144Hz/4GB NVIDIA GeForce GTX 1650 Graphics/Windows 10 Home/MS Office/Shadow Black/2.28 Kg), 15-dk2075tx',\n",
       " 'Lenovo Legion 5 10th Gen Intel Core i7-10750H 15.6\" (39.63cm) FHD IPS Gaming Laptop (16GB/512GB SSD/Windows 10/NVIDIA GTX 1650 4GB/120Hz Refresh Display/Phantom Black/2.3Kg), 82AU00PNIN',\n",
       " 'Acer Nitro 5 AN515-57 Gaming Laptop | Intel Core i7-11800H |NVIDIA GeForce RTX 3050 Laptop Graphics |15.6\" FHD 144Hz IPS Display |8GB DDR4 | 256GB SSD+1TB HDD | Killer Wi-Fi 6 | RGB Backlit Keyboard',\n",
       " 'ASUS TUF Dash F15 (2021), 15.6-inch (39.62 cms) FHD 144Hz, Intel Core i7-11370H 11th Gen, RTX 3050 4GB Graphics Gaming Laptop (16GB RAM/512GB SSD/Windows 10/White/2 kg), FX516PC-HN062T',\n",
       " 'HP Envy Intel 11th Gen Core i7 Processor 13.3 inches FHD Touchscreen Gaming Laptop (16GB/1TB SSD/Windows 10/NVIDIA MX450 2GB/Natural Silver/1.3 kg), 13-ba1018TX']"
      ]
     },
     "execution_count": 8,
     "metadata": {},
     "output_type": "execute_result"
    }
   ],
   "source": [
    "title=driver.find_elements_by_xpath(\"//h2[@class='a-size-mini a-spacing-none a-color-base s-line-clamp-2']\")\n",
    "\n",
    "titles=[]\n",
    "for i in range(len(title)):\n",
    "    titles.append(title[i].text)\n",
    "titles    "
   ]
  },
  {
   "cell_type": "code",
   "execution_count": 17,
   "id": "13775714",
   "metadata": {},
   "outputs": [
    {
     "data": {
      "text/plain": [
       "30"
      ]
     },
     "execution_count": 17,
     "metadata": {},
     "output_type": "execute_result"
    }
   ],
   "source": [
    "len(titles)"
   ]
  },
  {
   "cell_type": "code",
   "execution_count": 9,
   "id": "d81b744e",
   "metadata": {},
   "outputs": [
    {
     "data": {
      "text/plain": [
       "['93,990',\n",
       " '99,057',\n",
       " '1,13,990',\n",
       " '85,990',\n",
       " '84,990',\n",
       " '56,990',\n",
       " '96,890',\n",
       " '43,999',\n",
       " '42,999',\n",
       " '40,999',\n",
       " '42,999',\n",
       " '44,999',\n",
       " '46,999',\n",
       " '41,999',\n",
       " '1,11,030',\n",
       " '47,999',\n",
       " '45,999',\n",
       " '45,999',\n",
       " '44,999',\n",
       " '46,999',\n",
       " '48,999',\n",
       " '85,990',\n",
       " '85,590',\n",
       " '87,999',\n",
       " '57,999',\n",
       " '91,990',\n",
       " '1,05,000',\n",
       " '89,999',\n",
       " '95,990',\n",
       " '1,24,000']"
      ]
     },
     "execution_count": 9,
     "metadata": {},
     "output_type": "execute_result"
    }
   ],
   "source": [
    "price=driver.find_elements_by_xpath(\"//span[@class='a-price-whole']\")\n",
    "\n",
    "prices=[]\n",
    "for i in range(len(price)):\n",
    "    prices.append(price[i].text)\n",
    "prices    "
   ]
  },
  {
   "cell_type": "code",
   "execution_count": 18,
   "id": "5b5b50eb",
   "metadata": {},
   "outputs": [
    {
     "data": {
      "text/plain": [
       "30"
      ]
     },
     "execution_count": 18,
     "metadata": {},
     "output_type": "execute_result"
    }
   ],
   "source": [
    "len(prices)"
   ]
  },
  {
   "cell_type": "code",
   "execution_count": 10,
   "id": "7748e368",
   "metadata": {},
   "outputs": [],
   "source": [
    "driver.find_element_by_xpath(\"/html/body/div[1]/header/div/div[1]/div[2]/div/form/div[3]/div/span/input\").click()"
   ]
  },
  {
   "cell_type": "code",
   "execution_count": 11,
   "id": "550f5a21",
   "metadata": {},
   "outputs": [],
   "source": [
    "driver.find_element_by_xpath(\"/html/body/div[1]/div[2]/div[1]/div[2]/div/div[3]/span/div[1]/span/div/div/div[5]/ul[1]/li[13]/span/a/span\").click()"
   ]
  },
  {
   "cell_type": "code",
   "execution_count": 12,
   "id": "c14f9d09",
   "metadata": {},
   "outputs": [
    {
     "data": {
      "text/plain": [
       "['ASUS TUF Gaming F15 (2021), 15.6-inch (39.62 cms) FHD 240Hz/3ms, Intel Core i9-11900H 11th Gen, RTX 3060 6GB Graphics Gaming Laptop (16GB/1TB SSD/Office 2019/Windows 10/Black/2.3 kg), FX506HM-AZ099TS',\n",
       " 'Lenovo Legion 7 10th Gen Intel Core i9 15.6 inch Full HD Gaming Laptop (16GB/1TB SSD/Windows 10/MS Office 2019/144 Hz/NVIDIA RTX 2080 8GB GDDR6 Graphics/Slate Grey/2.25Kg), 81YU006HIN',\n",
       " '(Renewed) Dell G7 7500 15.6inch FHD 300 Hz Display Gaming Laptop (10th Gen i9-10885H / 16 GB / 1TB SSD / NVIDIA RTX 2070 8GB Graphics / 1Yr Premium Warranty / Win 10 + MS Office H&S 2019) D560233WIN9B, Black',\n",
       " 'ASUS TUF Gaming F15 (2021), 15.6\" (39.62 cms) FHD 240Hz, Intel Core i9-11900H 11th Gen, GeForce RTX 3060 6GB Graphics, Gaming Laptop(16GB/1TB SSD/Office 2019/Windows 10/Gray/2.3 Kg), FX566HM-AZ096TS',\n",
       " 'HP ZBOOK Power G8/ Intel core i9-11900H 8 Core/32GB DDR4 3200 RAM/1TB PCIe NVMe TLC SSD /15.6” FHD /Nvidia Quadro T1200 Dedicated Graphics 4GB DDR6 /Windows 10 Pro / 3 Year Warranty']"
      ]
     },
     "execution_count": 12,
     "metadata": {},
     "output_type": "execute_result"
    }
   ],
   "source": [
    "title1=driver.find_elements_by_xpath(\"//h2[@class='a-size-mini a-spacing-none a-color-base s-line-clamp-2']\")\n",
    "\n",
    "titles1=[]\n",
    "for i in range(len(title1)):\n",
    "    titles1.append(title1[i].text)\n",
    "titles1 "
   ]
  },
  {
   "cell_type": "code",
   "execution_count": 19,
   "id": "1a06bb30",
   "metadata": {},
   "outputs": [
    {
     "data": {
      "text/plain": [
       "5"
      ]
     },
     "execution_count": 19,
     "metadata": {},
     "output_type": "execute_result"
    }
   ],
   "source": [
    "len(titles1)"
   ]
  },
  {
   "cell_type": "code",
   "execution_count": 29,
   "id": "77b12236",
   "metadata": {},
   "outputs": [
    {
     "data": {
      "text/plain": [
       "['1,50,895', '2,25,000', '1,52,990', '2,45,000']"
      ]
     },
     "execution_count": 29,
     "metadata": {},
     "output_type": "execute_result"
    }
   ],
   "source": [
    "price1=driver.find_elements_by_xpath(\"//span[@class='a-price-whole']\")\n",
    "\n",
    "prices1=[]\n",
    "for i in range(len(price1)):\n",
    "    prices1.append(price1[i].text)\n",
    "prices1\n",
    "prices1"
   ]
  },
  {
   "cell_type": "code",
   "execution_count": 30,
   "id": "ffceecdc",
   "metadata": {},
   "outputs": [
    {
     "data": {
      "text/plain": [
       "['1,50,895', 'N/A', '2,25,000', '1,52,990', '2,45,000']"
      ]
     },
     "execution_count": 30,
     "metadata": {},
     "output_type": "execute_result"
    }
   ],
   "source": [
    "prices1.insert(1,\"N/A\")\n",
    "prices1"
   ]
  },
  {
   "cell_type": "code",
   "execution_count": 31,
   "id": "94aa1449",
   "metadata": {},
   "outputs": [
    {
     "data": {
      "text/plain": [
       "['ASUS TUF Dash F15 (2021) 15.6-inch (39.62 cms) FHD 144Hz, Intel Core i7-11370H 11th Gen, RTX 3050 4GB Graphics, Gaming Laptop (16GB/512GB SSD/Windows 10/Gray/2 Kg), FX516PCZ-HN091T',\n",
       " 'ASUS ZenBook 13 OLED (2021) Intel Core i7-1165G7 11th Gen 14\" (35.56cms) FHD Thin and Light Laptop (16GB/512GB SSD/Windows 10/Office 2019/Intel Iris Xᵉ Graphics/Pine Grey/1.14 kg), UX325EA-KG722TS',\n",
       " 'ASUS TUF Gaming F17 (2021), 17.3-inch (43.94 cms) FHD 144Hz, Intel Core i7-11800H 11th Gen, GeForce RTX 3050 Ti 4GB Graphics, Gaming Laptop (16GB/1TB SSD/Windows 10/Eclipse Gray/2.6 Kg) FX766HE-HX022T',\n",
       " 'Acer Nitro 5 AN515-57 Gaming Laptop | Intel Core i7-11800H |NVIDIA GeForce RTX 3050 Ti Laptop Graphics |15.6\" FHD 144Hz IPS Display |16GB DDR4 |256GB SSD+1TB HDD |Killer Wi-Fi 6 |RGB Backlit Keyboard',\n",
       " 'HP Pavilion (2021) Intel 11th Gen Core i7 14 inches FHD Screen Thin & Light Laptop, 16 GB RAM, 1TB SSD, Iris Xe Graphics, Windows 10, MS Office, Backlit Keyboard, 1.41kg (14-dv0058TU)',\n",
       " 'Mi Notebook Horizon Edition 14 Intel Core i7-10510U 10th Gen Thin and Light Laptop(8GB/512GB SSD/Windows 10/Nvidia MX350 2GB Graphics/Grey/1.35Kg)(Without Webcam) XMA1904-AF',\n",
       " 'Dell 14 (2021) i7-1195G7 2in1 Touch Screen Laptop, 16GB, 512GB SSD, Win 10 + MS Office, 14.0\" (35.56 cms) FHD Display, Backlit KB, FPR + Active Pen, Platinum Silver (Inspiron 5410, D560596WIN9S)',\n",
       " '(Renewed) Lenovo Intel 5th Gen Core i7 14 Inch(35.56 cms) 1366 x 768 HD Laptop (12GB RAM/500GB HDD/Windows 10 Pro/MS Office/ Intel HD graphics,Black,2.0kg) Lenovo ThinkPad T450',\n",
       " '(Renewed) Lenovo Intel 5th Gen Core i7 14 Inch(35.56 cms) 1366 x 768 HD Laptop (8GB RAM/256GB SSD/Windows 10 Pro/MS Office/ Intel HD graphics,Black,2.0kg) Lenovo ThinkPad T450',\n",
       " '(Renewed) Lenovo Intel 5th Gen Core i7 14 Inch(35.56 cms) 1366 x 768 HD Laptop (4GB RAM/500GB HDD/Windows 10 Pro/MS Office/ Intel HD graphics,Black,2.0kg) Lenovo ThinkPad T450',\n",
       " '(Renewed) Lenovo Intel 5th Gen Core i7 14 Inch(35.56 cms) 1366 x 768 HD Laptop (8GB RAM/1TB HDD/Windows 10 Pro/MS Office/ Intel HD graphics,Black,2.0kg) Lenovo ThinkPad T450',\n",
       " '(Renewed) Lenovo Intel 5th Gen Core i7 14 Inch(35.56 cms) 1366 x 768 HD Laptop (12GB RAM /1TB HDD/Windows 10 Pro/MS Office/ Intel HD graphics,Black,2.0kg) Lenovo ThinkPad T450',\n",
       " '(Renewed) Lenovo Intel 5th Gen Core i7 14 Inch(35.56 cms) 1366 x 768 HD Laptop (16GB RAM/512GB SSD/Windows 10 Pro/MS Office/ Intel HD graphics,Black,2.0kg) Lenovo ThinkPad T450',\n",
       " '(Renewed) Lenovo Intel 5th Gen Core i7 14 Inch(35.56 cms) 1366 x 768 HD Laptop (8GB RAM/500GB HDD/Windows 10 Pro/MS Office/ Intel HD graphics,Black,2.0kg) Lenovo ThinkPad T450',\n",
       " 'Lenovo Legion 5 11th Gen Intel Core i7 15.6\"(39.62cm) FHD IPS Gaming Laptop (16GB/512GB SSD/NVIDIA RTX 3050 4GB/120Hz Refresh Rate/Windows 10/MS Office/Backlit Keyboard/Phantom Blue/2.4Kg), 82JK007WIN',\n",
       " '(Renewed) Lenovo Intel 5th Gen Core i7 14 Inch(35.56 cms) 1366 x 768 HD Laptop (12GB RAM /1TB SSD/Windows 10 Pro/MS Office/ Intel HD graphics,Black,2.0kg) Lenovo ThinkPad T450',\n",
       " '(Renewed) Lenovo Intel 5th Gen Core i7 14 Inch(35.56 cms) 1366 x 768 HD Laptop (12GB RAM /2TB HDD/Windows 10 Pro/MS Office/ Intel HD graphics,Black,2.0kg) Lenovo ThinkPad T450',\n",
       " '(Renewed) Lenovo Intel 5th Gen Core i7 14 Inch(35.56 cms) 1366 x 768 HD Laptop (16GB RAM /1TB HDD/Windows 10 Pro/MS Office/ Intel HD graphics,Black,2.0kg) Lenovo ThinkPad T450',\n",
       " '(Renewed) Lenovo Intel 5th Gen Core i7 14 Inch(35.56 cms) 1366 x 768 HD Laptop (16GB RAM/500GB HDD/Windows 10 Pro/MS Office/ Intel HD graphics,Black,2.0kg) Lenovo ThinkPad T450',\n",
       " '(Renewed) Lenovo Intel 5th Gen Core i7 14 Inch(35.56 cms) 1366 x 768 HD Laptop (16GB RAM /2TB HDD/Windows 10 Pro/MS Office/ Intel HD graphics,Black,2.0kg) Lenovo ThinkPad T450',\n",
       " '(Renewed) Lenovo Intel 5th Gen Core i7 14 Inch(35.56 cms) 1366 x 768 HD Laptop (16GB RAM /1TB SSD/Windows 10 Pro/MS Office/ Intel HD graphics,Black,2.0kg) Lenovo ThinkPad T450',\n",
       " 'Lenovo ThinkBook 15 Intel 11th Gen Core i7 15.6\"(39.62 cm)FHD IPS 300 nits Antiglare 100% sRGB Thin & Light Laptop(16GB/1TB HDD+128GB SSD/Windows 10/MS Office/3 Yr Onsite Warranty/1.7 Kg) 20VEA0HBIH',\n",
       " 'ASUS TUF Dash F15 15.6-inch FHD 144Hz, Intel Core i7-11370H 11th Gen RTX 3050 4GB Gaming Laptop (16GB RAM/512GB SSD/Win10/White/2 kg)+ Wireless Mouse + Microsoft 365 Personal 12-Month Subscription',\n",
       " 'LG Gram 14 Ultralight Intel Evo 11th Gen Core i7,16 GB RAM, 512 GB SSD, Win-10, Iris Xe Graphics, 14-inches (35.56 cms), Thunderbolt 4, USC -Cx2 (with Power), 999 Grams, 3 Yr Warranty (14Z90P, Black)',\n",
       " '(Renewed) Dell Intel Core i7 6th Gen 14-Inch(35.56 cms) 1366 x 768 HD Laptop (16GB RAM /1TB SSD/Windows 10 Pro/MS Office/ Intel HD Integrated Graphics/ 1.5Kg,Black) Latitude E5470',\n",
       " 'HP Pavilion 11th Gen Intel Core i7 15.6 inches FHD Gaming Laptop (16GB RAM/512GB SSD/144Hz/4GB NVIDIA GeForce GTX 1650 Graphics/Windows 10 Home/MS Office/Shadow Black/2.28 Kg), 15-dk2075tx',\n",
       " 'Lenovo Legion 5 10th Gen Intel Core i7-10750H 15.6\" (39.63cm) FHD IPS Gaming Laptop (16GB/512GB SSD/Windows 10/NVIDIA GTX 1650 4GB/120Hz Refresh Display/Phantom Black/2.3Kg), 82AU00PNIN',\n",
       " 'Acer Nitro 5 AN515-57 Gaming Laptop | Intel Core i7-11800H |NVIDIA GeForce RTX 3050 Laptop Graphics |15.6\" FHD 144Hz IPS Display |8GB DDR4 | 256GB SSD+1TB HDD | Killer Wi-Fi 6 | RGB Backlit Keyboard',\n",
       " 'ASUS TUF Dash F15 (2021), 15.6-inch (39.62 cms) FHD 144Hz, Intel Core i7-11370H 11th Gen, RTX 3050 4GB Graphics Gaming Laptop (16GB RAM/512GB SSD/Windows 10/White/2 kg), FX516PC-HN062T',\n",
       " 'HP Envy Intel 11th Gen Core i7 Processor 13.3 inches FHD Touchscreen Gaming Laptop (16GB/1TB SSD/Windows 10/NVIDIA MX450 2GB/Natural Silver/1.3 kg), 13-ba1018TX',\n",
       " 'ASUS TUF Gaming F15 (2021), 15.6-inch (39.62 cms) FHD 240Hz/3ms, Intel Core i9-11900H 11th Gen, RTX 3060 6GB Graphics Gaming Laptop (16GB/1TB SSD/Office 2019/Windows 10/Black/2.3 kg), FX506HM-AZ099TS',\n",
       " 'Lenovo Legion 7 10th Gen Intel Core i9 15.6 inch Full HD Gaming Laptop (16GB/1TB SSD/Windows 10/MS Office 2019/144 Hz/NVIDIA RTX 2080 8GB GDDR6 Graphics/Slate Grey/2.25Kg), 81YU006HIN',\n",
       " '(Renewed) Dell G7 7500 15.6inch FHD 300 Hz Display Gaming Laptop (10th Gen i9-10885H / 16 GB / 1TB SSD / NVIDIA RTX 2070 8GB Graphics / 1Yr Premium Warranty / Win 10 + MS Office H&S 2019) D560233WIN9B, Black',\n",
       " 'ASUS TUF Gaming F15 (2021), 15.6\" (39.62 cms) FHD 240Hz, Intel Core i9-11900H 11th Gen, GeForce RTX 3060 6GB Graphics, Gaming Laptop(16GB/1TB SSD/Office 2019/Windows 10/Gray/2.3 Kg), FX566HM-AZ096TS',\n",
       " 'HP ZBOOK Power G8/ Intel core i9-11900H 8 Core/32GB DDR4 3200 RAM/1TB PCIe NVMe TLC SSD /15.6” FHD /Nvidia Quadro T1200 Dedicated Graphics 4GB DDR6 /Windows 10 Pro / 3 Year Warranty']"
      ]
     },
     "execution_count": 31,
     "metadata": {},
     "output_type": "execute_result"
    }
   ],
   "source": [
    "finaltitle=titles+titles1\n",
    "finaltitle"
   ]
  },
  {
   "cell_type": "code",
   "execution_count": 32,
   "id": "7abe276b",
   "metadata": {},
   "outputs": [
    {
     "data": {
      "text/plain": [
       "['93,990',\n",
       " '99,057',\n",
       " '1,13,990',\n",
       " '85,990',\n",
       " '84,990',\n",
       " '56,990',\n",
       " '96,890',\n",
       " '43,999',\n",
       " '42,999',\n",
       " '40,999',\n",
       " '42,999',\n",
       " '44,999',\n",
       " '46,999',\n",
       " '41,999',\n",
       " '1,11,030',\n",
       " '47,999',\n",
       " '45,999',\n",
       " '45,999',\n",
       " '44,999',\n",
       " '46,999',\n",
       " '48,999',\n",
       " '85,990',\n",
       " '85,590',\n",
       " '87,999',\n",
       " '57,999',\n",
       " '91,990',\n",
       " '1,05,000',\n",
       " '89,999',\n",
       " '95,990',\n",
       " '1,24,000',\n",
       " '1,50,895',\n",
       " 'N/A',\n",
       " '2,25,000',\n",
       " '1,52,990',\n",
       " '2,45,000']"
      ]
     },
     "execution_count": 32,
     "metadata": {},
     "output_type": "execute_result"
    }
   ],
   "source": [
    "finalprice=prices+prices1\n",
    "finalprice"
   ]
  },
  {
   "cell_type": "code",
   "execution_count": 34,
   "id": "7ebe25dd",
   "metadata": {},
   "outputs": [
    {
     "data": {
      "text/html": [
       "<div>\n",
       "<style scoped>\n",
       "    .dataframe tbody tr th:only-of-type {\n",
       "        vertical-align: middle;\n",
       "    }\n",
       "\n",
       "    .dataframe tbody tr th {\n",
       "        vertical-align: top;\n",
       "    }\n",
       "\n",
       "    .dataframe thead th {\n",
       "        text-align: right;\n",
       "    }\n",
       "</style>\n",
       "<table border=\"1\" class=\"dataframe\">\n",
       "  <thead>\n",
       "    <tr style=\"text-align: right;\">\n",
       "      <th></th>\n",
       "      <th>Laptop</th>\n",
       "      <th>Price</th>\n",
       "    </tr>\n",
       "  </thead>\n",
       "  <tbody>\n",
       "    <tr>\n",
       "      <th>0</th>\n",
       "      <td>ASUS TUF Dash F15 (2021) 15.6-inch (39.62 cms)...</td>\n",
       "      <td>93,990</td>\n",
       "    </tr>\n",
       "    <tr>\n",
       "      <th>1</th>\n",
       "      <td>ASUS ZenBook 13 OLED (2021) Intel Core i7-1165...</td>\n",
       "      <td>99,057</td>\n",
       "    </tr>\n",
       "    <tr>\n",
       "      <th>2</th>\n",
       "      <td>ASUS TUF Gaming F17 (2021), 17.3-inch (43.94 c...</td>\n",
       "      <td>1,13,990</td>\n",
       "    </tr>\n",
       "    <tr>\n",
       "      <th>3</th>\n",
       "      <td>Acer Nitro 5 AN515-57 Gaming Laptop | Intel Co...</td>\n",
       "      <td>85,990</td>\n",
       "    </tr>\n",
       "    <tr>\n",
       "      <th>4</th>\n",
       "      <td>HP Pavilion (2021) Intel 11th Gen Core i7 14 i...</td>\n",
       "      <td>84,990</td>\n",
       "    </tr>\n",
       "    <tr>\n",
       "      <th>5</th>\n",
       "      <td>Mi Notebook Horizon Edition 14 Intel Core i7-1...</td>\n",
       "      <td>56,990</td>\n",
       "    </tr>\n",
       "    <tr>\n",
       "      <th>6</th>\n",
       "      <td>Dell 14 (2021) i7-1195G7 2in1 Touch Screen Lap...</td>\n",
       "      <td>96,890</td>\n",
       "    </tr>\n",
       "    <tr>\n",
       "      <th>7</th>\n",
       "      <td>(Renewed) Lenovo Intel 5th Gen Core i7 14 Inch...</td>\n",
       "      <td>43,999</td>\n",
       "    </tr>\n",
       "    <tr>\n",
       "      <th>8</th>\n",
       "      <td>(Renewed) Lenovo Intel 5th Gen Core i7 14 Inch...</td>\n",
       "      <td>42,999</td>\n",
       "    </tr>\n",
       "    <tr>\n",
       "      <th>9</th>\n",
       "      <td>(Renewed) Lenovo Intel 5th Gen Core i7 14 Inch...</td>\n",
       "      <td>40,999</td>\n",
       "    </tr>\n",
       "  </tbody>\n",
       "</table>\n",
       "</div>"
      ],
      "text/plain": [
       "                                              Laptop     Price\n",
       "0  ASUS TUF Dash F15 (2021) 15.6-inch (39.62 cms)...    93,990\n",
       "1  ASUS ZenBook 13 OLED (2021) Intel Core i7-1165...    99,057\n",
       "2  ASUS TUF Gaming F17 (2021), 17.3-inch (43.94 c...  1,13,990\n",
       "3  Acer Nitro 5 AN515-57 Gaming Laptop | Intel Co...    85,990\n",
       "4  HP Pavilion (2021) Intel 11th Gen Core i7 14 i...    84,990\n",
       "5  Mi Notebook Horizon Edition 14 Intel Core i7-1...    56,990\n",
       "6  Dell 14 (2021) i7-1195G7 2in1 Touch Screen Lap...    96,890\n",
       "7  (Renewed) Lenovo Intel 5th Gen Core i7 14 Inch...    43,999\n",
       "8  (Renewed) Lenovo Intel 5th Gen Core i7 14 Inch...    42,999\n",
       "9  (Renewed) Lenovo Intel 5th Gen Core i7 14 Inch...    40,999"
      ]
     },
     "execution_count": 34,
     "metadata": {},
     "output_type": "execute_result"
    }
   ],
   "source": [
    "data=pd.DataFrame({\"Laptop\":finaltitle,\"Price\":finalprice})\n",
    "data[0:10]"
   ]
  },
  {
   "cell_type": "markdown",
   "id": "3d65e7ba",
   "metadata": {},
   "source": [
    "# Ans-9 Write a python program to scrape data for first 10 job results for Data Scientist Designation in Noida location.\n",
    " You have to scrape company name, No. of days ago when job was posted, Rating of the company."
   ]
  },
  {
   "cell_type": "code",
   "execution_count": 48,
   "id": "05c61167",
   "metadata": {},
   "outputs": [],
   "source": [
    "from selenium import webdriver\n",
    "from webdriver_manager.chrome import ChromeDriverManager\n",
    "import pandas as pd\n",
    "import warnings\n",
    "warnings.filterwarnings(\"ignore\")"
   ]
  },
  {
   "cell_type": "code",
   "execution_count": 49,
   "id": "b814ddcc",
   "metadata": {},
   "outputs": [],
   "source": [
    "path=\"C:\\Program Files (x86)\\Google\\Chrome\\Application\\chrome.exe\""
   ]
  },
  {
   "cell_type": "code",
   "execution_count": 50,
   "id": "4d9b9bf3",
   "metadata": {},
   "outputs": [
    {
     "name": "stderr",
     "output_type": "stream",
     "text": [
      "\n",
      "\n",
      "====== WebDriver manager ======\n",
      "Current google-chrome version is 95.0.4638\n",
      "Get LATEST chromedriver version for 95.0.4638 google-chrome\n",
      "Driver [C:\\Users\\Akash Manral\\.wdm\\drivers\\chromedriver\\win32\\95.0.4638.69\\chromedriver.exe] found in cache\n"
     ]
    }
   ],
   "source": [
    "driver=webdriver.Chrome(ChromeDriverManager().install())"
   ]
  },
  {
   "cell_type": "code",
   "execution_count": 51,
   "id": "571e77d8",
   "metadata": {},
   "outputs": [],
   "source": [
    "driver.get(\"https://www.ambitionbox.com/\")"
   ]
  },
  {
   "cell_type": "code",
   "execution_count": 52,
   "id": "0a5138a5",
   "metadata": {},
   "outputs": [],
   "source": [
    "driver.find_element_by_xpath(\"/html/body/div[1]/nav/nav/a[6]\").click()"
   ]
  },
  {
   "cell_type": "code",
   "execution_count": 53,
   "id": "ee30e4ff",
   "metadata": {},
   "outputs": [],
   "source": [
    "driver.find_element_by_xpath(\"/html/body/div/div/div/div[2]/div[1]/div/div/div/div/span/input\").send_keys(\"Data Scientist\")"
   ]
  },
  {
   "cell_type": "code",
   "execution_count": 54,
   "id": "98d7beff",
   "metadata": {},
   "outputs": [],
   "source": [
    "driver.find_element_by_xpath(\"/html/body/div/div/div/div[2]/div[1]/div/div/div/button/span\").click()"
   ]
  },
  {
   "cell_type": "code",
   "execution_count": 57,
   "id": "e8004a3c",
   "metadata": {},
   "outputs": [],
   "source": [
    "driver.find_element_by_xpath(\"/html/body/div/div/div/div[2]/div[2]/div[1]/div/div/div/div[2]\").click()"
   ]
  },
  {
   "cell_type": "code",
   "execution_count": 58,
   "id": "bde83fb1",
   "metadata": {},
   "outputs": [],
   "source": [
    "driver.find_element_by_xpath(\"/html/body/div/div/div/div[2]/div[2]/div[1]/div/div/div/div[2]/div[2]/div/div[2]/input\").send_keys(\"Noida\")"
   ]
  },
  {
   "cell_type": "code",
   "execution_count": 61,
   "id": "41d58941",
   "metadata": {},
   "outputs": [],
   "source": [
    "driver.find_element_by_xpath(\"/html/body/div/div/div/div[2]/div[2]/div[1]/div/div/div/div[2]/div[2]/div/div[3]/div[1]/div[1]/div/label\").click()"
   ]
  },
  {
   "cell_type": "code",
   "execution_count": 62,
   "id": "a2cffcfd",
   "metadata": {},
   "outputs": [
    {
     "data": {
      "text/plain": [
       "['Optum Global Solutions (India) Private Limited',\n",
       " 'Steria India Ltd',\n",
       " 'Ameriprise Financial',\n",
       " 'Jubilant Foodworks Limited',\n",
       " 'Optum Global Solutions (India) Private Limited',\n",
       " 'Steria India Ltd',\n",
       " 'Steria India Ltd',\n",
       " 'HCL Technologies Limited',\n",
       " 'Zyoin',\n",
       " 'GI Group']"
      ]
     },
     "execution_count": 62,
     "metadata": {},
     "output_type": "execute_result"
    }
   ],
   "source": [
    "job=driver.find_elements_by_xpath(\"//p[@class='company body-medium']\")\n",
    "\n",
    "jobs=[]\n",
    "for i in range(len(job)):\n",
    "    jobs.append(job[i].text)\n",
    "jobs"
   ]
  },
  {
   "cell_type": "code",
   "execution_count": 63,
   "id": "8fa3a955",
   "metadata": {},
   "outputs": [
    {
     "data": {
      "text/plain": [
       "['4.1', '4.1', '4.1', '3.9', '4.1', '4.1', '4.1', '3.8', '4.2', '3.9']"
      ]
     },
     "execution_count": 63,
     "metadata": {},
     "output_type": "execute_result"
    }
   ],
   "source": [
    "rating=driver.find_elements_by_xpath(\"//span[@class='body-small']\")\n",
    "\n",
    "ratings=[]\n",
    "for i in range(len(rating)):\n",
    "    ratings.append(rating[i].text)\n",
    "ratings"
   ]
  },
  {
   "cell_type": "code",
   "execution_count": 64,
   "id": "6e659737",
   "metadata": {},
   "outputs": [
    {
     "data": {
      "text/plain": [
       "['11d ago',\n",
       " 'via naukri.com',\n",
       " '4d ago',\n",
       " 'via naukri.com',\n",
       " '6d ago',\n",
       " 'via naukri.com',\n",
       " '3d ago',\n",
       " 'via hirist.com',\n",
       " '1mon ago',\n",
       " 'via naukri.com',\n",
       " '23d ago',\n",
       " 'via naukri.com',\n",
       " '23d ago',\n",
       " 'via naukri.com',\n",
       " '1mon ago',\n",
       " 'via naukri.com',\n",
       " '5d ago',\n",
       " 'via hirist.com',\n",
       " '3d ago',\n",
       " 'via iimjobs.com']"
      ]
     },
     "execution_count": 64,
     "metadata": {},
     "output_type": "execute_result"
    }
   ],
   "source": [
    "day=driver.find_elements_by_xpath(\"//span[@class='body-small-l']\")\n",
    "\n",
    "days=[]\n",
    "for i in range(len(day)):\n",
    "    days.append(day[i].text)\n",
    "days"
   ]
  },
  {
   "cell_type": "code",
   "execution_count": 67,
   "id": "bcbe497d",
   "metadata": {},
   "outputs": [
    {
     "data": {
      "text/plain": [
       "['11d ago',\n",
       " '4d ago',\n",
       " '6d ago',\n",
       " '3d ago',\n",
       " '1mon ago',\n",
       " '23d ago',\n",
       " '23d ago',\n",
       " '1mon ago',\n",
       " '5d ago',\n",
       " '3d ago']"
      ]
     },
     "execution_count": 67,
     "metadata": {},
     "output_type": "execute_result"
    }
   ],
   "source": [
    "newday=days[0::2]\n",
    "newday"
   ]
  },
  {
   "cell_type": "code",
   "execution_count": 68,
   "id": "f2edf7a0",
   "metadata": {},
   "outputs": [
    {
     "data": {
      "text/html": [
       "<div>\n",
       "<style scoped>\n",
       "    .dataframe tbody tr th:only-of-type {\n",
       "        vertical-align: middle;\n",
       "    }\n",
       "\n",
       "    .dataframe tbody tr th {\n",
       "        vertical-align: top;\n",
       "    }\n",
       "\n",
       "    .dataframe thead th {\n",
       "        text-align: right;\n",
       "    }\n",
       "</style>\n",
       "<table border=\"1\" class=\"dataframe\">\n",
       "  <thead>\n",
       "    <tr style=\"text-align: right;\">\n",
       "      <th></th>\n",
       "      <th>Company</th>\n",
       "      <th>Rating</th>\n",
       "      <th>Time</th>\n",
       "    </tr>\n",
       "  </thead>\n",
       "  <tbody>\n",
       "    <tr>\n",
       "      <th>0</th>\n",
       "      <td>Optum Global Solutions (India) Private Limited</td>\n",
       "      <td>4.1</td>\n",
       "      <td>11d ago</td>\n",
       "    </tr>\n",
       "    <tr>\n",
       "      <th>1</th>\n",
       "      <td>Steria India Ltd</td>\n",
       "      <td>4.1</td>\n",
       "      <td>4d ago</td>\n",
       "    </tr>\n",
       "    <tr>\n",
       "      <th>2</th>\n",
       "      <td>Ameriprise Financial</td>\n",
       "      <td>4.1</td>\n",
       "      <td>6d ago</td>\n",
       "    </tr>\n",
       "    <tr>\n",
       "      <th>3</th>\n",
       "      <td>Jubilant Foodworks Limited</td>\n",
       "      <td>3.9</td>\n",
       "      <td>3d ago</td>\n",
       "    </tr>\n",
       "    <tr>\n",
       "      <th>4</th>\n",
       "      <td>Optum Global Solutions (India) Private Limited</td>\n",
       "      <td>4.1</td>\n",
       "      <td>1mon ago</td>\n",
       "    </tr>\n",
       "    <tr>\n",
       "      <th>5</th>\n",
       "      <td>Steria India Ltd</td>\n",
       "      <td>4.1</td>\n",
       "      <td>23d ago</td>\n",
       "    </tr>\n",
       "    <tr>\n",
       "      <th>6</th>\n",
       "      <td>Steria India Ltd</td>\n",
       "      <td>4.1</td>\n",
       "      <td>23d ago</td>\n",
       "    </tr>\n",
       "    <tr>\n",
       "      <th>7</th>\n",
       "      <td>HCL Technologies Limited</td>\n",
       "      <td>3.8</td>\n",
       "      <td>1mon ago</td>\n",
       "    </tr>\n",
       "    <tr>\n",
       "      <th>8</th>\n",
       "      <td>Zyoin</td>\n",
       "      <td>4.2</td>\n",
       "      <td>5d ago</td>\n",
       "    </tr>\n",
       "    <tr>\n",
       "      <th>9</th>\n",
       "      <td>GI Group</td>\n",
       "      <td>3.9</td>\n",
       "      <td>3d ago</td>\n",
       "    </tr>\n",
       "  </tbody>\n",
       "</table>\n",
       "</div>"
      ],
      "text/plain": [
       "                                          Company Rating      Time\n",
       "0  Optum Global Solutions (India) Private Limited    4.1   11d ago\n",
       "1                                Steria India Ltd    4.1    4d ago\n",
       "2                            Ameriprise Financial    4.1    6d ago\n",
       "3                      Jubilant Foodworks Limited    3.9    3d ago\n",
       "4  Optum Global Solutions (India) Private Limited    4.1  1mon ago\n",
       "5                                Steria India Ltd    4.1   23d ago\n",
       "6                                Steria India Ltd    4.1   23d ago\n",
       "7                        HCL Technologies Limited    3.8  1mon ago\n",
       "8                                           Zyoin    4.2    5d ago\n",
       "9                                        GI Group    3.9    3d ago"
      ]
     },
     "execution_count": 68,
     "metadata": {},
     "output_type": "execute_result"
    }
   ],
   "source": [
    "data=pd.DataFrame({\"Company\":jobs,\"Rating\":ratings,\"Time\":newday})\n",
    "data"
   ]
  },
  {
   "cell_type": "markdown",
   "id": "f8424ed0",
   "metadata": {},
   "source": [
    "# Ans 10- : Write a python program to scrape the salary data for Data Scientist designation. \n",
    "You have to scrape Company name, Number of salaries, Average salary, Min salary, Max Salary."
   ]
  },
  {
   "cell_type": "code",
   "execution_count": 69,
   "id": "6ed09ced",
   "metadata": {},
   "outputs": [],
   "source": [
    "from selenium import webdriver\n",
    "from webdriver_manager.chrome import ChromeDriverManager\n",
    "import pandas as pd\n",
    "import warnings\n",
    "warnings.filterwarnings(\"ignore\")"
   ]
  },
  {
   "cell_type": "code",
   "execution_count": 70,
   "id": "42ef5ec5",
   "metadata": {},
   "outputs": [],
   "source": [
    "path=\"C:\\Program Files (x86)\\Google\\Chrome\\Application\\chrome.exe\""
   ]
  },
  {
   "cell_type": "code",
   "execution_count": 71,
   "id": "e5d4ffb0",
   "metadata": {},
   "outputs": [
    {
     "name": "stderr",
     "output_type": "stream",
     "text": [
      "\n",
      "\n",
      "====== WebDriver manager ======\n",
      "Current google-chrome version is 95.0.4638\n",
      "Get LATEST chromedriver version for 95.0.4638 google-chrome\n",
      "Driver [C:\\Users\\Akash Manral\\.wdm\\drivers\\chromedriver\\win32\\95.0.4638.69\\chromedriver.exe] found in cache\n"
     ]
    }
   ],
   "source": [
    "driver=webdriver.Chrome(ChromeDriverManager().install())"
   ]
  },
  {
   "cell_type": "code",
   "execution_count": 72,
   "id": "70f7f29f",
   "metadata": {},
   "outputs": [],
   "source": [
    "driver.get(\"https://www.ambitionbox.com/\")"
   ]
  },
  {
   "cell_type": "code",
   "execution_count": 73,
   "id": "983c8473",
   "metadata": {},
   "outputs": [],
   "source": [
    "driver.find_element_by_xpath(\"/html/body/div[1]/nav/nav/a[4]\").click()"
   ]
  },
  {
   "cell_type": "code",
   "execution_count": 74,
   "id": "cf3253ac",
   "metadata": {},
   "outputs": [],
   "source": [
    "driver.find_element_by_xpath(\"/html/body/div/div/div/div[2]/div/div/div/div[1]/span/input\").send_keys(\"Data Scientist\")"
   ]
  },
  {
   "cell_type": "code",
   "execution_count": 76,
   "id": "ade1149d",
   "metadata": {},
   "outputs": [],
   "source": [
    "driver.find_element_by_xpath(\"/html/body/div/div/div/div[2]/div/div/div/button/span\").click()"
   ]
  },
  {
   "cell_type": "code",
   "execution_count": 78,
   "id": "7f1a7dac",
   "metadata": {},
   "outputs": [
    {
     "data": {
      "text/plain": [
       "['TCS',\n",
       " 'Accenture',\n",
       " 'IBM',\n",
       " 'Cognizant',\n",
       " 'Capgemini',\n",
       " 'Tech Mahindra',\n",
       " 'Infosys',\n",
       " 'Wipro',\n",
       " 'Ericsson',\n",
       " 'HCL Technologies']"
      ]
     },
     "execution_count": 78,
     "metadata": {},
     "output_type": "execute_result"
    }
   ],
   "source": [
    "company=driver.find_elements_by_xpath(\"//div[@class='name']\")\n",
    "\n",
    "companies=[]\n",
    "for i in range(len(company)):\n",
    "    companies.append(company[i].text.split(\"\\n\")[0])\n",
    "companies"
   ]
  },
  {
   "cell_type": "code",
   "execution_count": 79,
   "id": "65491bb0",
   "metadata": {},
   "outputs": [
    {
     "data": {
      "text/plain": [
       "['(593 Salaries)',\n",
       " '(356 Salaries)',\n",
       " '(289 Salaries)',\n",
       " '(233 Salaries)',\n",
       " '(220 Salaries)',\n",
       " '(182 Salaries)',\n",
       " '(166 Salaries)',\n",
       " '(164 Salaries)',\n",
       " '(123 Salaries)',\n",
       " '(116 Salaries)']"
      ]
     },
     "execution_count": 79,
     "metadata": {},
     "output_type": "execute_result"
    }
   ],
   "source": [
    "salaryrecord=driver.find_elements_by_xpath(\"//div[@class='name']\")\n",
    "\n",
    "salaryrecords=[]\n",
    "for i in range(len(salaryrecord)):\n",
    "    salaryrecords.append(salaryrecord[i].text.split(\"\\n\")[1])\n",
    "salaryrecords"
   ]
  },
  {
   "cell_type": "code",
   "execution_count": 82,
   "id": "d3bae82a",
   "metadata": {},
   "outputs": [
    {
     "data": {
      "text/plain": [
       "['₹ 4.4L',\n",
       " '₹ 5.4L',\n",
       " '₹ 5.0L',\n",
       " '₹ 4.9L',\n",
       " '₹ 4.6L',\n",
       " '₹ 4.2L',\n",
       " '₹ 4.5L',\n",
       " '₹ 4.3L',\n",
       " '₹ 5.0L',\n",
       " '₹ 4.5L']"
      ]
     },
     "execution_count": 82,
     "metadata": {},
     "output_type": "execute_result"
    }
   ],
   "source": [
    "salarymin=driver.find_elements_by_xpath(\"//div[@class='result-col salary-range']\")\n",
    "\n",
    "salarymins=[]\n",
    "for i in range(len(salarymin)):\n",
    "    salarymins.append(salarymin[i].text.split(\"\\n\")[1])\n",
    "salarymins"
   ]
  },
  {
   "cell_type": "code",
   "execution_count": 84,
   "id": "017e9fbd",
   "metadata": {},
   "outputs": [
    {
     "data": {
      "text/plain": [
       "['₹ 15.0L',\n",
       " '₹ 22.0L',\n",
       " '₹ 22.5L',\n",
       " '₹ 17.0L',\n",
       " '₹ 14.3L',\n",
       " '₹ 16.4L',\n",
       " '₹ 25.0L',\n",
       " '₹ 18.0L',\n",
       " '₹ 25.0L',\n",
       " '₹ 19.0L']"
      ]
     },
     "execution_count": 84,
     "metadata": {},
     "output_type": "execute_result"
    }
   ],
   "source": [
    "salarymax=driver.find_elements_by_xpath(\"//div[@class='result-col salary-range']\")\n",
    "\n",
    "salarymaxs=[]\n",
    "for i in range(len(salarymax)):\n",
    "    salarymaxs.append(salarymax[i].text.split(\"\\n\")[2])\n",
    "salarymaxs"
   ]
  },
  {
   "cell_type": "code",
   "execution_count": 85,
   "id": "9f12dfa9",
   "metadata": {},
   "outputs": [
    {
     "data": {
      "text/plain": [
       "['₹ 7.3L',\n",
       " '₹ 11.7L',\n",
       " '₹ 11.6L',\n",
       " '₹ 9.4L',\n",
       " '₹ 8.2L',\n",
       " '₹ 7.7L',\n",
       " '₹ 8.7L',\n",
       " '₹ 9.2L',\n",
       " '₹ 12.9L',\n",
       " '₹ 9.0L']"
      ]
     },
     "execution_count": 85,
     "metadata": {},
     "output_type": "execute_result"
    }
   ],
   "source": [
    "salaryavg=driver.find_elements_by_xpath(\"//div[@class='result-col salary-range']\")\n",
    "\n",
    "salaryavgs=[]\n",
    "for i in range(len(salaryavg)):\n",
    "    salaryavgs.append(salaryavg[i].text.split(\"\\n\")[0])\n",
    "salaryavgs"
   ]
  },
  {
   "cell_type": "code",
   "execution_count": 86,
   "id": "c38f63c8",
   "metadata": {},
   "outputs": [
    {
     "data": {
      "text/plain": [
       "['2-9 yrs exp',\n",
       " '2-9 yrs exp',\n",
       " '2-12 yrs exp',\n",
       " '2-11 yrs exp',\n",
       " '2-8 yrs exp',\n",
       " '2-13 yrs exp',\n",
       " '2-8 yrs exp',\n",
       " '2-9 yrs exp',\n",
       " '2-12 yrs exp',\n",
       " '2-10 yrs exp']"
      ]
     },
     "execution_count": 86,
     "metadata": {},
     "output_type": "execute_result"
    }
   ],
   "source": [
    "exp=driver.find_elements_by_xpath(\"//div[@class='salaries one-line sbold-list-header']\")\n",
    "\n",
    "exps=[]\n",
    "for i in range(len(exp)):\n",
    "    exps.append(exp[i].text.split(\"\\n\")[0])\n",
    "exps"
   ]
  },
  {
   "cell_type": "code",
   "execution_count": 87,
   "id": "9e6cef42",
   "metadata": {},
   "outputs": [
    {
     "data": {
      "text/html": [
       "<div>\n",
       "<style scoped>\n",
       "    .dataframe tbody tr th:only-of-type {\n",
       "        vertical-align: middle;\n",
       "    }\n",
       "\n",
       "    .dataframe tbody tr th {\n",
       "        vertical-align: top;\n",
       "    }\n",
       "\n",
       "    .dataframe thead th {\n",
       "        text-align: right;\n",
       "    }\n",
       "</style>\n",
       "<table border=\"1\" class=\"dataframe\">\n",
       "  <thead>\n",
       "    <tr style=\"text-align: right;\">\n",
       "      <th></th>\n",
       "      <th>Company</th>\n",
       "      <th>Salary Record</th>\n",
       "      <th>Min Salary</th>\n",
       "      <th>Max Salary</th>\n",
       "      <th>Avg Salary</th>\n",
       "      <th>Experience Required</th>\n",
       "    </tr>\n",
       "  </thead>\n",
       "  <tbody>\n",
       "    <tr>\n",
       "      <th>0</th>\n",
       "      <td>TCS</td>\n",
       "      <td>(593 Salaries)</td>\n",
       "      <td>₹ 4.4L</td>\n",
       "      <td>₹ 15.0L</td>\n",
       "      <td>₹ 7.3L</td>\n",
       "      <td>2-9 yrs exp</td>\n",
       "    </tr>\n",
       "    <tr>\n",
       "      <th>1</th>\n",
       "      <td>Accenture</td>\n",
       "      <td>(356 Salaries)</td>\n",
       "      <td>₹ 5.4L</td>\n",
       "      <td>₹ 22.0L</td>\n",
       "      <td>₹ 11.7L</td>\n",
       "      <td>2-9 yrs exp</td>\n",
       "    </tr>\n",
       "    <tr>\n",
       "      <th>2</th>\n",
       "      <td>IBM</td>\n",
       "      <td>(289 Salaries)</td>\n",
       "      <td>₹ 5.0L</td>\n",
       "      <td>₹ 22.5L</td>\n",
       "      <td>₹ 11.6L</td>\n",
       "      <td>2-12 yrs exp</td>\n",
       "    </tr>\n",
       "    <tr>\n",
       "      <th>3</th>\n",
       "      <td>Cognizant</td>\n",
       "      <td>(233 Salaries)</td>\n",
       "      <td>₹ 4.9L</td>\n",
       "      <td>₹ 17.0L</td>\n",
       "      <td>₹ 9.4L</td>\n",
       "      <td>2-11 yrs exp</td>\n",
       "    </tr>\n",
       "    <tr>\n",
       "      <th>4</th>\n",
       "      <td>Capgemini</td>\n",
       "      <td>(220 Salaries)</td>\n",
       "      <td>₹ 4.6L</td>\n",
       "      <td>₹ 14.3L</td>\n",
       "      <td>₹ 8.2L</td>\n",
       "      <td>2-8 yrs exp</td>\n",
       "    </tr>\n",
       "    <tr>\n",
       "      <th>5</th>\n",
       "      <td>Tech Mahindra</td>\n",
       "      <td>(182 Salaries)</td>\n",
       "      <td>₹ 4.2L</td>\n",
       "      <td>₹ 16.4L</td>\n",
       "      <td>₹ 7.7L</td>\n",
       "      <td>2-13 yrs exp</td>\n",
       "    </tr>\n",
       "    <tr>\n",
       "      <th>6</th>\n",
       "      <td>Infosys</td>\n",
       "      <td>(166 Salaries)</td>\n",
       "      <td>₹ 4.5L</td>\n",
       "      <td>₹ 25.0L</td>\n",
       "      <td>₹ 8.7L</td>\n",
       "      <td>2-8 yrs exp</td>\n",
       "    </tr>\n",
       "    <tr>\n",
       "      <th>7</th>\n",
       "      <td>Wipro</td>\n",
       "      <td>(164 Salaries)</td>\n",
       "      <td>₹ 4.3L</td>\n",
       "      <td>₹ 18.0L</td>\n",
       "      <td>₹ 9.2L</td>\n",
       "      <td>2-9 yrs exp</td>\n",
       "    </tr>\n",
       "    <tr>\n",
       "      <th>8</th>\n",
       "      <td>Ericsson</td>\n",
       "      <td>(123 Salaries)</td>\n",
       "      <td>₹ 5.0L</td>\n",
       "      <td>₹ 25.0L</td>\n",
       "      <td>₹ 12.9L</td>\n",
       "      <td>2-12 yrs exp</td>\n",
       "    </tr>\n",
       "    <tr>\n",
       "      <th>9</th>\n",
       "      <td>HCL Technologies</td>\n",
       "      <td>(116 Salaries)</td>\n",
       "      <td>₹ 4.5L</td>\n",
       "      <td>₹ 19.0L</td>\n",
       "      <td>₹ 9.0L</td>\n",
       "      <td>2-10 yrs exp</td>\n",
       "    </tr>\n",
       "  </tbody>\n",
       "</table>\n",
       "</div>"
      ],
      "text/plain": [
       "            Company   Salary Record Min Salary Max Salary Avg Salary  \\\n",
       "0               TCS  (593 Salaries)     ₹ 4.4L    ₹ 15.0L     ₹ 7.3L   \n",
       "1         Accenture  (356 Salaries)     ₹ 5.4L    ₹ 22.0L    ₹ 11.7L   \n",
       "2               IBM  (289 Salaries)     ₹ 5.0L    ₹ 22.5L    ₹ 11.6L   \n",
       "3         Cognizant  (233 Salaries)     ₹ 4.9L    ₹ 17.0L     ₹ 9.4L   \n",
       "4         Capgemini  (220 Salaries)     ₹ 4.6L    ₹ 14.3L     ₹ 8.2L   \n",
       "5     Tech Mahindra  (182 Salaries)     ₹ 4.2L    ₹ 16.4L     ₹ 7.7L   \n",
       "6           Infosys  (166 Salaries)     ₹ 4.5L    ₹ 25.0L     ₹ 8.7L   \n",
       "7             Wipro  (164 Salaries)     ₹ 4.3L    ₹ 18.0L     ₹ 9.2L   \n",
       "8          Ericsson  (123 Salaries)     ₹ 5.0L    ₹ 25.0L    ₹ 12.9L   \n",
       "9  HCL Technologies  (116 Salaries)     ₹ 4.5L    ₹ 19.0L     ₹ 9.0L   \n",
       "\n",
       "  Experience Required  \n",
       "0         2-9 yrs exp  \n",
       "1         2-9 yrs exp  \n",
       "2        2-12 yrs exp  \n",
       "3        2-11 yrs exp  \n",
       "4         2-8 yrs exp  \n",
       "5        2-13 yrs exp  \n",
       "6         2-8 yrs exp  \n",
       "7         2-9 yrs exp  \n",
       "8        2-12 yrs exp  \n",
       "9        2-10 yrs exp  "
      ]
     },
     "execution_count": 87,
     "metadata": {},
     "output_type": "execute_result"
    }
   ],
   "source": [
    "data=pd.DataFrame({\"Company\":companies,\"Salary Record\":salaryrecords,\"Min Salary\":salarymins,\"Max Salary\":salarymaxs,\"Avg Salary\":salaryavgs,\"Experience Required\":exps})\n",
    "data"
   ]
  },
  {
   "cell_type": "code",
   "execution_count": null,
   "id": "6d527386",
   "metadata": {},
   "outputs": [],
   "source": []
  }
 ],
 "metadata": {
  "kernelspec": {
   "display_name": "Python 3",
   "language": "python",
   "name": "python3"
  },
  "language_info": {
   "codemirror_mode": {
    "name": "ipython",
    "version": 3
   },
   "file_extension": ".py",
   "mimetype": "text/x-python",
   "name": "python",
   "nbconvert_exporter": "python",
   "pygments_lexer": "ipython3",
   "version": "3.8.8"
  }
 },
 "nbformat": 4,
 "nbformat_minor": 5
}
