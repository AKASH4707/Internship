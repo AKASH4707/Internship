{
 "cells": [
  {
   "cell_type": "code",
   "execution_count": 1,
   "id": "7023bfd7",
   "metadata": {},
   "outputs": [],
   "source": [
    "from selenium import webdriver\n",
    "from webdriver_manager.chrome import ChromeDriverManager\n",
    "import pandas as pd\n",
    "import warnings\n",
    "from selenium.webdriver.support.select import Select\n",
    "warnings.filterwarnings('ignore')"
   ]
  },
  {
   "cell_type": "code",
   "execution_count": 2,
   "id": "bd1a211a",
   "metadata": {},
   "outputs": [],
   "source": [
    "path= \"C:\\Program Files (x86)\\Google\\Chrome\\Application\\chrome.exe\"\n",
    "\n",
    "from selenium.webdriver.chrome.service import Service\n",
    "s=Service(\"C:\\Program Files (x86)\\Google\\Chrome\\Application\\chrome.exe\")\n",
    "rating=driver.find_element_by_xpath(\"//i[@data-hook='review-star-rating']\")\n"
   ]
  },
  {
   "cell_type": "code",
   "execution_count": 21,
   "id": "3a4a7361",
   "metadata": {},
   "outputs": [
    {
     "name": "stderr",
     "output_type": "stream",
     "text": [
      "\n",
      "\n",
      "====== WebDriver manager ======\n",
      "Current google-chrome version is 98.0.4758\n",
      "Get LATEST chromedriver version for 98.0.4758 google-chrome\n",
      "Driver [C:\\Users\\Akash Manral\\.wdm\\drivers\\chromedriver\\win32\\98.0.4758.102\\chromedriver.exe] found in cache\n"
     ]
    }
   ],
   "source": [
    "driver  = webdriver.Chrome(ChromeDriverManager().install())"
   ]
  },
  {
   "cell_type": "code",
   "execution_count": 22,
   "id": "6db12671",
   "metadata": {},
   "outputs": [],
   "source": [
    "driver.get(\"https://www.flipkart.com/apple-iphone-11-black-64-gb-includes-earpods-power-adapter/product-reviews/itm0f37c2240b217?pid=MOBFKCTSVZAXUHGR&lid=LSTMOBFKCTSVZAXUHGREPBFGI&marketplace=FLIPKART\")"
   ]
  },
  {
   "cell_type": "code",
   "execution_count": 70,
   "id": "69940d23",
   "metadata": {
    "scrolled": true
   },
   "outputs": [],
   "source": [
    "reviews=[]\n",
    "ratings=[]\n",
    "\n",
    "start=0\n",
    "end=500\n",
    "\n",
    "for page in range(start,end):\n",
    "    review=driver.find_elements_by_xpath(\"//div[@class='col _2wzgFH K0kLPL']\")\n",
    "    for r in review:\n",
    "        reviews.append(r.text.split('\\n')[1])\n",
    "    rating=driver.find_elements_by_xpath(\"//div[@class='col _2wzgFH K0kLPL']\")\n",
    "    for ra in rating:\n",
    "        ratings.append(ra.text.split('\\n')[0])\n",
    "    \n",
    "    nxt_button=driver.find_elements_by_xpath(\"//a[@class='_1LKTO3']\")#scraping the list of buttons from the page\n",
    "         "
   ]
  },
  {
   "cell_type": "code",
   "execution_count": 71,
   "id": "b9cf1d90",
   "metadata": {},
   "outputs": [
    {
     "data": {
      "text/plain": [
       "(5000, 6730)"
      ]
     },
     "execution_count": 71,
     "metadata": {},
     "output_type": "execute_result"
    }
   ],
   "source": [
    "len(reviews), len(ratings)"
   ]
  },
  {
   "cell_type": "code",
   "execution_count": 72,
   "id": "71853313",
   "metadata": {},
   "outputs": [],
   "source": [
    "newratings=ratings[:5000]"
   ]
  },
  {
   "cell_type": "code",
   "execution_count": 73,
   "id": "8be53eb6",
   "metadata": {},
   "outputs": [
    {
     "data": {
      "text/plain": [
       "5000"
      ]
     },
     "execution_count": 73,
     "metadata": {},
     "output_type": "execute_result"
    }
   ],
   "source": [
    "len(newratings)"
   ]
  },
  {
   "cell_type": "code",
   "execution_count": 74,
   "id": "bc39fb05",
   "metadata": {},
   "outputs": [
    {
     "data": {
      "text/html": [
       "<div>\n",
       "<style scoped>\n",
       "    .dataframe tbody tr th:only-of-type {\n",
       "        vertical-align: middle;\n",
       "    }\n",
       "\n",
       "    .dataframe tbody tr th {\n",
       "        vertical-align: top;\n",
       "    }\n",
       "\n",
       "    .dataframe thead th {\n",
       "        text-align: right;\n",
       "    }\n",
       "</style>\n",
       "<table border=\"1\" class=\"dataframe\">\n",
       "  <thead>\n",
       "    <tr style=\"text-align: right;\">\n",
       "      <th></th>\n",
       "      <th>Reviews</th>\n",
       "      <th>Rating</th>\n",
       "    </tr>\n",
       "  </thead>\n",
       "  <tbody>\n",
       "    <tr>\n",
       "      <th>0</th>\n",
       "      <td>Brilliant</td>\n",
       "      <td>5</td>\n",
       "    </tr>\n",
       "    <tr>\n",
       "      <th>1</th>\n",
       "      <td>Simply awesome</td>\n",
       "      <td>5</td>\n",
       "    </tr>\n",
       "    <tr>\n",
       "      <th>2</th>\n",
       "      <td>Best in the market!</td>\n",
       "      <td>5</td>\n",
       "    </tr>\n",
       "    <tr>\n",
       "      <th>3</th>\n",
       "      <td>Perfect product!</td>\n",
       "      <td>5</td>\n",
       "    </tr>\n",
       "    <tr>\n",
       "      <th>4</th>\n",
       "      <td>Fabulous!</td>\n",
       "      <td>5</td>\n",
       "    </tr>\n",
       "    <tr>\n",
       "      <th>...</th>\n",
       "      <td>...</td>\n",
       "      <td>...</td>\n",
       "    </tr>\n",
       "    <tr>\n",
       "      <th>4995</th>\n",
       "      <td>Worth every penny</td>\n",
       "      <td>5</td>\n",
       "    </tr>\n",
       "    <tr>\n",
       "      <th>4996</th>\n",
       "      <td>Great product</td>\n",
       "      <td>5</td>\n",
       "    </tr>\n",
       "    <tr>\n",
       "      <th>4997</th>\n",
       "      <td>Highly recommended</td>\n",
       "      <td>5</td>\n",
       "    </tr>\n",
       "    <tr>\n",
       "      <th>4998</th>\n",
       "      <td>Good choice</td>\n",
       "      <td>4</td>\n",
       "    </tr>\n",
       "    <tr>\n",
       "      <th>4999</th>\n",
       "      <td>Worth every penny</td>\n",
       "      <td>5</td>\n",
       "    </tr>\n",
       "  </tbody>\n",
       "</table>\n",
       "<p>5000 rows × 2 columns</p>\n",
       "</div>"
      ],
      "text/plain": [
       "                  Reviews Rating\n",
       "0               Brilliant      5\n",
       "1          Simply awesome      5\n",
       "2     Best in the market!      5\n",
       "3        Perfect product!      5\n",
       "4               Fabulous!      5\n",
       "...                   ...    ...\n",
       "4995    Worth every penny      5\n",
       "4996        Great product      5\n",
       "4997   Highly recommended      5\n",
       "4998          Good choice      4\n",
       "4999    Worth every penny      5\n",
       "\n",
       "[5000 rows x 2 columns]"
      ]
     },
     "execution_count": 74,
     "metadata": {},
     "output_type": "execute_result"
    }
   ],
   "source": [
    "#creating a dataframe\n",
    "df=pd.DataFrame({'Reviews':reviews[:5000],'Rating':newratings[:5000]})\n",
    "#printing dataframe\n",
    "df"
   ]
  },
  {
   "cell_type": "code",
   "execution_count": null,
   "id": "7caea935",
   "metadata": {},
   "outputs": [],
   "source": []
  },
  {
   "cell_type": "code",
   "execution_count": 108,
   "id": "c41ebd70",
   "metadata": {},
   "outputs": [],
   "source": [
    "driver.get('https://www.flipkart.com/oneplus-u1s-164-cm-65-inch-ultra-hd-4k-led-smart-android-tv/product-reviews/itm8625fe03919f2?pid=TVSG3E9A3MNZUTQK&lid=LSTTVSG3E9A3MNZUTQK20TZNG&marketplace=FLIPKART')"
   ]
  },
  {
   "cell_type": "code",
   "execution_count": 113,
   "id": "abbe1eaf",
   "metadata": {},
   "outputs": [],
   "source": [
    "reviews=[]\n",
    "ratings=[]\n",
    "\n",
    "start=0\n",
    "end=1000\n",
    "\n",
    "for page in range(start,end):\n",
    "    review=driver.find_elements_by_xpath(\"//div[@class='col _2wzgFH K0kLPL']\")\n",
    "    for r in review:\n",
    "        reviews.append(r.text.split('\\n')[1])\n",
    "    rating=driver.find_elements_by_xpath(\"//div[@class='col _2wzgFH K0kLPL']\")\n",
    "    for ra in rating:\n",
    "        ratings.append(ra.text.split('\\n')[0])\n",
    "    \n",
    "    nxt_button=driver.find_elements_by_xpath(\"//a[@class='_1LKTO3']\")#scraping the list of buttons from the page\n",
    "         "
   ]
  },
  {
   "cell_type": "code",
   "execution_count": 114,
   "id": "e46d52af",
   "metadata": {},
   "outputs": [
    {
     "data": {
      "text/plain": [
       "(10000, 10000)"
      ]
     },
     "execution_count": 114,
     "metadata": {},
     "output_type": "execute_result"
    }
   ],
   "source": [
    "len(reviews),len(ratings)"
   ]
  },
  {
   "cell_type": "code",
   "execution_count": 115,
   "id": "1085ac55",
   "metadata": {},
   "outputs": [
    {
     "data": {
      "text/html": [
       "<div>\n",
       "<style scoped>\n",
       "    .dataframe tbody tr th:only-of-type {\n",
       "        vertical-align: middle;\n",
       "    }\n",
       "\n",
       "    .dataframe tbody tr th {\n",
       "        vertical-align: top;\n",
       "    }\n",
       "\n",
       "    .dataframe thead th {\n",
       "        text-align: right;\n",
       "    }\n",
       "</style>\n",
       "<table border=\"1\" class=\"dataframe\">\n",
       "  <thead>\n",
       "    <tr style=\"text-align: right;\">\n",
       "      <th></th>\n",
       "      <th>Reviews</th>\n",
       "      <th>Rating</th>\n",
       "    </tr>\n",
       "  </thead>\n",
       "  <tbody>\n",
       "    <tr>\n",
       "      <th>0</th>\n",
       "      <td>Perfect product!</td>\n",
       "      <td>5</td>\n",
       "    </tr>\n",
       "    <tr>\n",
       "      <th>1</th>\n",
       "      <td>Just wow!</td>\n",
       "      <td>5</td>\n",
       "    </tr>\n",
       "    <tr>\n",
       "      <th>2</th>\n",
       "      <td>Simply awesome</td>\n",
       "      <td>5</td>\n",
       "    </tr>\n",
       "    <tr>\n",
       "      <th>3</th>\n",
       "      <td>Classy product</td>\n",
       "      <td>5</td>\n",
       "    </tr>\n",
       "    <tr>\n",
       "      <th>4</th>\n",
       "      <td>Moderate</td>\n",
       "      <td>2</td>\n",
       "    </tr>\n",
       "    <tr>\n",
       "      <th>...</th>\n",
       "      <td>...</td>\n",
       "      <td>...</td>\n",
       "    </tr>\n",
       "    <tr>\n",
       "      <th>9995</th>\n",
       "      <td>Perfect product!</td>\n",
       "      <td>5</td>\n",
       "    </tr>\n",
       "    <tr>\n",
       "      <th>9996</th>\n",
       "      <td>Brilliant</td>\n",
       "      <td>5</td>\n",
       "    </tr>\n",
       "    <tr>\n",
       "      <th>9997</th>\n",
       "      <td>Value-for-money</td>\n",
       "      <td>4</td>\n",
       "    </tr>\n",
       "    <tr>\n",
       "      <th>9998</th>\n",
       "      <td>Decent product</td>\n",
       "      <td>3</td>\n",
       "    </tr>\n",
       "    <tr>\n",
       "      <th>9999</th>\n",
       "      <td>Terrific</td>\n",
       "      <td>5</td>\n",
       "    </tr>\n",
       "  </tbody>\n",
       "</table>\n",
       "<p>10000 rows × 2 columns</p>\n",
       "</div>"
      ],
      "text/plain": [
       "               Reviews Rating\n",
       "0     Perfect product!      5\n",
       "1            Just wow!      5\n",
       "2       Simply awesome      5\n",
       "3       Classy product      5\n",
       "4             Moderate      2\n",
       "...                ...    ...\n",
       "9995  Perfect product!      5\n",
       "9996         Brilliant      5\n",
       "9997   Value-for-money      4\n",
       "9998    Decent product      3\n",
       "9999          Terrific      5\n",
       "\n",
       "[10000 rows x 2 columns]"
      ]
     },
     "execution_count": 115,
     "metadata": {},
     "output_type": "execute_result"
    }
   ],
   "source": [
    "#creating a dataframe\n",
    "df1=pd.DataFrame({'Reviews':reviews,'Rating':ratings})\n",
    "#printing dataframe\n",
    "df1"
   ]
  },
  {
   "cell_type": "code",
   "execution_count": 116,
   "id": "9eb0d5a1",
   "metadata": {},
   "outputs": [],
   "source": [
    "driver.get('https://www.flipkart.com/redmi-9-sporty-orange-64-gb/product-reviews/itm4fb151383983b?pid=MOBFV5FPCJC9ZKRB&lid=LSTMOBFV5FPCJC9ZKRBPIPCPK&marketplace=FLIPKART')"
   ]
  },
  {
   "cell_type": "code",
   "execution_count": 131,
   "id": "01a1a689",
   "metadata": {},
   "outputs": [],
   "source": [
    "reviews=[]\n",
    "ratings=[]\n",
    "\n",
    "start=0\n",
    "end=300\n",
    "\n",
    "for page in range(start,end):\n",
    "    review=driver.find_elements_by_xpath(\"//div[@class='col _2wzgFH K0kLPL']\")\n",
    "    for r in review:\n",
    "        reviews.append(r.text.split('\\n')[2])\n",
    "    rating=driver.find_elements_by_xpath(\"//div[@class='col _2wzgFH K0kLPL']\")\n",
    "    for ra in rating:\n",
    "        ratings.append(ra.text.split('\\n')[0])\n",
    "    \n",
    "    nxt_button=driver.find_elements_by_xpath(\"//a[@class='_1LKTO3']\")#scraping the list of buttons from the page\n",
    "         "
   ]
  },
  {
   "cell_type": "code",
   "execution_count": 132,
   "id": "cf62b813",
   "metadata": {},
   "outputs": [
    {
     "data": {
      "text/plain": [
       "(3000, 3000)"
      ]
     },
     "execution_count": 132,
     "metadata": {},
     "output_type": "execute_result"
    }
   ],
   "source": [
    "len(reviews),len(ratings)"
   ]
  },
  {
   "cell_type": "code",
   "execution_count": 133,
   "id": "d1876f69",
   "metadata": {},
   "outputs": [
    {
     "data": {
      "text/html": [
       "<div>\n",
       "<style scoped>\n",
       "    .dataframe tbody tr th:only-of-type {\n",
       "        vertical-align: middle;\n",
       "    }\n",
       "\n",
       "    .dataframe tbody tr th {\n",
       "        vertical-align: top;\n",
       "    }\n",
       "\n",
       "    .dataframe thead th {\n",
       "        text-align: right;\n",
       "    }\n",
       "</style>\n",
       "<table border=\"1\" class=\"dataframe\">\n",
       "  <thead>\n",
       "    <tr style=\"text-align: right;\">\n",
       "      <th></th>\n",
       "      <th>Reviews</th>\n",
       "      <th>Rating</th>\n",
       "    </tr>\n",
       "  </thead>\n",
       "  <tbody>\n",
       "    <tr>\n",
       "      <th>0</th>\n",
       "      <td>It's worth for money sometimes. But sometimes ...</td>\n",
       "      <td>3</td>\n",
       "    </tr>\n",
       "    <tr>\n",
       "      <th>1</th>\n",
       "      <td>Consider all things good device</td>\n",
       "      <td>4</td>\n",
       "    </tr>\n",
       "    <tr>\n",
       "      <th>2</th>\n",
       "      <td>The phone is overall good according to the pri...</td>\n",
       "      <td>4</td>\n",
       "    </tr>\n",
       "    <tr>\n",
       "      <th>3</th>\n",
       "      <td>Nice product</td>\n",
       "      <td>5</td>\n",
       "    </tr>\n",
       "    <tr>\n",
       "      <th>4</th>\n",
       "      <td>Worth for money..</td>\n",
       "      <td>5</td>\n",
       "    </tr>\n",
       "    <tr>\n",
       "      <th>...</th>\n",
       "      <td>...</td>\n",
       "      <td>...</td>\n",
       "    </tr>\n",
       "    <tr>\n",
       "      <th>2995</th>\n",
       "      <td>Nice 🙂</td>\n",
       "      <td>5</td>\n",
       "    </tr>\n",
       "    <tr>\n",
       "      <th>2996</th>\n",
       "      <td>This Phone is performance wise is good and bat...</td>\n",
       "      <td>4</td>\n",
       "    </tr>\n",
       "    <tr>\n",
       "      <th>2997</th>\n",
       "      <td>Nice product delivery let thank you for Flipkart</td>\n",
       "      <td>4</td>\n",
       "    </tr>\n",
       "    <tr>\n",
       "      <th>2998</th>\n",
       "      <td>Very poor camera battery is nice</td>\n",
       "      <td>3</td>\n",
       "    </tr>\n",
       "    <tr>\n",
       "      <th>2999</th>\n",
       "      <td>Very nice redmi 9</td>\n",
       "      <td>1</td>\n",
       "    </tr>\n",
       "  </tbody>\n",
       "</table>\n",
       "<p>3000 rows × 2 columns</p>\n",
       "</div>"
      ],
      "text/plain": [
       "                                                Reviews Rating\n",
       "0     It's worth for money sometimes. But sometimes ...      3\n",
       "1                       Consider all things good device      4\n",
       "2     The phone is overall good according to the pri...      4\n",
       "3                                          Nice product      5\n",
       "4                                     Worth for money..      5\n",
       "...                                                 ...    ...\n",
       "2995                                             Nice 🙂      5\n",
       "2996  This Phone is performance wise is good and bat...      4\n",
       "2997   Nice product delivery let thank you for Flipkart      4\n",
       "2998                   Very poor camera battery is nice      3\n",
       "2999                                  Very nice redmi 9      1\n",
       "\n",
       "[3000 rows x 2 columns]"
      ]
     },
     "execution_count": 133,
     "metadata": {},
     "output_type": "execute_result"
    }
   ],
   "source": [
    "#creating a dataframe\n",
    "df2=pd.DataFrame({'Reviews':reviews,'Rating':ratings})\n",
    "#printing dataframe\n",
    "df2"
   ]
  },
  {
   "cell_type": "code",
   "execution_count": null,
   "id": "8bd99e69",
   "metadata": {},
   "outputs": [],
   "source": []
  },
  {
   "cell_type": "code",
   "execution_count": 134,
   "id": "761eda85",
   "metadata": {},
   "outputs": [],
   "source": [
    "driver.get(\"https://www.flipkart.com/marq-flipkart-innoview-108-cm-43-inch-ultra-hd-4k-led-smart-android-tv/product-reviews/itmb05467f4bd72c?pid=TVSFRG9KUGHZNX3M&lid=LSTTVSFRG9KUGHZNX3M0BPNLH&marketplace=FLIPKART\")"
   ]
  },
  {
   "cell_type": "code",
   "execution_count": 138,
   "id": "7d807493",
   "metadata": {},
   "outputs": [],
   "source": [
    "reviews=[]\n",
    "ratings=[]\n",
    "\n",
    "start=0\n",
    "end=400\n",
    "\n",
    "for page in range(start,end):\n",
    "    review=driver.find_elements_by_xpath(\"//div[@class='col _2wzgFH K0kLPL']\")\n",
    "    for r in review:\n",
    "        reviews.append(r.text.split('\\n')[2])\n",
    "    rating=driver.find_elements_by_xpath(\"//div[@class='col _2wzgFH K0kLPL']\")\n",
    "    for ra in rating:\n",
    "        ratings.append(ra.text.split('\\n')[0])\n",
    "    \n",
    "    nxt_button=driver.find_elements_by_xpath(\"//a[@class='_1LKTO3']\")#scraping the list of buttons from the page\n",
    "         "
   ]
  },
  {
   "cell_type": "code",
   "execution_count": 139,
   "id": "3e41b778",
   "metadata": {},
   "outputs": [
    {
     "data": {
      "text/plain": [
       "(4000, 4000)"
      ]
     },
     "execution_count": 139,
     "metadata": {},
     "output_type": "execute_result"
    }
   ],
   "source": [
    "len(reviews),len(ratings)"
   ]
  },
  {
   "cell_type": "code",
   "execution_count": 140,
   "id": "cc27aa0e",
   "metadata": {},
   "outputs": [
    {
     "data": {
      "text/html": [
       "<div>\n",
       "<style scoped>\n",
       "    .dataframe tbody tr th:only-of-type {\n",
       "        vertical-align: middle;\n",
       "    }\n",
       "\n",
       "    .dataframe tbody tr th {\n",
       "        vertical-align: top;\n",
       "    }\n",
       "\n",
       "    .dataframe thead th {\n",
       "        text-align: right;\n",
       "    }\n",
       "</style>\n",
       "<table border=\"1\" class=\"dataframe\">\n",
       "  <thead>\n",
       "    <tr style=\"text-align: right;\">\n",
       "      <th></th>\n",
       "      <th>Reviews</th>\n",
       "      <th>Rating</th>\n",
       "    </tr>\n",
       "  </thead>\n",
       "  <tbody>\n",
       "    <tr>\n",
       "      <th>0</th>\n",
       "      <td>P.S - Review after 2 months usage !!</td>\n",
       "      <td>4</td>\n",
       "    </tr>\n",
       "    <tr>\n",
       "      <th>1</th>\n",
       "      <td>Reviews are very important, today is the first...</td>\n",
       "      <td>4</td>\n",
       "    </tr>\n",
       "    <tr>\n",
       "      <th>2</th>\n",
       "      <td>Wonderful lovely 4K tv</td>\n",
       "      <td>5</td>\n",
       "    </tr>\n",
       "    <tr>\n",
       "      <th>3</th>\n",
       "      <td>Good product and nice look I like it Flipkart ...</td>\n",
       "      <td>5</td>\n",
       "    </tr>\n",
       "    <tr>\n",
       "      <th>4</th>\n",
       "      <td>The clarity of the tv is amazing for the price .</td>\n",
       "      <td>4</td>\n",
       "    </tr>\n",
       "    <tr>\n",
       "      <th>...</th>\n",
       "      <td>...</td>\n",
       "      <td>...</td>\n",
       "    </tr>\n",
       "    <tr>\n",
       "      <th>3995</th>\n",
       "      <td>MarQ is my trusted brand. Already I have MarQ ...</td>\n",
       "      <td>5</td>\n",
       "    </tr>\n",
       "    <tr>\n",
       "      <th>3996</th>\n",
       "      <td>Great value for money with awesome picture qua...</td>\n",
       "      <td>5</td>\n",
       "    </tr>\n",
       "    <tr>\n",
       "      <th>3997</th>\n",
       "      <td>Very very good but sound is low and pictures 4...</td>\n",
       "      <td>5</td>\n",
       "    </tr>\n",
       "    <tr>\n",
       "      <th>3998</th>\n",
       "      <td>A great 4k TV for a very good price. Picture q...</td>\n",
       "      <td>5</td>\n",
       "    </tr>\n",
       "    <tr>\n",
       "      <th>3999</th>\n",
       "      <td>sound was good on old tv.. but not this</td>\n",
       "      <td>2</td>\n",
       "    </tr>\n",
       "  </tbody>\n",
       "</table>\n",
       "<p>4000 rows × 2 columns</p>\n",
       "</div>"
      ],
      "text/plain": [
       "                                                Reviews Rating\n",
       "0                  P.S - Review after 2 months usage !!      4\n",
       "1     Reviews are very important, today is the first...      4\n",
       "2                                Wonderful lovely 4K tv      5\n",
       "3     Good product and nice look I like it Flipkart ...      5\n",
       "4      The clarity of the tv is amazing for the price .      4\n",
       "...                                                 ...    ...\n",
       "3995  MarQ is my trusted brand. Already I have MarQ ...      5\n",
       "3996  Great value for money with awesome picture qua...      5\n",
       "3997  Very very good but sound is low and pictures 4...      5\n",
       "3998  A great 4k TV for a very good price. Picture q...      5\n",
       "3999            sound was good on old tv.. but not this      2\n",
       "\n",
       "[4000 rows x 2 columns]"
      ]
     },
     "execution_count": 140,
     "metadata": {},
     "output_type": "execute_result"
    }
   ],
   "source": [
    "#creating a dataframe\n",
    "df3=pd.DataFrame({'Reviews':reviews,'Rating':ratings})\n",
    "#printing dataframe\n",
    "df3"
   ]
  },
  {
   "cell_type": "code",
   "execution_count": 193,
   "id": "57520590",
   "metadata": {},
   "outputs": [
    {
     "data": {
      "text/html": [
       "<div>\n",
       "<style scoped>\n",
       "    .dataframe tbody tr th:only-of-type {\n",
       "        vertical-align: middle;\n",
       "    }\n",
       "\n",
       "    .dataframe tbody tr th {\n",
       "        vertical-align: top;\n",
       "    }\n",
       "\n",
       "    .dataframe thead th {\n",
       "        text-align: right;\n",
       "    }\n",
       "</style>\n",
       "<table border=\"1\" class=\"dataframe\">\n",
       "  <thead>\n",
       "    <tr style=\"text-align: right;\">\n",
       "      <th></th>\n",
       "      <th>Reviews</th>\n",
       "      <th>Rating</th>\n",
       "    </tr>\n",
       "  </thead>\n",
       "  <tbody>\n",
       "    <tr>\n",
       "      <th>0</th>\n",
       "      <td>Brilliant</td>\n",
       "      <td>5</td>\n",
       "    </tr>\n",
       "    <tr>\n",
       "      <th>1</th>\n",
       "      <td>Simply awesome</td>\n",
       "      <td>5</td>\n",
       "    </tr>\n",
       "    <tr>\n",
       "      <th>2</th>\n",
       "      <td>Best in the market!</td>\n",
       "      <td>5</td>\n",
       "    </tr>\n",
       "    <tr>\n",
       "      <th>3</th>\n",
       "      <td>Perfect product!</td>\n",
       "      <td>5</td>\n",
       "    </tr>\n",
       "    <tr>\n",
       "      <th>4</th>\n",
       "      <td>Fabulous!</td>\n",
       "      <td>5</td>\n",
       "    </tr>\n",
       "    <tr>\n",
       "      <th>...</th>\n",
       "      <td>...</td>\n",
       "      <td>...</td>\n",
       "    </tr>\n",
       "    <tr>\n",
       "      <th>3995</th>\n",
       "      <td>MarQ is my trusted brand. Already I have MarQ ...</td>\n",
       "      <td>5</td>\n",
       "    </tr>\n",
       "    <tr>\n",
       "      <th>3996</th>\n",
       "      <td>Great value for money with awesome picture qua...</td>\n",
       "      <td>5</td>\n",
       "    </tr>\n",
       "    <tr>\n",
       "      <th>3997</th>\n",
       "      <td>Very very good but sound is low and pictures 4...</td>\n",
       "      <td>5</td>\n",
       "    </tr>\n",
       "    <tr>\n",
       "      <th>3998</th>\n",
       "      <td>A great 4k TV for a very good price. Picture q...</td>\n",
       "      <td>5</td>\n",
       "    </tr>\n",
       "    <tr>\n",
       "      <th>3999</th>\n",
       "      <td>sound was good on old tv.. but not this</td>\n",
       "      <td>2</td>\n",
       "    </tr>\n",
       "  </tbody>\n",
       "</table>\n",
       "<p>22000 rows × 2 columns</p>\n",
       "</div>"
      ],
      "text/plain": [
       "                                                Reviews Rating\n",
       "0                                             Brilliant      5\n",
       "1                                        Simply awesome      5\n",
       "2                                   Best in the market!      5\n",
       "3                                      Perfect product!      5\n",
       "4                                             Fabulous!      5\n",
       "...                                                 ...    ...\n",
       "3995  MarQ is my trusted brand. Already I have MarQ ...      5\n",
       "3996  Great value for money with awesome picture qua...      5\n",
       "3997  Very very good but sound is low and pictures 4...      5\n",
       "3998  A great 4k TV for a very good price. Picture q...      5\n",
       "3999            sound was good on old tv.. but not this      2\n",
       "\n",
       "[22000 rows x 2 columns]"
      ]
     },
     "execution_count": 193,
     "metadata": {},
     "output_type": "execute_result"
    }
   ],
   "source": [
    "data=pd.concat([df,df1,df2,df3])\n",
    "data"
   ]
  },
  {
   "cell_type": "code",
   "execution_count": 194,
   "id": "5f4c73db",
   "metadata": {},
   "outputs": [],
   "source": [
    "data.to_csv(\"ratingprediction.csv\",index=False)"
   ]
  },
  {
   "cell_type": "code",
   "execution_count": null,
   "id": "4dbdebb4",
   "metadata": {},
   "outputs": [],
   "source": []
  },
  {
   "cell_type": "code",
   "execution_count": null,
   "id": "4ba5ac32",
   "metadata": {},
   "outputs": [],
   "source": []
  },
  {
   "cell_type": "markdown",
   "id": "b2625e32",
   "metadata": {},
   "source": [
    "# Natural Language Processing"
   ]
  },
  {
   "cell_type": "code",
   "execution_count": 159,
   "id": "d2352674",
   "metadata": {},
   "outputs": [],
   "source": [
    "import nltk\n",
    "from nltk.tokenize import sent_tokenize\n",
    "from nltk.corpus import stopwords\n",
    "import re\n",
    "import warnings\n",
    "warnings.filterwarnings('ignore')"
   ]
  },
  {
   "cell_type": "code",
   "execution_count": 160,
   "id": "791a8048",
   "metadata": {},
   "outputs": [
    {
     "data": {
      "text/html": [
       "<div>\n",
       "<style scoped>\n",
       "    .dataframe tbody tr th:only-of-type {\n",
       "        vertical-align: middle;\n",
       "    }\n",
       "\n",
       "    .dataframe tbody tr th {\n",
       "        vertical-align: top;\n",
       "    }\n",
       "\n",
       "    .dataframe thead th {\n",
       "        text-align: right;\n",
       "    }\n",
       "</style>\n",
       "<table border=\"1\" class=\"dataframe\">\n",
       "  <thead>\n",
       "    <tr style=\"text-align: right;\">\n",
       "      <th></th>\n",
       "      <th>Reviews</th>\n",
       "      <th>Rating</th>\n",
       "    </tr>\n",
       "  </thead>\n",
       "  <tbody>\n",
       "    <tr>\n",
       "      <th>0</th>\n",
       "      <td>Brilliant</td>\n",
       "      <td>5</td>\n",
       "    </tr>\n",
       "    <tr>\n",
       "      <th>1</th>\n",
       "      <td>Simply awesome</td>\n",
       "      <td>5</td>\n",
       "    </tr>\n",
       "    <tr>\n",
       "      <th>2</th>\n",
       "      <td>Best in the market!</td>\n",
       "      <td>5</td>\n",
       "    </tr>\n",
       "    <tr>\n",
       "      <th>3</th>\n",
       "      <td>Perfect product!</td>\n",
       "      <td>5</td>\n",
       "    </tr>\n",
       "    <tr>\n",
       "      <th>4</th>\n",
       "      <td>Fabulous!</td>\n",
       "      <td>5</td>\n",
       "    </tr>\n",
       "  </tbody>\n",
       "</table>\n",
       "</div>"
      ],
      "text/plain": [
       "               Reviews Rating\n",
       "0            Brilliant      5\n",
       "1       Simply awesome      5\n",
       "2  Best in the market!      5\n",
       "3     Perfect product!      5\n",
       "4            Fabulous!      5"
      ]
     },
     "execution_count": 160,
     "metadata": {},
     "output_type": "execute_result"
    }
   ],
   "source": [
    "data.head()"
   ]
  },
  {
   "cell_type": "code",
   "execution_count": 161,
   "id": "654e4fff",
   "metadata": {},
   "outputs": [],
   "source": [
    "data['length']=data['Reviews'].apply(len)"
   ]
  },
  {
   "cell_type": "code",
   "execution_count": 162,
   "id": "d08baf67",
   "metadata": {},
   "outputs": [
    {
     "data": {
      "text/plain": [
       "Reviews    0\n",
       "Rating     0\n",
       "length     0\n",
       "dtype: int64"
      ]
     },
     "execution_count": 162,
     "metadata": {},
     "output_type": "execute_result"
    }
   ],
   "source": [
    "data.isnull().sum()"
   ]
  },
  {
   "cell_type": "code",
   "execution_count": 163,
   "id": "ea521ae9",
   "metadata": {},
   "outputs": [
    {
     "data": {
      "text/html": [
       "<div>\n",
       "<style scoped>\n",
       "    .dataframe tbody tr th:only-of-type {\n",
       "        vertical-align: middle;\n",
       "    }\n",
       "\n",
       "    .dataframe tbody tr th {\n",
       "        vertical-align: top;\n",
       "    }\n",
       "\n",
       "    .dataframe thead th {\n",
       "        text-align: right;\n",
       "    }\n",
       "</style>\n",
       "<table border=\"1\" class=\"dataframe\">\n",
       "  <thead>\n",
       "    <tr style=\"text-align: right;\">\n",
       "      <th></th>\n",
       "      <th>Reviews</th>\n",
       "      <th>Rating</th>\n",
       "      <th>length</th>\n",
       "    </tr>\n",
       "  </thead>\n",
       "  <tbody>\n",
       "    <tr>\n",
       "      <th>0</th>\n",
       "      <td>Brilliant</td>\n",
       "      <td>5</td>\n",
       "      <td>9</td>\n",
       "    </tr>\n",
       "    <tr>\n",
       "      <th>1</th>\n",
       "      <td>Simply awesome</td>\n",
       "      <td>5</td>\n",
       "      <td>14</td>\n",
       "    </tr>\n",
       "    <tr>\n",
       "      <th>2</th>\n",
       "      <td>Best in the market!</td>\n",
       "      <td>5</td>\n",
       "      <td>19</td>\n",
       "    </tr>\n",
       "    <tr>\n",
       "      <th>3</th>\n",
       "      <td>Perfect product!</td>\n",
       "      <td>5</td>\n",
       "      <td>16</td>\n",
       "    </tr>\n",
       "    <tr>\n",
       "      <th>4</th>\n",
       "      <td>Fabulous!</td>\n",
       "      <td>5</td>\n",
       "      <td>9</td>\n",
       "    </tr>\n",
       "  </tbody>\n",
       "</table>\n",
       "</div>"
      ],
      "text/plain": [
       "               Reviews Rating  length\n",
       "0            Brilliant      5       9\n",
       "1       Simply awesome      5      14\n",
       "2  Best in the market!      5      19\n",
       "3     Perfect product!      5      16\n",
       "4            Fabulous!      5       9"
      ]
     },
     "execution_count": 163,
     "metadata": {},
     "output_type": "execute_result"
    }
   ],
   "source": [
    "data.head()"
   ]
  },
  {
   "cell_type": "code",
   "execution_count": 164,
   "id": "f2fed7a2",
   "metadata": {},
   "outputs": [
    {
     "name": "stdout",
     "output_type": "stream",
     "text": [
      "<class 'pandas.core.frame.DataFrame'>\n",
      "Int64Index: 22000 entries, 0 to 3999\n",
      "Data columns (total 3 columns):\n",
      " #   Column   Non-Null Count  Dtype \n",
      "---  ------   --------------  ----- \n",
      " 0   Reviews  22000 non-null  object\n",
      " 1   Rating   22000 non-null  object\n",
      " 2   length   22000 non-null  int64 \n",
      "dtypes: int64(1), object(2)\n",
      "memory usage: 687.5+ KB\n"
     ]
    }
   ],
   "source": [
    "data.info()"
   ]
  },
  {
   "cell_type": "code",
   "execution_count": 165,
   "id": "59677166",
   "metadata": {},
   "outputs": [
    {
     "data": {
      "text/plain": [
       "5    14836\n",
       "4     3864\n",
       "3     1600\n",
       "2     1400\n",
       "1      300\n",
       "Name: Rating, dtype: int64"
      ]
     },
     "execution_count": 165,
     "metadata": {},
     "output_type": "execute_result"
    },
    {
     "data": {
      "image/png": "[encoded data removed]",
      "text/plain": [
       "<Figure size 432x288 with 1 Axes>"
      ]
     },
     "metadata": {
      "needs_background": "light"
     },
     "output_type": "display_data"
    }
   ],
   "source": [
    "import seaborn as sns\n",
    "sns.countplot(x='Rating',data=data)\n",
    "data['Rating'].value_counts()"
   ]
  },
  {
   "cell_type": "code",
   "execution_count": 166,
   "id": "4e6901d9",
   "metadata": {},
   "outputs": [],
   "source": [
    "def clean_text(text):\n",
    "    text=text.lower()\n",
    "    text=re.sub('[^0-9a-zA-z]',' ',text)\n",
    "    text=re.sub('\\s+',' ',text)\n",
    "    text=' '.join(word for word in text.split()if word not in set(stopwords.words(\"english\")))\n",
    "    return text"
   ]
  },
  {
   "cell_type": "code",
   "execution_count": 167,
   "id": "46908e3f",
   "metadata": {},
   "outputs": [
    {
     "data": {
      "text/html": [
       "<div>\n",
       "<style scoped>\n",
       "    .dataframe tbody tr th:only-of-type {\n",
       "        vertical-align: middle;\n",
       "    }\n",
       "\n",
       "    .dataframe tbody tr th {\n",
       "        vertical-align: top;\n",
       "    }\n",
       "\n",
       "    .dataframe thead th {\n",
       "        text-align: right;\n",
       "    }\n",
       "</style>\n",
       "<table border=\"1\" class=\"dataframe\">\n",
       "  <thead>\n",
       "    <tr style=\"text-align: right;\">\n",
       "      <th></th>\n",
       "      <th>Reviews</th>\n",
       "      <th>Rating</th>\n",
       "      <th>length</th>\n",
       "    </tr>\n",
       "  </thead>\n",
       "  <tbody>\n",
       "    <tr>\n",
       "      <th>0</th>\n",
       "      <td>brilliant</td>\n",
       "      <td>5</td>\n",
       "      <td>9</td>\n",
       "    </tr>\n",
       "    <tr>\n",
       "      <th>1</th>\n",
       "      <td>simply awesome</td>\n",
       "      <td>5</td>\n",
       "      <td>14</td>\n",
       "    </tr>\n",
       "    <tr>\n",
       "      <th>2</th>\n",
       "      <td>best market</td>\n",
       "      <td>5</td>\n",
       "      <td>19</td>\n",
       "    </tr>\n",
       "    <tr>\n",
       "      <th>3</th>\n",
       "      <td>perfect product</td>\n",
       "      <td>5</td>\n",
       "      <td>16</td>\n",
       "    </tr>\n",
       "    <tr>\n",
       "      <th>4</th>\n",
       "      <td>fabulous</td>\n",
       "      <td>5</td>\n",
       "      <td>9</td>\n",
       "    </tr>\n",
       "  </tbody>\n",
       "</table>\n",
       "</div>"
      ],
      "text/plain": [
       "           Reviews Rating  length\n",
       "0        brilliant      5       9\n",
       "1   simply awesome      5      14\n",
       "2      best market      5      19\n",
       "3  perfect product      5      16\n",
       "4         fabulous      5       9"
      ]
     },
     "execution_count": 167,
     "metadata": {},
     "output_type": "execute_result"
    }
   ],
   "source": [
    "data['Reviews']=data['Reviews'].apply(clean_text)\n",
    "data.head()"
   ]
  },
  {
   "cell_type": "code",
   "execution_count": 168,
   "id": "8b2f4c33",
   "metadata": {},
   "outputs": [
    {
     "data": {
      "text/html": [
       "<div>\n",
       "<style scoped>\n",
       "    .dataframe tbody tr th:only-of-type {\n",
       "        vertical-align: middle;\n",
       "    }\n",
       "\n",
       "    .dataframe tbody tr th {\n",
       "        vertical-align: top;\n",
       "    }\n",
       "\n",
       "    .dataframe thead th {\n",
       "        text-align: right;\n",
       "    }\n",
       "</style>\n",
       "<table border=\"1\" class=\"dataframe\">\n",
       "  <thead>\n",
       "    <tr style=\"text-align: right;\">\n",
       "      <th></th>\n",
       "      <th>Reviews</th>\n",
       "      <th>Rating</th>\n",
       "      <th>length</th>\n",
       "      <th>cleanedlength</th>\n",
       "    </tr>\n",
       "  </thead>\n",
       "  <tbody>\n",
       "    <tr>\n",
       "      <th>0</th>\n",
       "      <td>brilliant</td>\n",
       "      <td>5</td>\n",
       "      <td>9</td>\n",
       "      <td>9</td>\n",
       "    </tr>\n",
       "    <tr>\n",
       "      <th>1</th>\n",
       "      <td>simply awesome</td>\n",
       "      <td>5</td>\n",
       "      <td>14</td>\n",
       "      <td>14</td>\n",
       "    </tr>\n",
       "    <tr>\n",
       "      <th>2</th>\n",
       "      <td>best market</td>\n",
       "      <td>5</td>\n",
       "      <td>19</td>\n",
       "      <td>11</td>\n",
       "    </tr>\n",
       "    <tr>\n",
       "      <th>3</th>\n",
       "      <td>perfect product</td>\n",
       "      <td>5</td>\n",
       "      <td>16</td>\n",
       "      <td>15</td>\n",
       "    </tr>\n",
       "    <tr>\n",
       "      <th>4</th>\n",
       "      <td>fabulous</td>\n",
       "      <td>5</td>\n",
       "      <td>9</td>\n",
       "      <td>8</td>\n",
       "    </tr>\n",
       "  </tbody>\n",
       "</table>\n",
       "</div>"
      ],
      "text/plain": [
       "           Reviews Rating  length  cleanedlength\n",
       "0        brilliant      5       9              9\n",
       "1   simply awesome      5      14             14\n",
       "2      best market      5      19             11\n",
       "3  perfect product      5      16             15\n",
       "4         fabulous      5       9              8"
      ]
     },
     "execution_count": 168,
     "metadata": {},
     "output_type": "execute_result"
    }
   ],
   "source": [
    "data['cleanedlength']=data['Reviews'].apply(len)\n",
    "data.head()"
   ]
  },
  {
   "cell_type": "code",
   "execution_count": 169,
   "id": "053ccdd8",
   "metadata": {},
   "outputs": [
    {
     "data": {
      "text/plain": [
       "390"
      ]
     },
     "execution_count": 169,
     "metadata": {},
     "output_type": "execute_result"
    }
   ],
   "source": [
    "data['length'].max()"
   ]
  },
  {
   "cell_type": "code",
   "execution_count": 172,
   "id": "f57a1c5c",
   "metadata": {},
   "outputs": [
    {
     "data": {
      "text/plain": [
       "'great value money awesome picture quality connectivity really good superb interface user friendly apps installation via play store side loaded ok google function working upon pressing google assistant key remote mentioned tv cartoon box ok google function works without pressing key tremendous choice users'"
      ]
     },
     "execution_count": 172,
     "metadata": {},
     "output_type": "execute_result"
    }
   ],
   "source": [
    "data[data['length']==390]['Reviews'].iloc[0]"
   ]
  },
  {
   "cell_type": "code",
   "execution_count": 174,
   "id": "deac1ca3",
   "metadata": {},
   "outputs": [],
   "source": [
    "from sklearn.feature_extraction.text import TfidfVectorizer\n",
    "tf=TfidfVectorizer()"
   ]
  },
  {
   "cell_type": "code",
   "execution_count": 175,
   "id": "a270e344",
   "metadata": {},
   "outputs": [],
   "source": [
    "x=tf.fit_transform(data['Reviews'])\n",
    "y=data['Rating']"
   ]
  },
  {
   "cell_type": "code",
   "execution_count": 177,
   "id": "b8d8db84",
   "metadata": {},
   "outputs": [],
   "source": [
    "from sklearn.model_selection import train_test_split\n",
    "x_train,x_test,y_train,y_test=train_test_split(x,y,test_size=.30,random_state=42)"
   ]
  },
  {
   "cell_type": "code",
   "execution_count": 180,
   "id": "19d48015",
   "metadata": {},
   "outputs": [],
   "source": [
    "from sklearn.linear_model import LogisticRegression\n",
    "from sklearn.naive_bayes import MultinomialNB\n",
    "from sklearn.tree import DecisionTreeClassifier\n",
    "from sklearn.ensemble import RandomForestClassifier\n",
    "from sklearn.ensemble import GradientBoostingClassifier\n",
    "\n",
    "lg=LogisticRegression()\n",
    "mnb=MultinomialNB()\n",
    "dtc=DecisionTreeClassifier()\n",
    "rfc=RandomForestClassifier()\n",
    "gbc=GradientBoostingClassifier()"
   ]
  },
  {
   "cell_type": "code",
   "execution_count": 182,
   "id": "66c9fd4a",
   "metadata": {},
   "outputs": [],
   "source": [
    "from sklearn.metrics import accuracy_score,confusion_matrix,classification_report"
   ]
  },
  {
   "cell_type": "code",
   "execution_count": 185,
   "id": "140c82f5",
   "metadata": {},
   "outputs": [
    {
     "name": "stdout",
     "output_type": "stream",
     "text": [
      "model score of LogisticRegression() is: 0.9984415584415585\n",
      "accuracy score of LogisticRegression() is: 0.9981818181818182\n",
      "\n",
      "\n",
      "model score of MultinomialNB() is: 0.9984415584415585\n",
      "accuracy score of MultinomialNB() is: 0.9981818181818182\n",
      "\n",
      "\n",
      "model score of DecisionTreeClassifier() is: 0.9984415584415585\n",
      "accuracy score of DecisionTreeClassifier() is: 0.9981818181818182\n",
      "\n",
      "\n",
      "model score of RandomForestClassifier() is: 0.9984415584415585\n",
      "accuracy score of RandomForestClassifier() is: 0.9981818181818182\n",
      "\n",
      "\n",
      "model score of GradientBoostingClassifier() is: 0.9984415584415585\n",
      "accuracy score of GradientBoostingClassifier() is: 0.9981818181818182\n",
      "\n",
      "\n"
     ]
    }
   ],
   "source": [
    "model=[lg,mnb,dtc,rfc,gbc]\n",
    "for m in model:\n",
    "    m.fit(x_train,y_train)\n",
    "    score=m.score(x_train,y_train)\n",
    "    pred=m.predict(x_test)\n",
    "    accuracy=accuracy_score(y_test,pred)\n",
    "    print('model score of',m,'is:',score)\n",
    "    print('accuracy score of',m,'is:',accuracy)\n",
    "    print('\\n')"
   ]
  },
  {
   "cell_type": "code",
   "execution_count": 188,
   "id": "2e6bd3e5",
   "metadata": {},
   "outputs": [
    {
     "name": "stdout",
     "output_type": "stream",
     "text": [
      "[0.89454545 1.         1.         1.         1.        ]\n",
      "accuracy score of LogisticRegression() is: 0.978909090909091\n",
      "\n",
      "\n",
      "[0.89454545 1.         1.         1.         0.45454545]\n",
      "accuracy score of MultinomialNB() is: 0.8698181818181817\n",
      "\n",
      "\n",
      "[0.88636364 1.         1.         1.         0.81818182]\n",
      "accuracy score of DecisionTreeClassifier() is: 0.9409090909090908\n",
      "\n",
      "\n",
      "[0.89454545 1.         1.         1.         0.81818182]\n",
      "accuracy score of RandomForestClassifier() is: 0.9425454545454546\n",
      "\n",
      "\n",
      "[0.89454545 1.         1.         1.         0.81818182]\n",
      "accuracy score of GradientBoostingClassifier() is: 0.9425454545454546\n",
      "\n",
      "\n"
     ]
    }
   ],
   "source": [
    "from sklearn.model_selection import cross_val_score\n",
    "for m in model:\n",
    "    cs=cross_val_score(m,x,y,cv=5)\n",
    "    print(cs)\n",
    "    print('accuracy score of',m,'is:',cs.mean())\n",
    "    print('\\n')"
   ]
  },
  {
   "cell_type": "markdown",
   "id": "7e39455e",
   "metadata": {},
   "source": [
    "# we will take logistic regression for prediction"
   ]
  },
  {
   "cell_type": "code",
   "execution_count": 189,
   "id": "ff519734",
   "metadata": {},
   "outputs": [
    {
     "name": "stdout",
     "output_type": "stream",
     "text": [
      "accuracy score of Logistic Regression is: 0.9981818181818182\n",
      "[[  85    0    0    0    0]\n",
      " [   0  438    0    0    0]\n",
      " [   0    0  510    0    0]\n",
      " [   0    0    0 1135    0]\n",
      " [   0    0    0   12 4420]]\n",
      "              precision    recall  f1-score   support\n",
      "\n",
      "           1       1.00      1.00      1.00        85\n",
      "           2       1.00      1.00      1.00       438\n",
      "           3       1.00      1.00      1.00       510\n",
      "           4       0.99      1.00      0.99      1135\n",
      "           5       1.00      1.00      1.00      4432\n",
      "\n",
      "    accuracy                           1.00      6600\n",
      "   macro avg       1.00      1.00      1.00      6600\n",
      "weighted avg       1.00      1.00      1.00      6600\n",
      "\n"
     ]
    }
   ],
   "source": [
    "lg.fit(x_train,y_train)\n",
    "lg.score(x_train,y_train)\n",
    "predlg=lg.predict(x_test)\n",
    "acc=accuracy_score(y_test,predlg)\n",
    "print('accuracy score of Logistic Regression is:',acc)\n",
    "print(confusion_matrix(y_test,predlg))\n",
    "print(classification_report(y_test,predlg))"
   ]
  },
  {
   "cell_type": "code",
   "execution_count": 190,
   "id": "fbacada1",
   "metadata": {},
   "outputs": [
    {
     "data": {
      "text/html": [
       "<div>\n",
       "<style scoped>\n",
       "    .dataframe tbody tr th:only-of-type {\n",
       "        vertical-align: middle;\n",
       "    }\n",
       "\n",
       "    .dataframe tbody tr th {\n",
       "        vertical-align: top;\n",
       "    }\n",
       "\n",
       "    .dataframe thead th {\n",
       "        text-align: right;\n",
       "    }\n",
       "</style>\n",
       "<table border=\"1\" class=\"dataframe\">\n",
       "  <thead>\n",
       "    <tr style=\"text-align: right;\">\n",
       "      <th></th>\n",
       "      <th>ActualRating</th>\n",
       "      <th>PredictedRating</th>\n",
       "    </tr>\n",
       "  </thead>\n",
       "  <tbody>\n",
       "    <tr>\n",
       "      <th>8035</th>\n",
       "      <td>5</td>\n",
       "      <td>5</td>\n",
       "    </tr>\n",
       "    <tr>\n",
       "      <th>3115</th>\n",
       "      <td>5</td>\n",
       "      <td>5</td>\n",
       "    </tr>\n",
       "    <tr>\n",
       "      <th>3732</th>\n",
       "      <td>5</td>\n",
       "      <td>5</td>\n",
       "    </tr>\n",
       "    <tr>\n",
       "      <th>2591</th>\n",
       "      <td>5</td>\n",
       "      <td>5</td>\n",
       "    </tr>\n",
       "    <tr>\n",
       "      <th>221</th>\n",
       "      <td>5</td>\n",
       "      <td>5</td>\n",
       "    </tr>\n",
       "    <tr>\n",
       "      <th>...</th>\n",
       "      <td>...</td>\n",
       "      <td>...</td>\n",
       "    </tr>\n",
       "    <tr>\n",
       "      <th>6029</th>\n",
       "      <td>5</td>\n",
       "      <td>5</td>\n",
       "    </tr>\n",
       "    <tr>\n",
       "      <th>815</th>\n",
       "      <td>5</td>\n",
       "      <td>5</td>\n",
       "    </tr>\n",
       "    <tr>\n",
       "      <th>1675</th>\n",
       "      <td>5</td>\n",
       "      <td>5</td>\n",
       "    </tr>\n",
       "    <tr>\n",
       "      <th>3589</th>\n",
       "      <td>2</td>\n",
       "      <td>2</td>\n",
       "    </tr>\n",
       "    <tr>\n",
       "      <th>12</th>\n",
       "      <td>4</td>\n",
       "      <td>4</td>\n",
       "    </tr>\n",
       "  </tbody>\n",
       "</table>\n",
       "<p>6600 rows × 2 columns</p>\n",
       "</div>"
      ],
      "text/plain": [
       "     ActualRating PredictedRating\n",
       "8035            5               5\n",
       "3115            5               5\n",
       "3732            5               5\n",
       "2591            5               5\n",
       "221             5               5\n",
       "...           ...             ...\n",
       "6029            5               5\n",
       "815             5               5\n",
       "1675            5               5\n",
       "3589            2               2\n",
       "12              4               4\n",
       "\n",
       "[6600 rows x 2 columns]"
      ]
     },
     "execution_count": 190,
     "metadata": {},
     "output_type": "execute_result"
    }
   ],
   "source": [
    "preddata=pd.DataFrame({'ActualRating':y_test,'PredictedRating':predlg})\n",
    "preddata"
   ]
  },
  {
   "cell_type": "code",
   "execution_count": null,
   "id": "36580f22",
   "metadata": {},
   "outputs": [],
   "source": []
  }
 ],
 "metadata": {
  "kernelspec": {
   "display_name": "Python 3 (ipykernel)",
   "language": "python",
   "name": "python3"
  },
  "language_info": {
   "codemirror_mode": {
    "name": "ipython",
    "version": 3
   },
   "file_extension": ".py",
   "mimetype": "text/x-python",
   "name": "python",
   "nbconvert_exporter": "python",
   "pygments_lexer": "ipython3",
   "version": "3.9.7"
  }
 },
 "nbformat": 4,
 "nbformat_minor": 5
}
